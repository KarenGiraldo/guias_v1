{
 "cells": [
  {
   "cell_type": "code",
   "execution_count": 1,
   "metadata": {},
   "outputs": [],
   "source": [
    "# Configuración servidor base de datos transaccional\n",
    "# Utilizar el usuario asignado en el curso\n",
    "db_user = 'Estudiante_19_202413'\n",
    "db_psswd = 'aabb1122'"
   ]
  },
  {
   "cell_type": "code",
   "execution_count": 2,
   "metadata": {},
   "outputs": [],
   "source": [
    "source_db_connection_string = 'jdbc:mysql://157.253.236.120:8080/RaSaTransaccional_ETL'\n",
    "\n",
    "dest_db_connection_string = 'jdbc:mysql://157.253.236.120:8080/Estudiante_19_202413'\n",
    "\n",
    "# Driver de conexion\n",
    "path_jar_driver = 'C:\\Program Files (x86)\\MySQL\\Connector J 8.0\\mysql-connector-java-8.0.28.jar'"
   ]
  },
  {
   "cell_type": "code",
   "execution_count": 242,
   "metadata": {},
   "outputs": [],
   "source": [
    "import os \n",
    "from pyspark.sql import functions as f, SparkSession, types as t\n",
    "from pyspark.sql.functions import lit\n",
    "from pyspark import SparkContext, SparkConf, SQLContext\n",
    "from pyspark.sql.functions import udf, col, length, isnan, when, count, regexp_replace, year, month, dayofmonth, concat, current_date, expr,substring,lower\n",
    "from pyspark.sql.functions import col, when, length, lit, year, month, dayofmonth, concat, current_date, expr, to_date\n",
    "import mysql.connector\n",
    "from pyspark.sql.window import Window\n",
    "from datetime import datetime\n",
    "from pyspark.sql import functions as F"
   ]
  },
  {
   "cell_type": "code",
   "execution_count": 4,
   "metadata": {},
   "outputs": [
    {
     "name": "stderr",
     "output_type": "stream",
     "text": [
      "C:\\Users\\estudiante\\anaconda3\\envs\\Tutoriales\\lib\\site-packages\\pyspark\\sql\\context.py:79: FutureWarning: Deprecated in 3.0.0. Use SparkSession.builder.getOrCreate() instead.\n",
      "  FutureWarning\n"
     ]
    }
   ],
   "source": [
    "#Configuración de la sesión\n",
    "conf=SparkConf() \\\n",
    "    .set('spark.driver.extraClassPath', path_jar_driver)\n",
    "\n",
    "spark_context = SparkContext(conf=conf)\n",
    "sql_context = SQLContext(spark_context)\n",
    "spark = sql_context.sparkSession\n",
    "spark.conf.set(\"spark.sql.hive.convertMetastoreParquet\", \"false\")\n"
   ]
  },
  {
   "cell_type": "markdown",
   "metadata": {},
   "source": [
    "### Conexión y carga de datos"
   ]
  },
  {
   "cell_type": "markdown",
   "metadata": {},
   "source": [
    "Se define la función para conexión y cargue de dataframes desde la base de datos origen y luego la función para guardar un dataframe en una tabla de la base de datos destino."
   ]
  },
  {
   "cell_type": "code",
   "execution_count": 5,
   "metadata": {},
   "outputs": [],
   "source": [
    "def obterner_dataframe_desde_csv(_PATH, _sep):\n",
    "    return spark.read.load(_PATH, format=\"csv\", sep=_sep, inferSchema=\"true\", header='true')\n",
    "\n",
    "def obtener_dataframe_de_bd(db_connection_string, sql, db_user, db_psswd):\n",
    "    df_bd = spark.read.format('jdbc')\\\n",
    "        .option('url', db_connection_string) \\\n",
    "        .option('dbtable', sql) \\\n",
    "        .option('user', db_user) \\\n",
    "        .option('password', db_psswd) \\\n",
    "        .option('driver', 'com.mysql.cj.jdbc.Driver') \\\n",
    "        .load()\n",
    "    return df_bd\n",
    "\n",
    "def guardar_db(db_connection_string, df, tabla, db_user, db_psswd):\n",
    "    df.select('*').write.format('jdbc') \\\n",
    "      .mode('append') \\\n",
    "      .option('url', db_connection_string) \\\n",
    "      .option('dbtable', tabla) \\\n",
    "      .option('user', db_user) \\\n",
    "      .option('password', db_psswd) \\\n",
    "      .option('driver', 'com.mysql.cj.jdbc.Driver') \\\n",
    "      .save()"
   ]
  },
  {
   "cell_type": "markdown",
   "metadata": {},
   "source": [
    "### Extracción"
   ]
  },
  {
   "cell_type": "code",
   "execution_count": 414,
   "metadata": {
    "tags": []
   },
   "outputs": [],
   "source": [
    "areas_servicio = obtener_dataframe_de_bd(source_db_connection_string, \"FuenteAreasDeServicio_ETL\", db_user, db_psswd)\n",
    "condiciones_pago = obtener_dataframe_de_bd(source_db_connection_string, \"FuenteCondicionesDePago_ETL\", db_user, db_psswd)\n",
    "planes_beneficio = obtener_dataframe_de_bd(source_db_connection_string, \"FuentePlanesBeneficio_ETL\", db_user, db_psswd)\n",
    "tipos_beneficio = obtener_dataframe_de_bd(source_db_connection_string, \"FuenteTiposBeneficio_ETL\", db_user, db_psswd)\n",
    "niveles_servicio = obtener_dataframe_de_bd(source_db_connection_string, \"NivelesDeServicio\", db_user, db_psswd)"
   ]
  },
  {
   "cell_type": "markdown",
   "metadata": {},
   "source": [
    "### Transformación"
   ]
  },
  {
   "cell_type": "markdown",
   "metadata": {},
   "source": [
    "#### Transformación en niveles de servicio"
   ]
  },
  {
   "cell_type": "code",
   "execution_count": 415,
   "metadata": {
    "scrolled": true
   },
   "outputs": [
    {
     "data": {
      "text/plain": [
       "3"
      ]
     },
     "execution_count": 415,
     "metadata": {},
     "output_type": "execute_result"
    }
   ],
   "source": [
    "niveles_servicio.count()"
   ]
  },
  {
   "cell_type": "markdown",
   "metadata": {},
   "source": [
    "A niveles de servicio se le quitaron duplicados."
   ]
  },
  {
   "cell_type": "code",
   "execution_count": 416,
   "metadata": {},
   "outputs": [
    {
     "name": "stdout",
     "output_type": "stream",
     "text": [
      "+---------------------+-------------------+---------------+\n",
      "|IdNivelDeServicio_DWH|IdNivelDeServicio_T|    Descripcion|\n",
      "+---------------------+-------------------+---------------+\n",
      "|                    1|                  1|        Nivel 1|\n",
      "|                    2|                  2|        Nivel 2|\n",
      "|                    3|                  3|Fuera de la red|\n",
      "+---------------------+-------------------+---------------+\n",
      "\n"
     ]
    }
   ],
   "source": [
    "niveles_servicio = niveles_servicio.dropDuplicates()\n",
    "niveles_servicio.show()"
   ]
  },
  {
   "cell_type": "markdown",
   "metadata": {},
   "source": [
    "#### Transformación en areas de servicio"
   ]
  },
  {
   "cell_type": "code",
   "execution_count": 417,
   "metadata": {
    "scrolled": false
   },
   "outputs": [
    {
     "name": "stdout",
     "output_type": "stream",
     "text": [
      "268444\n",
      "+------------------+--------------------+-------------+-----------------+----------+------------+-----+--------+-----+\n",
      "|IdAreaDeServicio_T|NombreAreaDeServicio|IdGeografia_T|          Condado|    Estado|PoblacionAct| Area|Densidad|Fecha|\n",
      "+------------------+--------------------+-------------+-----------------+----------+------------+-----+--------+-----+\n",
      "|         100622017|New Jersey - Medi...|        34005|Burlington County|New Jersey|      464269|805.0|   577.0| 2017|\n",
      "|         100722019|New Jersey  - Med...|        34023| Middlesex County|New Jersey|      860807|311.0|  2768.0| 2019|\n",
      "|         100922020|New Jersey - Medi...|        34019| Hunterdon County|New Jersey|      129924|430.0|   302.0| 2020|\n",
      "|         101012018|New Jersey - Medi...|        34031|   Passaic County|New Jersey|      518117|185.0|  2801.0| 2018|\n",
      "|         101062020|New Jersey - Medi...|        34031|   Passaic County|New Jersey|      518117|185.0|  2801.0| 2020|\n",
      "+------------------+--------------------+-------------+-----------------+----------+------------+-----+--------+-----+\n",
      "only showing top 5 rows\n",
      "\n",
      "root\n",
      " |-- IdAreaDeServicio_T: integer (nullable = true)\n",
      " |-- NombreAreaDeServicio: string (nullable = true)\n",
      " |-- IdGeografia_T: integer (nullable = true)\n",
      " |-- Condado: string (nullable = true)\n",
      " |-- Estado: string (nullable = true)\n",
      " |-- PoblacionAct: string (nullable = true)\n",
      " |-- Area: double (nullable = true)\n",
      " |-- Densidad: double (nullable = true)\n",
      " |-- Fecha: integer (nullable = true)\n",
      "\n"
     ]
    }
   ],
   "source": [
    "print(areas_servicio.count())\n",
    "areas_servicio.show(5)\n",
    "areas_servicio.printSchema()"
   ]
  },
  {
   "cell_type": "markdown",
   "metadata": {},
   "source": [
    "Se quitaron en la columna \"Area\" las negativas"
   ]
  },
  {
   "cell_type": "code",
   "execution_count": 418,
   "metadata": {
    "scrolled": true
   },
   "outputs": [
    {
     "name": "stdout",
     "output_type": "stream",
     "text": [
      "+------------------+--------------------+-------------+------------------+--------------+------------+-------+--------+-----+\n",
      "|IdAreaDeServicio_T|NombreAreaDeServicio|IdGeografia_T|           Condado|        Estado|PoblacionAct|   Area|Densidad|Fecha|\n",
      "+------------------+--------------------+-------------+------------------+--------------+------------+-------+--------+-----+\n",
      "|          24242020|KANSAS25268KS0020...|        20175|     Seward County|        Kansas|       21747| -640.0|    34.0| 2020|\n",
      "|          21192018|Marketplace Selec...|        42113|   Sullivan County|  Pennsylvania|        5868| -452.0|    13.0| 2018|\n",
      "|          15162019|Health Alliance P...|        17115|      Macon County|      Illinois|      102432| -580.0|   177.0| 2019|\n",
      "|          16132019|Health Alliance E...|        17157|   Randolph County|      Illinois|       30142| -575.0|    52.0| 2019|\n",
      "|          14062020|Health Alliance I...|        17161|Rock Island County|      Illinois|      142909| -427.0|   335.0| 2020|\n",
      "|          97992018|Small Group89942G...|        13221| Oglethorpe County|       Georgia|       15140| -441.0|    34.0| 2018|\n",
      "|          51452017|Medica Connect395...|        20045|    Douglas County|        Kansas|      119363| -457.0|   261.0| 2017|\n",
      "|          44272017|Anthem Health Pla...|        21085|    Grayson County|      Kentucky|       26524| -504.0|    53.0| 2017|\n",
      "|          81142021|Rural66252TX01400...|        48067|       Cass County|         Texas|       28560| -938.0|    30.0| 2021|\n",
      "|          75062019|Avera Health Plan...|        46089|  McPherson County|  South Dakota|        2420|-1137.0|     2.0| 2019|\n",
      "|          74462020|Georgia60224GA001...|        13187|    Lumpkin County|       Georgia|       34278| -284.0|   121.0| 2020|\n",
      "|            882017|Wyoming11269WY008...|        56017|Hot Springs County|       Wyoming|        4597|-2004.0|     2.0| 2017|\n",
      "|          39692018|DSM USA OHIO34964...|        39021|  Champaign County|          Ohio|       38699| -428.0|    90.0| 2018|\n",
      "|         102582019|New Jersey  - Med...|        34015| Gloucester County|    New Jersey|      304477| -325.0|   937.0| 2019|\n",
      "|          28652019|Community Insuran...|        39087|   Lawrence County|          Ohio|       57445| -454.0|   127.0| 2019|\n",
      "|          17732019|Medica Insure2030...|        31007|     Banner County|      Nebraska|         692| -746.0|     1.0| 2019|\n",
      "|          36342020|Connected Care Ne...|        30063|   Missoula County|       Montana|      119533|-2598.0|    46.0| 2020|\n",
      "|         116892021|Home State Health...|        29049|    Clinton County|      Missouri|       21287| -419.0|    51.0| 2021|\n",
      "|          24562021|SC Statewide26065...|        45055|    Kershaw County|South Carolina|       66130| -740.0|    89.0| 2021|\n",
      "|          75222019|Avera Health Plan...|        46115|      Spink County|  South Dakota|        6269|-1504.0|     4.0| 2019|\n",
      "+------------------+--------------------+-------------+------------------+--------------+------------+-------+--------+-----+\n",
      "only showing top 20 rows\n",
      "\n"
     ]
    }
   ],
   "source": [
    "areas_negativas = areas_servicio.filter(col(\"Area\") < 0)\n",
    "areas_negativas.show()"
   ]
  },
  {
   "cell_type": "code",
   "execution_count": 419,
   "metadata": {},
   "outputs": [],
   "source": [
    "areas_servicio = areas_servicio.withColumn(\"Area\", when(col(\"Area\") < 0, col(\"Area\") * -1).otherwise(col(\"Area\")))"
   ]
  },
  {
   "cell_type": "code",
   "execution_count": 420,
   "metadata": {},
   "outputs": [
    {
     "data": {
      "text/plain": [
       "26844"
      ]
     },
     "execution_count": 420,
     "metadata": {},
     "output_type": "execute_result"
    }
   ],
   "source": [
    "incorrectos = areas_servicio.filter(col(\"PoblacionAct\").cast(\"string\").endswith(\"0001\"))\n",
    "\n",
    "incorrectos.count()"
   ]
  },
  {
   "cell_type": "code",
   "execution_count": 421,
   "metadata": {},
   "outputs": [],
   "source": [
    "areas_servicio = areas_servicio.withColumn(\n",
    "    \"PoblacionAct\",\n",
    "    when(\n",
    "        col(\"PoblacionAct\").cast(\"string\").endswith(\"0001\"),\n",
    "        expr(\"cast(substr(cast(PoblacionAct as string), 1, length(cast(PoblacionAct as string)) - 4) as int)\")\n",
    "    ).otherwise(col(\"PoblacionAct\"))\n",
    ")\n"
   ]
  },
  {
   "cell_type": "markdown",
   "metadata": {},
   "source": [
    "Se quitaron duplicados u se agregaron las llaves \"IdAreaDeServicio_DWH\" y \"IdGeografia_DWH\""
   ]
  },
  {
   "cell_type": "code",
   "execution_count": 422,
   "metadata": {},
   "outputs": [],
   "source": [
    "areas_servicio = areas_servicio.dropDuplicates()\n",
    "\n",
    "areas_servicio = areas_servicio.withColumn('IdAreaDeServicio_DWH', f.monotonically_increasing_id() + 1)\n",
    "areas_servicio = areas_servicio.withColumn('IdGeografia_DWH', f.monotonically_increasing_id() + 1)"
   ]
  },
  {
   "cell_type": "markdown",
   "metadata": {},
   "source": [
    "#### Transformación en planes beneficio"
   ]
  },
  {
   "cell_type": "code",
   "execution_count": 423,
   "metadata": {
    "scrolled": false
   },
   "outputs": [
    {
     "name": "stdout",
     "output_type": "stream",
     "text": [
      "70752\n",
      "+-----------------+------------------+-------------------------+---------------------------+-----------------+-----------------+----------+-------------+-----------+-------------+--------------+\n",
      "|IdTipoBeneficio_T|IdAreaDeServicio_T|IdCondicionDePagoCopago_T|IdCondicionDePagoCoseguro_T|IdNivelServicio_T|         IdPlan_T|     Fecha|IdProveedor_T|valorCopago|valorCoseguro|cantidadLimite|\n",
      "+-----------------+------------------+-------------------------+---------------------------+-----------------+-----------------+----------+-------------+-----------+-------------+--------------+\n",
      "|              640|          10382017|                       34|                         27|                3|16842FL0070128-03|2017-12-31|        16842|          0|           50|          35.0|\n",
      "|              335|           5652019|                      238|                         45|                2|14002TN0400104-06|2019-12-31|        14002|          0|            0|           1.0|\n",
      "|              885|          12172020|                       34|                         45|                3|19722NM0010001-02|2020-12-31|        19722|          0|          100|          null|\n",
      "|               10|          91712019|                      238|                         45|                1|81413WI0460015-01|2019-12-31|        81413|          0|            0|          null|\n",
      "|              190|          66252017|                      238|                         45|                1|52697WI0010002-00|2017-12-31|        52697|          0|            0|          null|\n",
      "+-----------------+------------------+-------------------------+---------------------------+-----------------+-----------------+----------+-------------+-----------+-------------+--------------+\n",
      "only showing top 5 rows\n",
      "\n",
      "root\n",
      " |-- IdTipoBeneficio_T: integer (nullable = true)\n",
      " |-- IdAreaDeServicio_T: integer (nullable = true)\n",
      " |-- IdCondicionDePagoCopago_T: integer (nullable = true)\n",
      " |-- IdCondicionDePagoCoseguro_T: integer (nullable = true)\n",
      " |-- IdNivelServicio_T: integer (nullable = true)\n",
      " |-- IdPlan_T: string (nullable = true)\n",
      " |-- Fecha: string (nullable = true)\n",
      " |-- IdProveedor_T: integer (nullable = true)\n",
      " |-- valorCopago: integer (nullable = true)\n",
      " |-- valorCoseguro: string (nullable = true)\n",
      " |-- cantidadLimite: double (nullable = true)\n",
      "\n"
     ]
    }
   ],
   "source": [
    "print(planes_beneficio.count())\n",
    "planes_beneficio.show(5)\n",
    "planes_beneficio.printSchema()"
   ]
  },
  {
   "cell_type": "markdown",
   "metadata": {},
   "source": [
    "Ajustar el formato de fechas"
   ]
  },
  {
   "cell_type": "code",
   "execution_count": 424,
   "metadata": {
    "scrolled": true
   },
   "outputs": [],
   "source": [
    "planes_beneficio = planes_beneficio.withColumn(\"Fecha\", when(col(\"Fecha\").isNull(), lit(\"2017-01-01\")).otherwise(col(\"Fecha\")))\n",
    "planes_beneficio = planes_beneficio.withColumn(\"Fecha\", when(length(col(\"Fecha\")) == 7, concat(col(\"Fecha\"), lit(\"-01\"))).otherwise(col(\"Fecha\")))\n",
    "planes_beneficio = planes_beneficio.withColumn(\"Fecha\", when(length(col(\"Fecha\")) == 4, concat(col(\"Fecha\"), lit(\"-01-01\"))).otherwise(col(\"Fecha\")))\n",
    "planes_beneficio = planes_beneficio.withColumn(\"Fecha\", to_date(col(\"Fecha\"), \"yyyy-MM-dd\"))"
   ]
  },
  {
   "cell_type": "code",
   "execution_count": 425,
   "metadata": {},
   "outputs": [],
   "source": [
    "planes_beneficio = planes_beneficio.withColumn(\"cantidadLimite\", when((col(\"cantidadLimite\").isNull()) | (col(\"cantidadLimite\") == 0), lit(333)).otherwise(col(\"cantidadLimite\")))\n",
    "\n",
    "planes_beneficio = planes_beneficio.dropDuplicates()\n",
    "\n",
    "planes_beneficio = planes_beneficio.withColumn('IdPlan_DWH', f.monotonically_increasing_id() + 1)\n",
    "planes_beneficio = planes_beneficio.withColumn('IdProveedor_DWH', f.monotonically_increasing_id() + 1)"
   ]
  },
  {
   "cell_type": "markdown",
   "metadata": {},
   "source": [
    "#### Transformación Tipos de Beneficio"
   ]
  },
  {
   "cell_type": "code",
   "execution_count": 426,
   "metadata": {},
   "outputs": [
    {
     "name": "stdout",
     "output_type": "stream",
     "text": [
      "449\n",
      "+-----------------+--------------------+-------------------+-----+---------------------+-----------------------+----------------------------------------+---------------------------------------+-----+\n",
      "|IdTipoBeneficio_T|              Nombre|    UnidadDelLimite|EsEHB|EstaCubiertaPorSeguro|TieneLimiteCuantitativo|ExcluidoDelDesembolsoMaximoDentroDeLaRed|ExcluidoDelDesembolsoMaximoFueraDeLaRed|Fecha|\n",
      "+-----------------+--------------------+-------------------+-----+---------------------+-----------------------+----------------------------------------+---------------------------------------+-----+\n",
      "|                5|Abortion For Whic...|                   |   No|                   No|                     No|                                      No|                                     No| 2017|\n",
      "|                5|Abortion For Whic...|                   |   No|                  Yes|                     No|                                      No|                                    Yes| 2020|\n",
      "|               10|   Accidental Dental|Dollars per Episode|  Yes|                  Yes|                    Yes|                                      No|                                     No| 2017|\n",
      "|               10|   Accidental Dental|                   |  Yes|                   No|                     No|                                      No|                                     No| 2019|\n",
      "|               20|Adult Frames And ...|   Item(s) per Year|   No|                  Yes|                    Yes|                                     Yes|                                    Yes| 2019|\n",
      "+-----------------+--------------------+-------------------+-----+---------------------+-----------------------+----------------------------------------+---------------------------------------+-----+\n",
      "only showing top 5 rows\n",
      "\n",
      "root\n",
      " |-- IdTipoBeneficio_T: integer (nullable = true)\n",
      " |-- Nombre: string (nullable = true)\n",
      " |-- UnidadDelLimite: string (nullable = true)\n",
      " |-- EsEHB: string (nullable = true)\n",
      " |-- EstaCubiertaPorSeguro: string (nullable = true)\n",
      " |-- TieneLimiteCuantitativo: string (nullable = true)\n",
      " |-- ExcluidoDelDesembolsoMaximoDentroDeLaRed: string (nullable = true)\n",
      " |-- ExcluidoDelDesembolsoMaximoFueraDeLaRed: string (nullable = true)\n",
      " |-- Fecha: integer (nullable = true)\n",
      "\n"
     ]
    }
   ],
   "source": [
    "print(tipos_beneficio.count())\n",
    "tipos_beneficio.show(5)\n",
    "tipos_beneficio.printSchema()"
   ]
  },
  {
   "cell_type": "code",
   "execution_count": 427,
   "metadata": {},
   "outputs": [
    {
     "name": "stdout",
     "output_type": "stream",
     "text": [
      "Número de valores inconsistentes en 'EsEHB': 22\n",
      "Número de valores inconsistentes en 'EstaCubiertaPorSeguro': 2\n",
      "Número de valores inconsistentes en 'TieneLimiteCuantitativo': 13\n",
      "Número de valores inconsistentes en 'ExcluidoDelDesembolsoMaximoDentroDeLaRed': 0\n",
      "Número de valores inconsistentes en 'ExcluidoDelDesembolsoMaximoFueraDeLaRed': 0\n"
     ]
    }
   ],
   "source": [
    "columns = [\"EsEHB\", \"EstaCubiertaPorSeguro\", \"TieneLimiteCuantitativo\", \"ExcluidoDelDesembolsoMaximoDentroDeLaRed\", \"ExcluidoDelDesembolsoMaximoFueraDeLaRed\"]\n",
    "\n",
    "for column in columns:\n",
    "    count_inconsistent = tipos_beneficio.filter(~col(column).isin(\"Yes\", \"No\")).count()\n",
    "    print(f\"Número de valores inconsistentes en '{column}': {count_inconsistent}\")\n"
   ]
  },
  {
   "cell_type": "code",
   "execution_count": 428,
   "metadata": {},
   "outputs": [],
   "source": [
    "tipos_beneficio = tipos_beneficio.withColumn(\"EsEHB\", when(col(\"EsEHB\").isin(\"Yes\", \"No\"), col(\"EsEHB\")).otherwise(lit(\"No\"))) \\\n",
    "                                       .withColumn(\"EstaCubiertaPorSeguro\", when(col(\"EstaCubiertaPorSeguro\").isin(\"Yes\", \"No\"), col(\"EstaCubiertaPorSeguro\")).otherwise(lit(\"No\"))) \\\n",
    "                                       .withColumn(\"TieneLimiteCuantitativo\", when(col(\"TieneLimiteCuantitativo\").isin(\"Yes\", \"No\"), col(\"TieneLimiteCuantitativo\")).otherwise(lit(\"No\"))) \\\n",
    "                                       .withColumn(\"ExcluidoDelDesembolsoMaximoDentroDeLaRed\", when(col(\"ExcluidoDelDesembolsoMaximoDentroDeLaRed\").isin(\"Yes\", \"No\"), col(\"ExcluidoDelDesembolsoMaximoDentroDeLaRed\")).otherwise(lit(\"No\"))) \\\n",
    "                                       .withColumn(\"ExcluidoDelDesembolsoMaximoFueraDeLaRed\", when(col(\"ExcluidoDelDesembolsoMaximoFueraDeLaRed\").isin(\"Yes\", \"No\"), col(\"ExcluidoDelDesembolsoMaximoFueraDeLaRed\")).otherwise(lit(\"No\")))\n",
    "\n",
    "tipos_beneficio = tipos_beneficio.dropDuplicates()\n",
    "\n",
    "tipos_beneficio = tipos_beneficio.withColumn('IdTipoBeneficio_DWH', f.monotonically_increasing_id() + 1)\n",
    "tipos_beneficio = tipos_beneficio.withColumn('IdCondicionesTipoBeneficio_DWH', f.monotonically_increasing_id() + 1)\n",
    "\n"
   ]
  },
  {
   "cell_type": "code",
   "execution_count": 429,
   "metadata": {},
   "outputs": [],
   "source": [
    "tipos_beneficio = tipos_beneficio.withColumn('FechaInicio', concat(col(\"Fecha\"), lit('-01-01')))\n",
    "windowSpec = Window.partitionBy(\"IdTipoBeneficio_T\").orderBy(\"FechaInicio\")\n"
   ]
  },
  {
   "cell_type": "code",
   "execution_count": 430,
   "metadata": {},
   "outputs": [
    {
     "name": "stdout",
     "output_type": "stream",
     "text": [
      "+-----------------+--------------------+-------------------+-----+---------------------+-----------------------+----------------------------------------+---------------------------------------+-----+-------------------+------------------------------+-----------+----------+\n",
      "|IdTipoBeneficio_T|              Nombre|    UnidadDelLimite|EsEHB|EstaCubiertaPorSeguro|TieneLimiteCuantitativo|ExcluidoDelDesembolsoMaximoDentroDeLaRed|ExcluidoDelDesembolsoMaximoFueraDeLaRed|Fecha|IdTipoBeneficio_DWH|IdCondicionesTipoBeneficio_DWH|FechaInicio|  FechaFin|\n",
      "+-----------------+--------------------+-------------------+-----+---------------------+-----------------------+----------------------------------------+---------------------------------------+-----+-------------------+------------------------------+-----------+----------+\n",
      "|                5|Abortion For Whic...|                   |   No|                   No|                     No|                                      No|                                     No| 2017|                 46|                            46| 2017-01-01|2017-12-31|\n",
      "|                5|Abortion For Whic...|                   |   No|                   No|                     No|                                     Yes|                                    Yes| 2018|                207|                           207| 2018-01-01|2019-12-31|\n",
      "|                5|Abortion For Whic...|                   |   No|                  Yes|                     No|                                      No|                                    Yes| 2020|                 36|                            36| 2020-01-01|2199-12-31|\n",
      "|               10|   Accidental Dental|Dollars per Episode|  Yes|                  Yes|                    Yes|                                      No|                                     No| 2017|                  3|                             3| 2017-01-01|2017-12-31|\n",
      "|               10|   Accidental Dental|                   |   No|                  Yes|                     No|                                     Yes|                                    Yes| 2018|                151|                           151| 2018-01-01|2018-12-31|\n",
      "+-----------------+--------------------+-------------------+-----+---------------------+-----------------------+----------------------------------------+---------------------------------------+-----+-------------------+------------------------------+-----------+----------+\n",
      "only showing top 5 rows\n",
      "\n"
     ]
    }
   ],
   "source": [
    "tipos_beneficio = tipos_beneficio.withColumn(\"FechaFin\",\n",
    "    F.when(\n",
    "        F.lead(F.col(\"IdTipoBeneficio_T\")).over(windowSpec) != F.col(\"IdTipoBeneficio_T\"),\n",
    "        F.lit(\"2199-12-31\")  # Cuando el siguiente IdTipoBeneficio_T es diferente\n",
    "    ).when(\n",
    "        (F.lead(F.col(\"IdTipoBeneficio_T\")).over(windowSpec) == F.col(\"IdTipoBeneficio_T\")) &\n",
    "        (F.lead(F.col(\"FechaInicio\"), 1).over(windowSpec) != F.col(\"FechaInicio\")),\n",
    "        F.lit(F.date_format(F.date_sub(F.lead(\"FechaInicio\", 1).over(windowSpec), 1), \"yyyy-MM-dd\"))  # Resta 1 día al inicio del siguiente registro\n",
    "    ).otherwise(\n",
    "        F.lit(\"2199-12-31\")  # Por defecto para otros casos\n",
    "    )\n",
    ")\n",
    "\n",
    "tipos_beneficio.show(5)"
   ]
  },
  {
   "cell_type": "markdown",
   "metadata": {},
   "source": [
    "#### Transformación condiciones de pago"
   ]
  },
  {
   "cell_type": "code",
   "execution_count": 431,
   "metadata": {
    "scrolled": true
   },
   "outputs": [
    {
     "name": "stdout",
     "output_type": "stream",
     "text": [
      "26\n",
      "+---------------------+--------------------+-----------+\n",
      "|IdCondicionesDePago_T|         Descripcion|       Tipo|\n",
      "+---------------------+--------------------+-----------+\n",
      "|                  187|Copay with deduct...|     Copago|\n",
      "|                  204|       Copay per Day|     Copago|\n",
      "|                   45|         Coinsurance|   Coseguro|\n",
      "|                   85|Copay per Day bef...|     Copago|\n",
      "|                   18|No Charge after d...|   Coseguro|\n",
      "|                   27|Coinsurance after...|   Coseguro|\n",
      "|                  238|               Copay|     Copago|\n",
      "|                  207|No Charge after d...|     Copago|\n",
      "|                   68|Copay per Stay af...|     Copago|\n",
      "|                  153|Copay after deduc...|     Copago|\n",
      "|                   36|      Not Applicable|   Coseguro|\n",
      "|                  221|      Copay per Stay|     Copago|\n",
      "|                  119|Copay per Day wit...|     Copago|\n",
      "|                  170|Copay before dedu...|     Copago|\n",
      "|                   51|           No Charge|     Copago|\n",
      "|                  102|Copay per Stay be...|     Copago|\n",
      "|                  136|Copay per Stay wi...|   Copagado|\n",
      "|                   34|      Not Applicable|   Copagado|\n",
      "|                   17|Copay per Day aft...|   Copagado|\n",
      "|                    9|           No Charge|Coseguridad|\n",
      "+---------------------+--------------------+-----------+\n",
      "only showing top 20 rows\n",
      "\n",
      "root\n",
      " |-- IdCondicionesDePago_T: integer (nullable = true)\n",
      " |-- Descripcion: string (nullable = true)\n",
      " |-- Tipo: string (nullable = true)\n",
      "\n"
     ]
    }
   ],
   "source": [
    "print(condiciones_pago.count())\n",
    "condiciones_pago.show()\n",
    "condiciones_pago.printSchema()"
   ]
  },
  {
   "cell_type": "code",
   "execution_count": 432,
   "metadata": {},
   "outputs": [
    {
     "name": "stdout",
     "output_type": "stream",
     "text": [
      "+-----------+-----+\n",
      "|       Tipo|count|\n",
      "+-----------+-----+\n",
      "|   Copagado|    5|\n",
      "|Coseguridad|    1|\n",
      "|     Copago|   15|\n",
      "|   Coseguro|    5|\n",
      "+-----------+-----+\n",
      "\n"
     ]
    }
   ],
   "source": [
    "(condiciones_pago.groupBy(\"Tipo\").count()).show()"
   ]
  },
  {
   "cell_type": "code",
   "execution_count": 433,
   "metadata": {
    "scrolled": true
   },
   "outputs": [],
   "source": [
    "condiciones_pago = condiciones_pago.withColumn(\n",
    "    \"Tipo\",\n",
    "    when(lower(col(\"Tipo\")).startswith(\"cop\"), lit(\"Copago\"))\n",
    "    .when(lower(col(\"Tipo\")).startswith(\"cos\"), lit(\"Coseguro\"))\n",
    "    .otherwise(col(\"Tipo\"))\n",
    ")\n",
    "condiciones_pago = condiciones_pago.dropDuplicates()\n",
    "condiciones_pago = condiciones_pago.withColumn('IdCondicionesDePago_DWH', f.monotonically_increasing_id() + 1)\n"
   ]
  },
  {
   "cell_type": "markdown",
   "metadata": {},
   "source": [
    "#### Creación de tablas"
   ]
  },
  {
   "cell_type": "markdown",
   "metadata": {},
   "source": [
    "#### Dimensiones"
   ]
  },
  {
   "cell_type": "code",
   "execution_count": 434,
   "metadata": {},
   "outputs": [],
   "source": [
    "# Guardar los datos en las tablas creadas\n",
    "#guardar_db(dest_db_connection_string, areas_servicio, \"AreasDeServicio\", db_user, db_psswd)\n",
    "#guardar_db(dest_db_connection_string, condiciones_pago, \"CondicionesDePago\", db_user, db_psswd)\n",
    "#guardar_db(dest_db_connection_string, tipos_beneficio, \"TiposBeneficio\", db_user, db_psswd)\n",
    "#guardar_db(dest_db_connection_string, niveles_servicio, \"NivelesDeServicio\", db_user, db_psswd)\n"
   ]
  },
  {
   "cell_type": "code",
   "execution_count": 435,
   "metadata": {},
   "outputs": [
    {
     "name": "stdout",
     "output_type": "stream",
     "text": [
      "268445\n",
      "+--------------------+------------------+--------------------+------------+\n",
      "|IdAreaDeServicio_DWH|IdAreaDeServicio_T|              Nombre|AnnoCreacion|\n",
      "+--------------------+------------------+--------------------+------------+\n",
      "|                   1|         106862021|Medica Insure9307...|        2021|\n",
      "|                   2|         112302018|Statewide Medical...|        2018|\n",
      "|                   3|          75752018|Avera Health Plan...|        2018|\n",
      "|                   4|          99152017|Ambetter of Magno...|        2017|\n",
      "|                   5|         115692019|Home State Health...|        2019|\n",
      "+--------------------+------------------+--------------------+------------+\n",
      "only showing top 5 rows\n",
      "\n",
      "root\n",
      " |-- IdAreaDeServicio_DWH: long (nullable = true)\n",
      " |-- IdAreaDeServicio_T: long (nullable = true)\n",
      " |-- Nombre: string (nullable = true)\n",
      " |-- AnnoCreacion: string (nullable = true)\n",
      "\n"
     ]
    }
   ],
   "source": [
    "dim_areas_servicio = areas_servicio.select(\n",
    "    col(\"IdAreaDeServicio_DWH\"),\n",
    "    col(\"IdAreaDeServicio_T\"),\n",
    "    col(\"NombreAreaDeServicio\").alias(\"Nombre\"),\n",
    "    col(\"Fecha\").alias(\"AnnoCreacion\")\n",
    ")\n",
    "desconocido_area = spark.createDataFrame([(0, 0,\"Desconocido\", \"1900-01-01\")], [\"IdAreaDeServicio_DWH\", \"IdAreaDeServicio_T\",\"Nombre\", \"AnnoCreacion\"])\n",
    "dim_areas_servicio = dim_areas_servicio.union(desconocido_area)\n",
    "\n",
    "print(dim_areas_servicio.count())\n",
    "dim_areas_servicio.show(5)\n",
    "dim_areas_servicio.printSchema()"
   ]
  },
  {
   "cell_type": "code",
   "execution_count": 436,
   "metadata": {},
   "outputs": [
    {
     "name": "stdout",
     "output_type": "stream",
     "text": [
      "20\n",
      "+-----------------------+---------------------+--------------------+--------+\n",
      "|IdCondicionesDePago_DWH|IdCondicionesDePago_T|         Descripcion|    Tipo|\n",
      "+-----------------------+---------------------+--------------------+--------+\n",
      "|                      1|                  221|      Copay per Stay|  Copago|\n",
      "|                      2|                   51|           No Charge|  Copago|\n",
      "|                      3|                   36|      Not Applicable|Coseguro|\n",
      "|                      4|                   27|Coinsurance after...|Coseguro|\n",
      "|                      5|                   17|Copay per Day aft...|  Copago|\n",
      "+-----------------------+---------------------+--------------------+--------+\n",
      "only showing top 5 rows\n",
      "\n",
      "root\n",
      " |-- IdCondicionesDePago_DWH: long (nullable = false)\n",
      " |-- IdCondicionesDePago_T: integer (nullable = true)\n",
      " |-- Descripcion: string (nullable = true)\n",
      " |-- Tipo: string (nullable = true)\n",
      "\n"
     ]
    }
   ],
   "source": [
    "dim_condiciones_pago = condiciones_pago.select(\n",
    "    col(\"IdCondicionesDePago_DWH\"),\n",
    "    col(\"IdCondicionesDePago_T\"),\n",
    "    col(\"Descripcion\"),\n",
    "    col(\"Tipo\")\n",
    ").distinct()\n",
    "\n",
    "print(dim_condiciones_pago.count())\n",
    "dim_condiciones_pago.show(5)\n",
    "dim_condiciones_pago.printSchema()"
   ]
  },
  {
   "cell_type": "code",
   "execution_count": 437,
   "metadata": {},
   "outputs": [
    {
     "name": "stdout",
     "output_type": "stream",
     "text": [
      "70752\n",
      "+---------------+-------------+\n",
      "|IdProveedor_DWH|IdProveedor_T|\n",
      "+---------------+-------------+\n",
      "|            247|        38345|\n",
      "|            429|        91450|\n",
      "|           1432|        36194|\n",
      "|           1577|        30252|\n",
      "|           1715|        36096|\n",
      "|           1933|        12379|\n",
      "|           1958|        14002|\n",
      "|           2091|        67243|\n",
      "|           2135|        27833|\n",
      "|           2162|        87247|\n",
      "|           2369|        94529|\n",
      "|           2530|        96751|\n",
      "|           2591|        67243|\n",
      "|           2668|        33602|\n",
      "|           2833|        60612|\n",
      "|           2949|        28162|\n",
      "|           3261|        37833|\n",
      "|           3344|        12379|\n",
      "|           3551|        96751|\n",
      "|           3667|        83761|\n",
      "+---------------+-------------+\n",
      "only showing top 20 rows\n",
      "\n",
      "root\n",
      " |-- IdProveedor_DWH: long (nullable = false)\n",
      " |-- IdProveedor_T: integer (nullable = true)\n",
      "\n"
     ]
    }
   ],
   "source": [
    "dim_proveedor = planes_beneficio.select(\n",
    "    col(\"IdProveedor_DWH\"),\n",
    "    col(\"IdProveedor_T\")\n",
    ").distinct()\n",
    "\n",
    "print(dim_proveedor.count())\n",
    "dim_proveedor.show()\n",
    "dim_proveedor.printSchema()"
   ]
  },
  {
   "cell_type": "code",
   "execution_count": 438,
   "metadata": {},
   "outputs": [
    {
     "name": "stdout",
     "output_type": "stream",
     "text": [
      "345\n",
      "+-------------------+-----------------+--------------------+\n",
      "|IdTipoBeneficio_DWH|IdTipoBeneficio_T|              Nombre|\n",
      "+-------------------+-----------------+--------------------+\n",
      "|                  1|              480|Mental/behavioral...|\n",
      "|                  2|              235|Durable Medical E...|\n",
      "|                  3|               10|   Accidental Dental|\n",
      "|                  4|              425|Inpatient Rehabil...|\n",
      "|                  5|              780|Rehabilitative Oc...|\n",
      "|                  6|              980|          Transplant|\n",
      "|                  7|              890|Substance Abuse D...|\n",
      "|                  8|              140|     Clinical Trials|\n",
      "|                  9|              335|        Hearing Aids|\n",
      "|                 10|              585|        Oral Surgery|\n",
      "|                 11|              610|Osteoporosis Trea...|\n",
      "|                 12|              730|  Preventative Drugs|\n",
      "|                 13|              225|            Dialysis|\n",
      "|                 14|              655|   Partial Pulpotomy|\n",
      "|                 15|              195|       Dental X-rays|\n",
      "|                 16|              510|Newborn Hearing S...|\n",
      "|                 17|              110|Breast Implant Re...|\n",
      "|                 18|              355|Hospice Bereaveme...|\n",
      "|                 19|              580|Off-label Prescri...|\n",
      "|                 20|              785|Rehabilitative Sp...|\n",
      "+-------------------+-----------------+--------------------+\n",
      "only showing top 20 rows\n",
      "\n",
      "root\n",
      " |-- IdTipoBeneficio_DWH: long (nullable = false)\n",
      " |-- IdTipoBeneficio_T: integer (nullable = true)\n",
      " |-- Nombre: string (nullable = true)\n",
      "\n"
     ]
    }
   ],
   "source": [
    "dim_tipo_beneficio = tipos_beneficio.select(\n",
    "    col(\"IdTipoBeneficio_DWH\"),\n",
    "    col(\"IdTipoBeneficio_T\"),\n",
    "    col(\"Nombre\")\n",
    ")\n",
    "print(dim_tipo_beneficio.count())\n",
    "dim_tipo_beneficio.show()\n",
    "dim_tipo_beneficio.printSchema()"
   ]
  },
  {
   "cell_type": "code",
   "execution_count": 439,
   "metadata": {},
   "outputs": [
    {
     "name": "stdout",
     "output_type": "stream",
     "text": [
      "3\n",
      "+---------------------+-------------------+---------------+\n",
      "|IdNivelDeServicio_DWH|IdNivelDeServicio_T|    Descripcion|\n",
      "+---------------------+-------------------+---------------+\n",
      "|                    1|                  1|        Nivel 1|\n",
      "|                    2|                  2|        Nivel 2|\n",
      "|                    3|                  3|Fuera de la red|\n",
      "+---------------------+-------------------+---------------+\n",
      "\n",
      "root\n",
      " |-- IdNivelDeServicio_DWH: integer (nullable = true)\n",
      " |-- IdNivelDeServicio_T: integer (nullable = true)\n",
      " |-- Descripcion: string (nullable = true)\n",
      "\n"
     ]
    }
   ],
   "source": [
    "dim_niveles_servicio = niveles_servicio.select(\n",
    "    col(\"IdNivelDeServicio_DWH\"),\n",
    "    col(\"IdNivelDeServicio_T\"),\n",
    "    col(\"Descripcion\")\n",
    ")\n",
    "print(dim_niveles_servicio.count())\n",
    "dim_niveles_servicio.show()\n",
    "dim_niveles_servicio.printSchema()"
   ]
  },
  {
   "cell_type": "code",
   "execution_count": 440,
   "metadata": {},
   "outputs": [
    {
     "name": "stdout",
     "output_type": "stream",
     "text": [
      "268444\n",
      "+---------------+-------------+------------+-----------------+-------+-----------+------------+\n",
      "|IdGeografia_DWH|IdGeografia_T|      Estado|          Condado|AreaAct|DensidadAct|PoblacionAct|\n",
      "+---------------+-------------+------------+-----------------+-------+-----------+------------+\n",
      "|            148|        39175|        Ohio|   Wyandot County|  405.0|       54.0|       21708|\n",
      "|            295|        40097|    Oklahoma|     Mayes County|  656.0|       60.0|       39159|\n",
      "|            972|        48085|       Texas|    Collin County|  848.0|     1308.0|     1109462|\n",
      "|           1125|        26161|    Michigan| Washtenaw County|  723.0|      511.0|      369390|\n",
      "|           1194|        28089| Mississippi|   Madison County|  719.0|      153.0|      109813|\n",
      "|           1608|        48319|       Texas|     Mason County|  932.0|        4.0|        3943|\n",
      "|           1768|        17013|    Illinois|   Calhoun County|  253.0|       17.0|        4369|\n",
      "|           1958|        48141|       Texas|   El Paso County| 1013.0|      857.0|      867947|\n",
      "|           2051|        46111|South Dakota|   Sanborn County|  569.0|        4.0|        2378|\n",
      "|           2169|        18061|     Indiana|  Harrison County|  485.0|       82.0|       39761|\n",
      "|           2618|        34013|  New Jersey|     Essex County|  126.0|     6785.0|      854917|\n",
      "|           2752|        47165|   Tennessee|    Sumner County|  529.0|      379.0|      200557|\n",
      "|           2883|        13135|     Georgia|  Gwinnett County|  433.0|     2228.0|      964546|\n",
      "|           3259|        17123|    Illinois|  Marshall County|  386.0|       30.0|       11663|\n",
      "|           4070|        23029|       Maine|Washington County| 3255.0|       10.0|       31121|\n",
      "|           4726|        12105|     Florida|      Polk County| 1875.0|      402.0|      753520|\n",
      "|           5256|        48471|       Texas|    Walker County|  788.0|       99.0|       77977|\n",
      "|           5259|        18043|     Indiana|     Floyd County|  148.0|      544.0|       80454|\n",
      "|           5430|        12117|     Florida|  Seminole County|  308.0|     1526.0|      470093|\n",
      "|           5432|         1027|     Alabama|      Clay County|  603.0|       24.0|       14190|\n",
      "+---------------+-------------+------------+-----------------+-------+-----------+------------+\n",
      "only showing top 20 rows\n",
      "\n",
      "root\n",
      " |-- IdGeografia_DWH: long (nullable = false)\n",
      " |-- IdGeografia_T: integer (nullable = true)\n",
      " |-- Estado: string (nullable = true)\n",
      " |-- Condado: string (nullable = true)\n",
      " |-- AreaAct: double (nullable = true)\n",
      " |-- DensidadAct: double (nullable = true)\n",
      " |-- PoblacionAct: string (nullable = true)\n",
      "\n"
     ]
    }
   ],
   "source": [
    "dim_geografia = areas_servicio.select(\n",
    "    col(\"IdGeografia_DWH\"),\n",
    "    col(\"IdGeografia_T\"),\n",
    "    col(\"Estado\"),\n",
    "    col(\"Condado\"),\n",
    "    col(\"Area\").alias(\"AreaAct\"),    \n",
    "    col(\"Densidad\").alias(\"DensidadAct\"),\n",
    "    col(\"PoblacionAct\")\n",
    ").distinct()\n",
    "print(dim_geografia.count())\n",
    "dim_geografia.show()\n",
    "dim_geografia.printSchema()\n"
   ]
  },
  {
   "cell_type": "code",
   "execution_count": 441,
   "metadata": {},
   "outputs": [
    {
     "name": "stdout",
     "output_type": "stream",
     "text": [
      "6\n",
      "+--------------+----+----+----+\n",
      "|IdFechaEmision|Anno| Mes| Dia|\n",
      "+--------------+----+----+----+\n",
      "|    2017-12-31|2017|  12|  31|\n",
      "|          null|null|null|null|\n",
      "|    2018-12-31|2018|  12|  31|\n",
      "|    2020-12-31|2020|  12|  31|\n",
      "|    2021-12-31|2021|  12|  31|\n",
      "|    2019-12-31|2019|  12|  31|\n",
      "+--------------+----+----+----+\n",
      "\n",
      "root\n",
      " |-- IdFechaEmision: date (nullable = true)\n",
      " |-- Anno: integer (nullable = true)\n",
      " |-- Mes: integer (nullable = true)\n",
      " |-- Dia: integer (nullable = true)\n",
      "\n"
     ]
    }
   ],
   "source": [
    "fecha = planes_beneficio.select(col(\"Fecha\").alias(\"IdFechaEmision\")).distinct()\n",
    "fecha = fecha.withColumn(\"Anno\", year(col(\"IdFechaEmision\"))) \\\n",
    "                   .withColumn(\"Mes\", month(col(\"IdFechaEmision\"))) \\\n",
    "                   .withColumn(\"Dia\", dayofmonth(col(\"IdFechaEmision\")))\n",
    "\n",
    "print(fecha.count())\n",
    "fecha.show()\n",
    "fecha.printSchema()\n"
   ]
  },
  {
   "cell_type": "code",
   "execution_count": 442,
   "metadata": {},
   "outputs": [
    {
     "name": "stdout",
     "output_type": "stream",
     "text": [
      "345\n",
      "+------------------------------+-----+---------------------+-----------------------+----------------------------------------+---------------------------------------+\n",
      "|IdCondicionesTipoBeneficio_DWH|EsEHB|EstaCubiertaPorSeguro|TieneLimiteCuantitativo|ExcluidoDelDesembolsoMaximoDentroDeLaRed|ExcluidoDelDesembolsoMaximoFueraDeLaRed|\n",
      "+------------------------------+-----+---------------------+-----------------------+----------------------------------------+---------------------------------------+\n",
      "|                            56|  Yes|                  Yes|                     No|                                      No|                                     No|\n",
      "|                           105|   No|                  Yes|                     No|                                      No|                                     No|\n",
      "|                           263|  Yes|                  Yes|                     No|                                      No|                                    Yes|\n",
      "|                            69|   No|                  Yes|                     No|                                      No|                                     No|\n",
      "|                           219|   No|                  Yes|                    Yes|                                      No|                                    Yes|\n",
      "|                           151|   No|                  Yes|                     No|                                     Yes|                                    Yes|\n",
      "|                           312|   No|                  Yes|                     No|                                      No|                                     No|\n",
      "|                           205|   No|                  Yes|                    Yes|                                     Yes|                                    Yes|\n",
      "|                           220|  Yes|                  Yes|                    Yes|                                      No|                                    Yes|\n",
      "|                            15|   No|                  Yes|                    Yes|                                      No|                                    Yes|\n",
      "|                           328|   No|                  Yes|                    Yes|                                      No|                                     No|\n",
      "|                            24|  Yes|                  Yes|                     No|                                      No|                                     No|\n",
      "|                            27|   No|                  Yes|                     No|                                      No|                                     No|\n",
      "|                           204|   No|                  Yes|                    Yes|                                      No|                                    Yes|\n",
      "|                            20|  Yes|                  Yes|                    Yes|                                      No|                                     No|\n",
      "|                           150|  Yes|                  Yes|                     No|                                      No|                                     No|\n",
      "|                           152|   No|                  Yes|                     No|                                      No|                                     No|\n",
      "|                           153|   No|                  Yes|                    Yes|                                     Yes|                                    Yes|\n",
      "|                           167|   No|                  Yes|                    Yes|                                      No|                                     No|\n",
      "|                           207|   No|                   No|                     No|                                     Yes|                                    Yes|\n",
      "+------------------------------+-----+---------------------+-----------------------+----------------------------------------+---------------------------------------+\n",
      "only showing top 20 rows\n",
      "\n",
      "root\n",
      " |-- IdCondicionesTipoBeneficio_DWH: long (nullable = false)\n",
      " |-- EsEHB: string (nullable = true)\n",
      " |-- EstaCubiertaPorSeguro: string (nullable = true)\n",
      " |-- TieneLimiteCuantitativo: string (nullable = true)\n",
      " |-- ExcluidoDelDesembolsoMaximoDentroDeLaRed: string (nullable = true)\n",
      " |-- ExcluidoDelDesembolsoMaximoFueraDeLaRed: string (nullable = true)\n",
      "\n"
     ]
    }
   ],
   "source": [
    "dim_mini_condiciones = tipos_beneficio.select(\n",
    "    col(\"IdCondicionesTipoBeneficio_DWH\"),\n",
    "    col(\"EsEHB\"),\n",
    "    col(\"EstaCubiertaPorSeguro\"),\n",
    "    col(\"TieneLimiteCuantitativo\"),\n",
    "    col(\"ExcluidoDelDesembolsoMaximoDentroDeLaRed\"),\n",
    "    col(\"ExcluidoDelDesembolsoMaximoFueraDeLaRed\")\n",
    ").distinct()\n",
    "\n",
    "print(dim_mini_condiciones.count())\n",
    "dim_mini_condiciones.show()\n",
    "dim_mini_condiciones.printSchema()\n"
   ]
  },
  {
   "cell_type": "code",
   "execution_count": 443,
   "metadata": {},
   "outputs": [
    {
     "name": "stdout",
     "output_type": "stream",
     "text": [
      "268444\n",
      "+--------------------+---------------+\n",
      "|IdAreaDeServicio_DWH|IdGeografia_DWH|\n",
      "+--------------------+---------------+\n",
      "|                 346|            346|\n",
      "|                 435|            435|\n",
      "|                 753|            753|\n",
      "|                 787|            787|\n",
      "|                1167|           1167|\n",
      "|                1395|           1395|\n",
      "|                1508|           1508|\n",
      "|                1909|           1909|\n",
      "|                2005|           2005|\n",
      "|                2226|           2226|\n",
      "|                2382|           2382|\n",
      "|                2941|           2941|\n",
      "|                3416|           3416|\n",
      "|                4294|           4294|\n",
      "|                4640|           4640|\n",
      "|                4925|           4925|\n",
      "|                5103|           5103|\n",
      "|                5559|           5559|\n",
      "|                5636|           5636|\n",
      "|                5983|           5983|\n",
      "+--------------------+---------------+\n",
      "only showing top 20 rows\n",
      "\n",
      "root\n",
      " |-- IdAreaDeServicio_DWH: long (nullable = false)\n",
      " |-- IdGeografia_DWH: long (nullable = false)\n",
      "\n"
     ]
    }
   ],
   "source": [
    "asociacion_area_servicio = areas_servicio.select(\n",
    "    col(\"IdAreaDeServicio_DWH\"),\n",
    "    col(\"IdGeografia_DWH\")\n",
    ").distinct()\n",
    "print(asociacion_area_servicio.count())\n",
    "asociacion_area_servicio.show()\n",
    "asociacion_area_servicio.printSchema()\n"
   ]
  },
  {
   "cell_type": "code",
   "execution_count": 444,
   "metadata": {
    "scrolled": false
   },
   "outputs": [
    {
     "name": "stdout",
     "output_type": "stream",
     "text": [
      "345\n",
      "+-------------------+------------------------------+------+-----------+----------+\n",
      "|IdTipoBeneficio_DWH|IdCondicionesTipoBeneficio_DWH|Cambio|FechaInicio|  FechaFin|\n",
      "+-------------------+------------------------------+------+-----------+----------+\n",
      "|                 46|                            46|     1| 2017-01-01|2017-12-31|\n",
      "|                207|                           207|     1| 2018-01-01|2019-12-31|\n",
      "|                 36|                            36|     1| 2020-01-01|2199-12-31|\n",
      "|                  3|                             3|     1| 2017-01-01|2017-12-31|\n",
      "|                151|                           151|     1| 2018-01-01|2018-12-31|\n",
      "|                299|                           299|     1| 2019-01-01|2020-12-31|\n",
      "|                 64|                            64|     1| 2021-01-01|2199-12-31|\n",
      "|                331|                           331|     1| 2017-01-01|2017-12-31|\n",
      "|                106|                           106|     1| 2018-01-01|2018-12-31|\n",
      "|                203|                           203|     1| 2019-01-01|2019-12-31|\n",
      "|                 67|                            67|     1| 2020-01-01|2199-12-31|\n",
      "|                132|                           132|     1| 2019-01-01|2199-12-31|\n",
      "|                264|                           264|     1| 2018-01-01|2199-12-31|\n",
      "|                 27|                            27|     1| 2017-01-01|2019-12-31|\n",
      "|                214|                           214|     1| 2020-01-01|2199-12-31|\n",
      "|                249|                           249|     1| 2021-01-01|2199-12-31|\n",
      "|                265|                           265|     1| 2017-01-01|2199-12-31|\n",
      "|                152|                           152|     1| 2018-01-01|2199-12-31|\n",
      "|                241|                           241|     1| 2017-01-01|2199-12-31|\n",
      "|                166|                           166|     1| 2018-01-01|2199-12-31|\n",
      "+-------------------+------------------------------+------+-----------+----------+\n",
      "only showing top 20 rows\n",
      "\n",
      "root\n",
      " |-- IdTipoBeneficio_DWH: long (nullable = false)\n",
      " |-- IdCondicionesTipoBeneficio_DWH: long (nullable = false)\n",
      " |-- Cambio: integer (nullable = false)\n",
      " |-- FechaInicio: string (nullable = true)\n",
      " |-- FechaFin: string (nullable = true)\n",
      "\n"
     ]
    }
   ],
   "source": [
    "hecho_hist_condiciones = tipos_beneficio.select(\n",
    "    col(\"IdTipoBeneficio_DWH\"),\n",
    "    col(\"IdCondicionesTipoBeneficio_DWH\"),\n",
    "    lit(1).alias(\"Cambio\"),\n",
    "    col(\"FechaInicio\"),\n",
    "    col(\"FechaFin\")\n",
    ")\n",
    "print(hecho_hist_condiciones.count())\n",
    "hecho_hist_condiciones.show()\n",
    "hecho_hist_condiciones.printSchema()\n"
   ]
  },
  {
   "cell_type": "markdown",
   "metadata": {},
   "source": [
    "### Hechos"
   ]
  },
  {
   "cell_type": "code",
   "execution_count": 508,
   "metadata": {
    "scrolled": false
   },
   "outputs": [
    {
     "name": "stdout",
     "output_type": "stream",
     "text": [
      "Columns in proveedor: ['IdProveedor_DWH', 'IdProveedor_T']\n",
      "Columns in tipobeneficio: ['IdTipoBeneficio_DWH', 'IdTipoBeneficio_T', 'Nombre']\n",
      "Columns in nivelesbeneficio: ['IdNivelDeServicio_DWH', 'IdNivelDeServicio_T', 'Descripcion']\n",
      "Columns in condiciones_pago: ['IdCondicionesDePago_DWH', 'IdCondicionesDePago_T', 'Descripcion', 'Tipo']\n",
      "Columns in geografia: ['IdGeografia_DWH', 'IdGeografia_T', 'Estado', 'Condado', 'AreaAct', 'DensidadAct', 'PoblacionAct']\n",
      "Columns in fecha: ['IdFechaEmision', 'Anno', 'Mes', 'Dia']\n",
      "Columns in mini condiciones: ['IdCondicionesTipoBeneficio_DWH', 'EsEHB', 'EstaCubiertaPorSeguro', 'TieneLimiteCuantitativo', 'ExcluidoDelDesembolsoMaximoDentroDeLaRed', 'ExcluidoDelDesembolsoMaximoFueraDeLaRed']\n",
      "Columns in areaserviio: ['IdAreaDeServicio_DWH', 'IdGeografia_DWH']\n",
      "Columns in hechohist: ['IdTipoBeneficio_DWH', 'IdCondicionesTipoBeneficio_DWH', 'Cambio', 'FechaInicio', 'FechaFin']\n"
     ]
    }
   ],
   "source": [
    "# Mostrar las columnas de los dataframes involucrados\n",
    "print(\"Columns in proveedor:\", dim_proveedor.columns)\n",
    "print(\"Columns in tipobeneficio:\", dim_tipo_beneficio.columns)\n",
    "print(\"Columns in nivelesbeneficio:\", dim_niveles_servicio.columns)\n",
    "print(\"Columns in condiciones_pago:\", dim_condiciones_pago.columns)\n",
    "print(\"Columns in geografia:\",dim_geografia.columns)\n",
    "print(\"Columns in fecha:\",fecha.columns)\n",
    "print(\"Columns in mini condiciones:\",dim_mini_condiciones.columns)\n",
    "print(\"Columns in areaserviio:\",asociacion_area_servicio.columns)\n",
    "print(\"Columns in hechohist:\",hecho_hist_condiciones.columns)"
   ]
  },
  {
   "cell_type": "code",
   "execution_count": 525,
   "metadata": {},
   "outputs": [],
   "source": [
    "dim_condicion_pago = dim_condicion_pago.withColumnRenamed(\"Descripcion\", \"DescripcionCondicionPago\")\n",
    "\n",
    "# Alias para los dataframes\n",
    "prov_alias = dim_proveedor.alias(\"p\")\n",
    "tb_alias = dim_tipo_beneficio.alias(\"tb\")\n",
    "ns_alias = dim_niveles_servicio.alias(\"ns\")\n",
    "cp_coseguro_alias = dim_condiciones_pago.filter(dim_condicion_pago[\"Tipo\"] == \"Coseguro\").alias(\"cp_coseguro\")\n",
    "cp_copago_alias = dim_condiciones_pago.filter(dim_condicion_pago[\"Tipo\"] == \"Copago\").alias(\"cp_copago\")\n",
    "geo_alias = dim_geografia.alias(\"geo\")\n",
    "fecha_alias = fecha.alias(\"fecha\")\n",
    "mini_cond_alias = dim_mini_condiciones.alias(\"mc\")\n",
    "area_serv_alias = asociacion_area_servicio.alias(\"as\")\n",
    "hecho_hist_alias = hecho_hist_condiciones.alias(\"hh\")\n",
    "\n"
   ]
  },
  {
   "cell_type": "code",
   "execution_count": 526,
   "metadata": {},
   "outputs": [
    {
     "name": "stdout",
     "output_type": "stream",
     "text": [
      "root\n",
      " |-- IdTipoBeneficio_DWH: long (nullable = false)\n",
      " |-- IdTipoBeneficio_T: integer (nullable = true)\n",
      " |-- NombreTipoBeneficio: string (nullable = true)\n",
      " |-- IdProveedor: integer (nullable = true)\n",
      "\n",
      "+-------------------+-----------------+--------------------+-----------+\n",
      "|IdTipoBeneficio_DWH|IdTipoBeneficio_T| NombreTipoBeneficio|IdProveedor|\n",
      "+-------------------+-----------------+--------------------+-----------+\n",
      "|                 19|              580|Off-label Prescri...|      33602|\n",
      "|                  7|              890|Substance Abuse D...|      96751|\n",
      "|                  6|              980|          Transplant|      30751|\n",
      "|                  9|              335|        Hearing Aids|      33602|\n",
      "|                 17|              110|Breast Implant Re...|      36194|\n",
      "|                  5|              780|Rehabilitative Oc...|      37833|\n",
      "|                  1|              480|Mental/behavioral...|      33602|\n",
      "|                 10|              585|        Oral Surgery|      21663|\n",
      "|                  3|               10|   Accidental Dental|      31274|\n",
      "|                 12|              730|  Preventative Drugs|      96751|\n",
      "|                  8|              140|     Clinical Trials|      70194|\n",
      "|                 11|              610|Osteoporosis Trea...|      54192|\n",
      "|                  2|              235|Durable Medical E...|      33602|\n",
      "|                  4|              425|Inpatient Rehabil...|      36239|\n",
      "|                 13|              225|            Dialysis|      81413|\n",
      "|                 18|              355|Hospice Bereaveme...|      83761|\n",
      "|                 14|              655|   Partial Pulpotomy|      38345|\n",
      "|                 21|              660|Pediatric Service...|      91450|\n",
      "|                 15|              195|       Dental X-rays|      53901|\n",
      "|                 20|              785|Rehabilitative Sp...|      67243|\n",
      "+-------------------+-----------------+--------------------+-----------+\n",
      "only showing top 20 rows\n",
      "\n"
     ]
    }
   ],
   "source": [
    "fact_table = tb_alias.join(\n",
    "    prov_alias,\n",
    "    tb_alias[\"IdTipoBeneficio_DWH\"] == prov_alias[\"IdProveedor_DWH\"],\n",
    "    \"left\"\n",
    ").select(\n",
    "    tb_alias[\"IdTipoBeneficio_DWH\"].alias(\"IdTipoBeneficio_DWH\"),\n",
    "    tb_alias[\"IdTipoBeneficio_T\"].alias(\"IdTipoBeneficio_T\"),\n",
    "    tb_alias[\"Nombre\"].alias(\"NombreTipoBeneficio\"),\n",
    "    prov_alias[\"IdProveedor_T\"].alias(\"IdProveedor\")\n",
    ")\n",
    "\n",
    "# Mostrar el esquema y datos después del primer join\n",
    "fact_table.printSchema()\n",
    "fact_table.show()"
   ]
  },
  {
   "cell_type": "code",
   "execution_count": 527,
   "metadata": {},
   "outputs": [
    {
     "name": "stdout",
     "output_type": "stream",
     "text": [
      "root\n",
      " |-- IdTipoBeneficio_DWH: long (nullable = false)\n",
      " |-- IdTipoBeneficio_T: integer (nullable = true)\n",
      " |-- NombreTipoBeneficio: string (nullable = true)\n",
      " |-- IdProveedor: integer (nullable = true)\n",
      " |-- IdNivelDeServicio: integer (nullable = true)\n",
      " |-- DescripcionNivelServicio: string (nullable = true)\n",
      "\n",
      "+-------------------+-----------------+--------------------+-----------+-----------------+------------------------+\n",
      "|IdTipoBeneficio_DWH|IdTipoBeneficio_T| NombreTipoBeneficio|IdProveedor|IdNivelDeServicio|DescripcionNivelServicio|\n",
      "+-------------------+-----------------+--------------------+-----------+-----------------+------------------------+\n",
      "|                 19|              580|Off-label Prescri...|      33602|             null|                    null|\n",
      "|                  7|              890|Substance Abuse D...|      96751|             null|                    null|\n",
      "|                  6|              980|          Transplant|      30751|             null|                    null|\n",
      "|                  9|              335|        Hearing Aids|      33602|             null|                    null|\n",
      "|                 17|              110|Breast Implant Re...|      36194|             null|                    null|\n",
      "|                  5|              780|Rehabilitative Oc...|      37833|             null|                    null|\n",
      "|                  1|              480|Mental/behavioral...|      33602|                1|                 Nivel 1|\n",
      "|                 10|              585|        Oral Surgery|      21663|             null|                    null|\n",
      "|                  3|               10|   Accidental Dental|      31274|                3|         Fuera de la red|\n",
      "|                 12|              730|  Preventative Drugs|      96751|             null|                    null|\n",
      "|                  8|              140|     Clinical Trials|      70194|             null|                    null|\n",
      "|                 11|              610|Osteoporosis Trea...|      54192|             null|                    null|\n",
      "|                  2|              235|Durable Medical E...|      33602|                2|                 Nivel 2|\n",
      "|                  4|              425|Inpatient Rehabil...|      36239|             null|                    null|\n",
      "|                 13|              225|            Dialysis|      81413|             null|                    null|\n",
      "|                 18|              355|Hospice Bereaveme...|      83761|             null|                    null|\n",
      "|                 14|              655|   Partial Pulpotomy|      38345|             null|                    null|\n",
      "|                 21|              660|Pediatric Service...|      91450|             null|                    null|\n",
      "|                 15|              195|       Dental X-rays|      53901|             null|                    null|\n",
      "|                 20|              785|Rehabilitative Sp...|      67243|             null|                    null|\n",
      "+-------------------+-----------------+--------------------+-----------+-----------------+------------------------+\n",
      "only showing top 20 rows\n",
      "\n"
     ]
    }
   ],
   "source": [
    "fact_table = fact_table.join(\n",
    "    ns_alias,\n",
    "    fact_table[\"IdTipoBeneficio_DWH\"] == ns_alias[\"IdNivelDeServicio_DWH\"],\n",
    "    \"left\"\n",
    ").select(\n",
    "    fact_table[\"IdTipoBeneficio_DWH\"],\n",
    "    fact_table[\"IdTipoBeneficio_T\"],\n",
    "    fact_table[\"NombreTipoBeneficio\"],\n",
    "    fact_table[\"IdProveedor\"],\n",
    "    ns_alias[\"IdNivelDeServicio_T\"].alias(\"IdNivelDeServicio\"),\n",
    "    ns_alias[\"Descripcion\"].alias(\"DescripcionNivelServicio\")\n",
    ")\n",
    "# Mostrar el esquema y datos después del segundo join\n",
    "fact_table.printSchema()\n",
    "fact_table.show()"
   ]
  },
  {
   "cell_type": "code",
   "execution_count": 529,
   "metadata": {
    "scrolled": true
   },
   "outputs": [
    {
     "ename": "AnalysisException",
     "evalue": "Cannot resolve column name \"DescripcionCondicionPago\" among (IdCondicionesDePago_DWH, IdCondicionesDePago_T, Descripcion, Tipo)",
     "output_type": "error",
     "traceback": [
      "\u001b[1;31m---------------------------------------------------------------------------\u001b[0m",
      "\u001b[1;31mAnalysisException\u001b[0m                         Traceback (most recent call last)",
      "\u001b[1;32m~\\AppData\\Local\\Temp\\ipykernel_3620\\2317188398.py\u001b[0m in \u001b[0;36m<module>\u001b[1;34m\u001b[0m\n\u001b[0;32m     11\u001b[0m     \u001b[0mfact_table\u001b[0m\u001b[1;33m[\u001b[0m\u001b[1;34m\"DescripcionNivelServicio\"\u001b[0m\u001b[1;33m]\u001b[0m\u001b[1;33m,\u001b[0m\u001b[1;33m\u001b[0m\u001b[1;33m\u001b[0m\u001b[0m\n\u001b[0;32m     12\u001b[0m     \u001b[0mcp_coseguro_alias\u001b[0m\u001b[1;33m[\u001b[0m\u001b[1;34m\"IdCondicionesDePago_T\"\u001b[0m\u001b[1;33m]\u001b[0m\u001b[1;33m.\u001b[0m\u001b[0malias\u001b[0m\u001b[1;33m(\u001b[0m\u001b[1;34m\"IdCondicionDePagoCoseguro\"\u001b[0m\u001b[1;33m)\u001b[0m\u001b[1;33m,\u001b[0m\u001b[1;33m\u001b[0m\u001b[1;33m\u001b[0m\u001b[0m\n\u001b[1;32m---> 13\u001b[1;33m     \u001b[0mcp_coseguro_alias\u001b[0m\u001b[1;33m[\u001b[0m\u001b[1;34m\"DescripcionCondicionPago\"\u001b[0m\u001b[1;33m]\u001b[0m\u001b[1;33m.\u001b[0m\u001b[0malias\u001b[0m\u001b[1;33m(\u001b[0m\u001b[1;34m\"DescripcionCondicionPagoCoseguro\"\u001b[0m\u001b[1;33m)\u001b[0m\u001b[1;33m,\u001b[0m\u001b[1;33m\u001b[0m\u001b[1;33m\u001b[0m\u001b[0m\n\u001b[0m\u001b[0;32m     14\u001b[0m     \u001b[0mcp_coseguro_alias\u001b[0m\u001b[1;33m[\u001b[0m\u001b[1;34m\"Tipo\"\u001b[0m\u001b[1;33m]\u001b[0m\u001b[1;33m.\u001b[0m\u001b[0malias\u001b[0m\u001b[1;33m(\u001b[0m\u001b[1;34m\"TipoCondicionPagoCoseguro\"\u001b[0m\u001b[1;33m)\u001b[0m\u001b[1;33m\u001b[0m\u001b[1;33m\u001b[0m\u001b[0m\n\u001b[0;32m     15\u001b[0m )\n",
      "\u001b[1;32m~\\anaconda3\\envs\\Tutoriales\\lib\\site-packages\\pyspark\\sql\\dataframe.py\u001b[0m in \u001b[0;36m__getitem__\u001b[1;34m(self, item)\u001b[0m\n\u001b[0;32m   1634\u001b[0m         \"\"\"\n\u001b[0;32m   1635\u001b[0m         \u001b[1;32mif\u001b[0m \u001b[0misinstance\u001b[0m\u001b[1;33m(\u001b[0m\u001b[0mitem\u001b[0m\u001b[1;33m,\u001b[0m \u001b[0mstr\u001b[0m\u001b[1;33m)\u001b[0m\u001b[1;33m:\u001b[0m\u001b[1;33m\u001b[0m\u001b[1;33m\u001b[0m\u001b[0m\n\u001b[1;32m-> 1636\u001b[1;33m             \u001b[0mjc\u001b[0m \u001b[1;33m=\u001b[0m \u001b[0mself\u001b[0m\u001b[1;33m.\u001b[0m\u001b[0m_jdf\u001b[0m\u001b[1;33m.\u001b[0m\u001b[0mapply\u001b[0m\u001b[1;33m(\u001b[0m\u001b[0mitem\u001b[0m\u001b[1;33m)\u001b[0m\u001b[1;33m\u001b[0m\u001b[1;33m\u001b[0m\u001b[0m\n\u001b[0m\u001b[0;32m   1637\u001b[0m             \u001b[1;32mreturn\u001b[0m \u001b[0mColumn\u001b[0m\u001b[1;33m(\u001b[0m\u001b[0mjc\u001b[0m\u001b[1;33m)\u001b[0m\u001b[1;33m\u001b[0m\u001b[1;33m\u001b[0m\u001b[0m\n\u001b[0;32m   1638\u001b[0m         \u001b[1;32melif\u001b[0m \u001b[0misinstance\u001b[0m\u001b[1;33m(\u001b[0m\u001b[0mitem\u001b[0m\u001b[1;33m,\u001b[0m \u001b[0mColumn\u001b[0m\u001b[1;33m)\u001b[0m\u001b[1;33m:\u001b[0m\u001b[1;33m\u001b[0m\u001b[1;33m\u001b[0m\u001b[0m\n",
      "\u001b[1;32m~\\anaconda3\\envs\\Tutoriales\\lib\\site-packages\\py4j\\java_gateway.py\u001b[0m in \u001b[0;36m__call__\u001b[1;34m(self, *args)\u001b[0m\n\u001b[0;32m   1320\u001b[0m         \u001b[0manswer\u001b[0m \u001b[1;33m=\u001b[0m \u001b[0mself\u001b[0m\u001b[1;33m.\u001b[0m\u001b[0mgateway_client\u001b[0m\u001b[1;33m.\u001b[0m\u001b[0msend_command\u001b[0m\u001b[1;33m(\u001b[0m\u001b[0mcommand\u001b[0m\u001b[1;33m)\u001b[0m\u001b[1;33m\u001b[0m\u001b[1;33m\u001b[0m\u001b[0m\n\u001b[0;32m   1321\u001b[0m         return_value = get_return_value(\n\u001b[1;32m-> 1322\u001b[1;33m             answer, self.gateway_client, self.target_id, self.name)\n\u001b[0m\u001b[0;32m   1323\u001b[0m \u001b[1;33m\u001b[0m\u001b[0m\n\u001b[0;32m   1324\u001b[0m         \u001b[1;32mfor\u001b[0m \u001b[0mtemp_arg\u001b[0m \u001b[1;32min\u001b[0m \u001b[0mtemp_args\u001b[0m\u001b[1;33m:\u001b[0m\u001b[1;33m\u001b[0m\u001b[1;33m\u001b[0m\u001b[0m\n",
      "\u001b[1;32m~\\anaconda3\\envs\\Tutoriales\\lib\\site-packages\\pyspark\\sql\\utils.py\u001b[0m in \u001b[0;36mdeco\u001b[1;34m(*a, **kw)\u001b[0m\n\u001b[0;32m    115\u001b[0m                 \u001b[1;31m# Hide where the exception came from that shows a non-Pythonic\u001b[0m\u001b[1;33m\u001b[0m\u001b[1;33m\u001b[0m\u001b[1;33m\u001b[0m\u001b[0m\n\u001b[0;32m    116\u001b[0m                 \u001b[1;31m# JVM exception message.\u001b[0m\u001b[1;33m\u001b[0m\u001b[1;33m\u001b[0m\u001b[1;33m\u001b[0m\u001b[0m\n\u001b[1;32m--> 117\u001b[1;33m                 \u001b[1;32mraise\u001b[0m \u001b[0mconverted\u001b[0m \u001b[1;32mfrom\u001b[0m \u001b[1;32mNone\u001b[0m\u001b[1;33m\u001b[0m\u001b[1;33m\u001b[0m\u001b[0m\n\u001b[0m\u001b[0;32m    118\u001b[0m             \u001b[1;32melse\u001b[0m\u001b[1;33m:\u001b[0m\u001b[1;33m\u001b[0m\u001b[1;33m\u001b[0m\u001b[0m\n\u001b[0;32m    119\u001b[0m                 \u001b[1;32mraise\u001b[0m\u001b[1;33m\u001b[0m\u001b[1;33m\u001b[0m\u001b[0m\n",
      "\u001b[1;31mAnalysisException\u001b[0m: Cannot resolve column name \"DescripcionCondicionPago\" among (IdCondicionesDePago_DWH, IdCondicionesDePago_T, Descripcion, Tipo)"
     ]
    }
   ],
   "source": [
    "fact_table = fact_table.join(\n",
    "    cp_coseguro_alias,\n",
    "    fact_table[\"IdTipoBeneficio_DWH\"] == cp_coseguro_alias[\"IdCondicionesDePago_DWH\"],\n",
    "    \"left\"\n",
    ").select(\n",
    "    fact_table[\"IdTipoBeneficio_DWH\"],\n",
    "    fact_table[\"IdTipoBeneficio_T\"],\n",
    "    fact_table[\"NombreTipoBeneficio\"],\n",
    "    fact_table[\"IdProveedor\"],\n",
    "    fact_table[\"IdNivelDeServicio\"],\n",
    "    fact_table[\"DescripcionNivelServicio\"],\n",
    "    cp_coseguro_alias[\"IdCondicionesDePago_T\"].alias(\"IdCondicionDePagoCoseguro\"),\n",
    "    cp_coseguro_alias[\"DescripcionCondicionPago\"].alias(\"DescripcionCondicionPagoCoseguro\"),\n",
    "    cp_coseguro_alias[\"Tipo\"].alias(\"TipoCondicionPagoCoseguro\")\n",
    ")"
   ]
  },
  {
   "cell_type": "code",
   "execution_count": 513,
   "metadata": {},
   "outputs": [],
   "source": [
    "fact_table = fact_table.withColumnRenamed(\"DescripcionCondicionPagoCoseguro\", \"DescripcionCoseguro\").withColumnRenamed(\"IdCondicionDePagoCoseguro\", \"IdCoseguro\")\n"
   ]
  },
  {
   "cell_type": "code",
   "execution_count": 515,
   "metadata": {},
   "outputs": [
    {
     "ename": "AnalysisException",
     "evalue": "Cannot resolve column name \"DescripcionCondicionPago\" among (IdCondicionesDePago_DWH, IdCondicionesDePago_T, Descripcion, Tipo)",
     "output_type": "error",
     "traceback": [
      "\u001b[1;31m---------------------------------------------------------------------------\u001b[0m",
      "\u001b[1;31mAnalysisException\u001b[0m                         Traceback (most recent call last)",
      "\u001b[1;32m~\\AppData\\Local\\Temp\\ipykernel_3620\\4184351003.py\u001b[0m in \u001b[0;36m<module>\u001b[1;34m\u001b[0m\n\u001b[0;32m     14\u001b[0m     \u001b[0mfact_table\u001b[0m\u001b[1;33m[\u001b[0m\u001b[1;34m\"TipoCondicionPagoCoseguro\"\u001b[0m\u001b[1;33m]\u001b[0m\u001b[1;33m,\u001b[0m\u001b[1;33m\u001b[0m\u001b[1;33m\u001b[0m\u001b[0m\n\u001b[0;32m     15\u001b[0m     \u001b[0mcp_copago_alias\u001b[0m\u001b[1;33m[\u001b[0m\u001b[1;34m\"IdCondicionesDePago_T\"\u001b[0m\u001b[1;33m]\u001b[0m\u001b[1;33m.\u001b[0m\u001b[0malias\u001b[0m\u001b[1;33m(\u001b[0m\u001b[1;34m\"IdCondicionDePagoCopago\"\u001b[0m\u001b[1;33m)\u001b[0m\u001b[1;33m,\u001b[0m\u001b[1;33m\u001b[0m\u001b[1;33m\u001b[0m\u001b[0m\n\u001b[1;32m---> 16\u001b[1;33m     \u001b[0mcp_copago_alias\u001b[0m\u001b[1;33m[\u001b[0m\u001b[1;34m\"DescripcionCondicionPago\"\u001b[0m\u001b[1;33m]\u001b[0m\u001b[1;33m.\u001b[0m\u001b[0malias\u001b[0m\u001b[1;33m(\u001b[0m\u001b[1;34m\"DescripcionCondicionPagoCopago\"\u001b[0m\u001b[1;33m)\u001b[0m\u001b[1;33m,\u001b[0m\u001b[1;33m\u001b[0m\u001b[1;33m\u001b[0m\u001b[0m\n\u001b[0m\u001b[0;32m     17\u001b[0m     \u001b[0mcp_copago_alias\u001b[0m\u001b[1;33m[\u001b[0m\u001b[1;34m\"Tipo\"\u001b[0m\u001b[1;33m]\u001b[0m\u001b[1;33m.\u001b[0m\u001b[0malias\u001b[0m\u001b[1;33m(\u001b[0m\u001b[1;34m\"TipoCondicionPagoCopago\"\u001b[0m\u001b[1;33m)\u001b[0m\u001b[1;33m\u001b[0m\u001b[1;33m\u001b[0m\u001b[0m\n\u001b[0;32m     18\u001b[0m )\n",
      "\u001b[1;32m~\\anaconda3\\envs\\Tutoriales\\lib\\site-packages\\pyspark\\sql\\dataframe.py\u001b[0m in \u001b[0;36m__getitem__\u001b[1;34m(self, item)\u001b[0m\n\u001b[0;32m   1634\u001b[0m         \"\"\"\n\u001b[0;32m   1635\u001b[0m         \u001b[1;32mif\u001b[0m \u001b[0misinstance\u001b[0m\u001b[1;33m(\u001b[0m\u001b[0mitem\u001b[0m\u001b[1;33m,\u001b[0m \u001b[0mstr\u001b[0m\u001b[1;33m)\u001b[0m\u001b[1;33m:\u001b[0m\u001b[1;33m\u001b[0m\u001b[1;33m\u001b[0m\u001b[0m\n\u001b[1;32m-> 1636\u001b[1;33m             \u001b[0mjc\u001b[0m \u001b[1;33m=\u001b[0m \u001b[0mself\u001b[0m\u001b[1;33m.\u001b[0m\u001b[0m_jdf\u001b[0m\u001b[1;33m.\u001b[0m\u001b[0mapply\u001b[0m\u001b[1;33m(\u001b[0m\u001b[0mitem\u001b[0m\u001b[1;33m)\u001b[0m\u001b[1;33m\u001b[0m\u001b[1;33m\u001b[0m\u001b[0m\n\u001b[0m\u001b[0;32m   1637\u001b[0m             \u001b[1;32mreturn\u001b[0m \u001b[0mColumn\u001b[0m\u001b[1;33m(\u001b[0m\u001b[0mjc\u001b[0m\u001b[1;33m)\u001b[0m\u001b[1;33m\u001b[0m\u001b[1;33m\u001b[0m\u001b[0m\n\u001b[0;32m   1638\u001b[0m         \u001b[1;32melif\u001b[0m \u001b[0misinstance\u001b[0m\u001b[1;33m(\u001b[0m\u001b[0mitem\u001b[0m\u001b[1;33m,\u001b[0m \u001b[0mColumn\u001b[0m\u001b[1;33m)\u001b[0m\u001b[1;33m:\u001b[0m\u001b[1;33m\u001b[0m\u001b[1;33m\u001b[0m\u001b[0m\n",
      "\u001b[1;32m~\\anaconda3\\envs\\Tutoriales\\lib\\site-packages\\py4j\\java_gateway.py\u001b[0m in \u001b[0;36m__call__\u001b[1;34m(self, *args)\u001b[0m\n\u001b[0;32m   1320\u001b[0m         \u001b[0manswer\u001b[0m \u001b[1;33m=\u001b[0m \u001b[0mself\u001b[0m\u001b[1;33m.\u001b[0m\u001b[0mgateway_client\u001b[0m\u001b[1;33m.\u001b[0m\u001b[0msend_command\u001b[0m\u001b[1;33m(\u001b[0m\u001b[0mcommand\u001b[0m\u001b[1;33m)\u001b[0m\u001b[1;33m\u001b[0m\u001b[1;33m\u001b[0m\u001b[0m\n\u001b[0;32m   1321\u001b[0m         return_value = get_return_value(\n\u001b[1;32m-> 1322\u001b[1;33m             answer, self.gateway_client, self.target_id, self.name)\n\u001b[0m\u001b[0;32m   1323\u001b[0m \u001b[1;33m\u001b[0m\u001b[0m\n\u001b[0;32m   1324\u001b[0m         \u001b[1;32mfor\u001b[0m \u001b[0mtemp_arg\u001b[0m \u001b[1;32min\u001b[0m \u001b[0mtemp_args\u001b[0m\u001b[1;33m:\u001b[0m\u001b[1;33m\u001b[0m\u001b[1;33m\u001b[0m\u001b[0m\n",
      "\u001b[1;32m~\\anaconda3\\envs\\Tutoriales\\lib\\site-packages\\pyspark\\sql\\utils.py\u001b[0m in \u001b[0;36mdeco\u001b[1;34m(*a, **kw)\u001b[0m\n\u001b[0;32m    115\u001b[0m                 \u001b[1;31m# Hide where the exception came from that shows a non-Pythonic\u001b[0m\u001b[1;33m\u001b[0m\u001b[1;33m\u001b[0m\u001b[1;33m\u001b[0m\u001b[0m\n\u001b[0;32m    116\u001b[0m                 \u001b[1;31m# JVM exception message.\u001b[0m\u001b[1;33m\u001b[0m\u001b[1;33m\u001b[0m\u001b[1;33m\u001b[0m\u001b[0m\n\u001b[1;32m--> 117\u001b[1;33m                 \u001b[1;32mraise\u001b[0m \u001b[0mconverted\u001b[0m \u001b[1;32mfrom\u001b[0m \u001b[1;32mNone\u001b[0m\u001b[1;33m\u001b[0m\u001b[1;33m\u001b[0m\u001b[0m\n\u001b[0m\u001b[0;32m    118\u001b[0m             \u001b[1;32melse\u001b[0m\u001b[1;33m:\u001b[0m\u001b[1;33m\u001b[0m\u001b[1;33m\u001b[0m\u001b[0m\n\u001b[0;32m    119\u001b[0m                 \u001b[1;32mraise\u001b[0m\u001b[1;33m\u001b[0m\u001b[1;33m\u001b[0m\u001b[0m\n",
      "\u001b[1;31mAnalysisException\u001b[0m: Cannot resolve column name \"DescripcionCondicionPago\" among (IdCondicionesDePago_DWH, IdCondicionesDePago_T, Descripcion, Tipo)"
     ]
    }
   ],
   "source": [
    "fact_table = fact_table.join(\n",
    "    cp_copago_alias,\n",
    "    fact_table[\"IdTipoBeneficio_DWH\"] == cp_copago_alias[\"IdCondicionesDePago_DWH\"],\n",
    "    \"left\"\n",
    ").select(\n",
    "    fact_table[\"IdTipoBeneficio_DWH\"],\n",
    "    fact_table[\"IdTipoBeneficio_T\"],\n",
    "    fact_table[\"NombreTipoBeneficio\"],\n",
    "    fact_table[\"IdProveedor\"],\n",
    "    fact_table[\"IdNivelDeServicio\"],\n",
    "    fact_table[\"DescripcionNivelServicio\"],\n",
    "    fact_table[\"IdCoseguro\"],\n",
    "    fact_table[\"DescripcionCoseguro\"],\n",
    "    fact_table[\"TipoCondicionPagoCoseguro\"],\n",
    "    cp_copago_alias[\"IdCondicionesDePago_T\"].alias(\"IdCondicionDePagoCopago\"),\n",
    "    cp_copago_alias[\"DescripcionCondicionPago\"].alias(\"DescripcionCondicionPagoCopago\"),\n",
    "    cp_copago_alias[\"Tipo\"].alias(\"TipoCondicionPagoCopago\")\n",
    ")\n",
    "# Mostrar el esquema y datos después del segundo join\n",
    "fact_table.printSchema()\n",
    "fact_table.show()"
   ]
  },
  {
   "cell_type": "code",
   "execution_count": null,
   "metadata": {},
   "outputs": [],
   "source": [
    "fact_table = fact_table.join(\n",
    "    geo_alias,\n",
    "    fact_table[\"IdTipoBeneficio_T\"] == geo_alias[\"IdGeografia_DWH\"],\n",
    "    \"inner\"\n",
    ").select(\n",
    "    fact_table[\"IdProveedor_T\"],\n",
    "    fact_table[\"IdTipoBeneficio_T\"],\n",
    "    fact_table[\"Nombre\"],\n",
    "    fact_table[\"IdNivelDeServicio_T\"],\n",
    "    fact_table[\"Descripcion\"],\n",
    "    fact_table[\"IdCondicionesDePago_T\"],\n",
    "    fact_table[\"DescripcionCondicionPago\"],\n",
    "    fact_table[\"Tipo\"],\n",
    "    geo_alias[\"IdGeografia_T\"],\n",
    "    geo_alias[\"Estado\"],\n",
    "    geo_alias[\"Condado\"],\n",
    "    geo_alias[\"AreaAct\"],\n",
    "    geo_alias[\"DensidadAct\"],\n",
    "    geo_alias[\"PoblacionAct\"]\n",
    ")\n",
    "\n",
    "# Mostrar el esquema y datos después del cuarto join\n",
    "fact_table.printSchema()\n",
    "fact_table.show()\n"
   ]
  },
  {
   "cell_type": "code",
   "execution_count": 408,
   "metadata": {},
   "outputs": [
    {
     "ename": "AnalysisException",
     "evalue": "cannot resolve 'fact_table.*' given input columns 'IdProveedor_T, IdTipoBeneficio_T, Nombre, IdNivelDeServicio_DWH, IdNivelDeServicio_T, Descripcion'",
     "output_type": "error",
     "traceback": [
      "\u001b[1;31m---------------------------------------------------------------------------\u001b[0m",
      "\u001b[1;31mAnalysisException\u001b[0m                         Traceback (most recent call last)",
      "\u001b[1;32m~\\AppData\\Local\\Temp\\ipykernel_3620\\3856143903.py\u001b[0m in \u001b[0;36m<module>\u001b[1;34m\u001b[0m\n\u001b[0;32m      6\u001b[0m     \u001b[1;34m\"fact_table.*\"\u001b[0m\u001b[1;33m,\u001b[0m\u001b[1;33m\u001b[0m\u001b[1;33m\u001b[0m\u001b[0m\n\u001b[0;32m      7\u001b[0m     \u001b[1;34m\"ns.IdNivelDeServicio_T\"\u001b[0m\u001b[1;33m,\u001b[0m\u001b[1;33m\u001b[0m\u001b[1;33m\u001b[0m\u001b[0m\n\u001b[1;32m----> 8\u001b[1;33m     \u001b[1;34m\"ns.Descripcion_T\"\u001b[0m\u001b[1;33m\u001b[0m\u001b[1;33m\u001b[0m\u001b[0m\n\u001b[0m\u001b[0;32m      9\u001b[0m )\n",
      "\u001b[1;32m~\\anaconda3\\envs\\Tutoriales\\lib\\site-packages\\pyspark\\sql\\dataframe.py\u001b[0m in \u001b[0;36mselect\u001b[1;34m(self, *cols)\u001b[0m\n\u001b[0;32m   1683\u001b[0m         \u001b[1;33m[\u001b[0m\u001b[0mRow\u001b[0m\u001b[1;33m(\u001b[0m\u001b[0mname\u001b[0m\u001b[1;33m=\u001b[0m\u001b[1;34m'Alice'\u001b[0m\u001b[1;33m,\u001b[0m \u001b[0mage\u001b[0m\u001b[1;33m=\u001b[0m\u001b[1;36m12\u001b[0m\u001b[1;33m)\u001b[0m\u001b[1;33m,\u001b[0m \u001b[0mRow\u001b[0m\u001b[1;33m(\u001b[0m\u001b[0mname\u001b[0m\u001b[1;33m=\u001b[0m\u001b[1;34m'Bob'\u001b[0m\u001b[1;33m,\u001b[0m \u001b[0mage\u001b[0m\u001b[1;33m=\u001b[0m\u001b[1;36m15\u001b[0m\u001b[1;33m)\u001b[0m\u001b[1;33m]\u001b[0m\u001b[1;33m\u001b[0m\u001b[1;33m\u001b[0m\u001b[0m\n\u001b[0;32m   1684\u001b[0m         \"\"\"\n\u001b[1;32m-> 1685\u001b[1;33m         \u001b[0mjdf\u001b[0m \u001b[1;33m=\u001b[0m \u001b[0mself\u001b[0m\u001b[1;33m.\u001b[0m\u001b[0m_jdf\u001b[0m\u001b[1;33m.\u001b[0m\u001b[0mselect\u001b[0m\u001b[1;33m(\u001b[0m\u001b[0mself\u001b[0m\u001b[1;33m.\u001b[0m\u001b[0m_jcols\u001b[0m\u001b[1;33m(\u001b[0m\u001b[1;33m*\u001b[0m\u001b[0mcols\u001b[0m\u001b[1;33m)\u001b[0m\u001b[1;33m)\u001b[0m\u001b[1;33m\u001b[0m\u001b[1;33m\u001b[0m\u001b[0m\n\u001b[0m\u001b[0;32m   1686\u001b[0m         \u001b[1;32mreturn\u001b[0m \u001b[0mDataFrame\u001b[0m\u001b[1;33m(\u001b[0m\u001b[0mjdf\u001b[0m\u001b[1;33m,\u001b[0m \u001b[0mself\u001b[0m\u001b[1;33m.\u001b[0m\u001b[0msql_ctx\u001b[0m\u001b[1;33m)\u001b[0m\u001b[1;33m\u001b[0m\u001b[1;33m\u001b[0m\u001b[0m\n\u001b[0;32m   1687\u001b[0m \u001b[1;33m\u001b[0m\u001b[0m\n",
      "\u001b[1;32m~\\anaconda3\\envs\\Tutoriales\\lib\\site-packages\\py4j\\java_gateway.py\u001b[0m in \u001b[0;36m__call__\u001b[1;34m(self, *args)\u001b[0m\n\u001b[0;32m   1320\u001b[0m         \u001b[0manswer\u001b[0m \u001b[1;33m=\u001b[0m \u001b[0mself\u001b[0m\u001b[1;33m.\u001b[0m\u001b[0mgateway_client\u001b[0m\u001b[1;33m.\u001b[0m\u001b[0msend_command\u001b[0m\u001b[1;33m(\u001b[0m\u001b[0mcommand\u001b[0m\u001b[1;33m)\u001b[0m\u001b[1;33m\u001b[0m\u001b[1;33m\u001b[0m\u001b[0m\n\u001b[0;32m   1321\u001b[0m         return_value = get_return_value(\n\u001b[1;32m-> 1322\u001b[1;33m             answer, self.gateway_client, self.target_id, self.name)\n\u001b[0m\u001b[0;32m   1323\u001b[0m \u001b[1;33m\u001b[0m\u001b[0m\n\u001b[0;32m   1324\u001b[0m         \u001b[1;32mfor\u001b[0m \u001b[0mtemp_arg\u001b[0m \u001b[1;32min\u001b[0m \u001b[0mtemp_args\u001b[0m\u001b[1;33m:\u001b[0m\u001b[1;33m\u001b[0m\u001b[1;33m\u001b[0m\u001b[0m\n",
      "\u001b[1;32m~\\anaconda3\\envs\\Tutoriales\\lib\\site-packages\\pyspark\\sql\\utils.py\u001b[0m in \u001b[0;36mdeco\u001b[1;34m(*a, **kw)\u001b[0m\n\u001b[0;32m    115\u001b[0m                 \u001b[1;31m# Hide where the exception came from that shows a non-Pythonic\u001b[0m\u001b[1;33m\u001b[0m\u001b[1;33m\u001b[0m\u001b[1;33m\u001b[0m\u001b[0m\n\u001b[0;32m    116\u001b[0m                 \u001b[1;31m# JVM exception message.\u001b[0m\u001b[1;33m\u001b[0m\u001b[1;33m\u001b[0m\u001b[1;33m\u001b[0m\u001b[0m\n\u001b[1;32m--> 117\u001b[1;33m                 \u001b[1;32mraise\u001b[0m \u001b[0mconverted\u001b[0m \u001b[1;32mfrom\u001b[0m \u001b[1;32mNone\u001b[0m\u001b[1;33m\u001b[0m\u001b[1;33m\u001b[0m\u001b[0m\n\u001b[0m\u001b[0;32m    118\u001b[0m             \u001b[1;32melse\u001b[0m\u001b[1;33m:\u001b[0m\u001b[1;33m\u001b[0m\u001b[1;33m\u001b[0m\u001b[0m\n\u001b[0;32m    119\u001b[0m                 \u001b[1;32mraise\u001b[0m\u001b[1;33m\u001b[0m\u001b[1;33m\u001b[0m\u001b[0m\n",
      "\u001b[1;31mAnalysisException\u001b[0m: cannot resolve 'fact_table.*' given input columns 'IdProveedor_T, IdTipoBeneficio_T, Nombre, IdNivelDeServicio_DWH, IdNivelDeServicio_T, Descripcion'"
     ]
    }
   ],
   "source": [
    "fact_table = fact_table.join(\n",
    "    dim_niveles_servicio.alias(\"ns\"),\n",
    "    fact_table[\"IdTipoBeneficio_T\"] == dim_niveles_servicio[\"IdNivelDeServicio_T\"],\n",
    "    \"inner\"\n",
    ").select(\n",
    "    \"fact_table.*\",\n",
    "    \"ns.IdNivelDeServicio_T\",\n",
    "    \"ns.Descripcion_T\"\n",
    ")"
   ]
  },
  {
   "cell_type": "code",
   "execution_count": 345,
   "metadata": {},
   "outputs": [
    {
     "name": "stdout",
     "output_type": "stream",
     "text": [
      "['IdTipoBeneficio_T_Plan', 'IdAreaDeServicio_T_Plan', 'IdCondicionDePagoCopago_T_Plan', 'IdCondicionDePagoCoseguro_T_Plan', 'IdNivelDeServicio_T_Plan', 'IdPlan_DWH', 'Fecha', 'IdProveedor_DWH', 'valorCopago', 'valorCoseguro', 'cantidadLimite', 'IdPlan_DWH', 'IdProveedor_DWH']\n"
     ]
    }
   ],
   "source": [
    "# Mostrar los nombres de las columnas del dataframe planes_beneficio\n",
    "print(planes_beneficio.columns)\n",
    "\n"
   ]
  },
  {
   "cell_type": "code",
   "execution_count": 534,
   "metadata": {},
   "outputs": [
    {
     "name": "stdout",
     "output_type": "stream",
     "text": [
      "root\n",
      " |-- IdTipoBeneficio_DWH: long (nullable = false)\n",
      " |-- IdTipoBeneficio_T: integer (nullable = true)\n",
      " |-- NombreTipoBeneficio: string (nullable = true)\n",
      " |-- IdProveedor: integer (nullable = true)\n",
      "\n",
      "+-------------------+-----------------+--------------------+-----------+\n",
      "|IdTipoBeneficio_DWH|IdTipoBeneficio_T| NombreTipoBeneficio|IdProveedor|\n",
      "+-------------------+-----------------+--------------------+-----------+\n",
      "|                 19|              580|Off-label Prescri...|      33602|\n",
      "|                  7|              890|Substance Abuse D...|      96751|\n",
      "|                  6|              980|          Transplant|      30751|\n",
      "|                  9|              335|        Hearing Aids|      33602|\n",
      "|                 17|              110|Breast Implant Re...|      36194|\n",
      "|                  5|              780|Rehabilitative Oc...|      37833|\n",
      "|                  1|              480|Mental/behavioral...|      33602|\n",
      "|                 10|              585|        Oral Surgery|      21663|\n",
      "|                  3|               10|   Accidental Dental|      31274|\n",
      "|                 12|              730|  Preventative Drugs|      96751|\n",
      "|                  8|              140|     Clinical Trials|      70194|\n",
      "|                 11|              610|Osteoporosis Trea...|      54192|\n",
      "|                  2|              235|Durable Medical E...|      33602|\n",
      "|                  4|              425|Inpatient Rehabil...|      36239|\n",
      "|                 13|              225|            Dialysis|      81413|\n",
      "|                 18|              355|Hospice Bereaveme...|      83761|\n",
      "|                 14|              655|   Partial Pulpotomy|      38345|\n",
      "|                 21|              660|Pediatric Service...|      91450|\n",
      "|                 15|              195|       Dental X-rays|      53901|\n",
      "|                 20|              785|Rehabilitative Sp...|      67243|\n",
      "+-------------------+-----------------+--------------------+-----------+\n",
      "only showing top 20 rows\n",
      "\n",
      "root\n",
      " |-- IdTipoBeneficio_DWH: long (nullable = false)\n",
      " |-- IdTipoBeneficio_T: integer (nullable = true)\n",
      " |-- NombreTipoBeneficio: string (nullable = true)\n",
      " |-- IdProveedor: integer (nullable = true)\n",
      " |-- IdNivelDeServicio: integer (nullable = true)\n",
      " |-- DescripcionNivelServicio: string (nullable = true)\n",
      "\n",
      "+-------------------+-----------------+--------------------+-----------+-----------------+------------------------+\n",
      "|IdTipoBeneficio_DWH|IdTipoBeneficio_T| NombreTipoBeneficio|IdProveedor|IdNivelDeServicio|DescripcionNivelServicio|\n",
      "+-------------------+-----------------+--------------------+-----------+-----------------+------------------------+\n",
      "|                 19|              580|Off-label Prescri...|      33602|             null|                    null|\n",
      "|                  7|              890|Substance Abuse D...|      96751|             null|                    null|\n",
      "|                  6|              980|          Transplant|      30751|             null|                    null|\n",
      "|                  9|              335|        Hearing Aids|      33602|             null|                    null|\n",
      "|                 17|              110|Breast Implant Re...|      36194|             null|                    null|\n",
      "|                  5|              780|Rehabilitative Oc...|      37833|             null|                    null|\n",
      "|                  1|              480|Mental/behavioral...|      33602|                1|                 Nivel 1|\n",
      "|                 10|              585|        Oral Surgery|      21663|             null|                    null|\n",
      "|                  3|               10|   Accidental Dental|      31274|                3|         Fuera de la red|\n",
      "|                 12|              730|  Preventative Drugs|      96751|             null|                    null|\n",
      "|                  8|              140|     Clinical Trials|      70194|             null|                    null|\n",
      "|                 11|              610|Osteoporosis Trea...|      54192|             null|                    null|\n",
      "|                  2|              235|Durable Medical E...|      33602|                2|                 Nivel 2|\n",
      "|                  4|              425|Inpatient Rehabil...|      36239|             null|                    null|\n",
      "|                 13|              225|            Dialysis|      81413|             null|                    null|\n",
      "|                 18|              355|Hospice Bereaveme...|      83761|             null|                    null|\n",
      "|                 14|              655|   Partial Pulpotomy|      38345|             null|                    null|\n",
      "|                 21|              660|Pediatric Service...|      91450|             null|                    null|\n",
      "|                 15|              195|       Dental X-rays|      53901|             null|                    null|\n",
      "|                 20|              785|Rehabilitative Sp...|      67243|             null|                    null|\n",
      "+-------------------+-----------------+--------------------+-----------+-----------------+------------------------+\n",
      "only showing top 20 rows\n",
      "\n"
     ]
    },
    {
     "ename": "AnalysisException",
     "evalue": "Cannot resolve column name \"DescripcionCondicionPago\" among (IdCondicionesDePago_DWH, IdCondicionesDePago_T, Descripcion, Tipo)",
     "output_type": "error",
     "traceback": [
      "\u001b[1;31m---------------------------------------------------------------------------\u001b[0m",
      "\u001b[1;31mAnalysisException\u001b[0m                         Traceback (most recent call last)",
      "\u001b[1;32m~\\AppData\\Local\\Temp\\ipykernel_3620\\2344808650.py\u001b[0m in \u001b[0;36m<module>\u001b[1;34m\u001b[0m\n\u001b[0;32m     46\u001b[0m     \u001b[0mfact_table\u001b[0m\u001b[1;33m[\u001b[0m\u001b[1;34m\"DescripcionNivelServicio\"\u001b[0m\u001b[1;33m]\u001b[0m\u001b[1;33m,\u001b[0m\u001b[1;33m\u001b[0m\u001b[1;33m\u001b[0m\u001b[0m\n\u001b[0;32m     47\u001b[0m     \u001b[0mcp_coseguro_alias\u001b[0m\u001b[1;33m[\u001b[0m\u001b[1;34m\"IdCondicionesDePago_T\"\u001b[0m\u001b[1;33m]\u001b[0m\u001b[1;33m.\u001b[0m\u001b[0malias\u001b[0m\u001b[1;33m(\u001b[0m\u001b[1;34m\"IdCondicionDePagoCoseguro\"\u001b[0m\u001b[1;33m)\u001b[0m\u001b[1;33m,\u001b[0m\u001b[1;33m\u001b[0m\u001b[1;33m\u001b[0m\u001b[0m\n\u001b[1;32m---> 48\u001b[1;33m     \u001b[0mcp_coseguro_alias\u001b[0m\u001b[1;33m[\u001b[0m\u001b[1;34m\"DescripcionCondicionPago\"\u001b[0m\u001b[1;33m]\u001b[0m\u001b[1;33m.\u001b[0m\u001b[0malias\u001b[0m\u001b[1;33m(\u001b[0m\u001b[1;34m\"DescripcionCondicionPagoCoseguro\"\u001b[0m\u001b[1;33m)\u001b[0m\u001b[1;33m,\u001b[0m\u001b[1;33m\u001b[0m\u001b[1;33m\u001b[0m\u001b[0m\n\u001b[0m\u001b[0;32m     49\u001b[0m     \u001b[0mcp_coseguro_alias\u001b[0m\u001b[1;33m[\u001b[0m\u001b[1;34m\"Tipo\"\u001b[0m\u001b[1;33m]\u001b[0m\u001b[1;33m.\u001b[0m\u001b[0malias\u001b[0m\u001b[1;33m(\u001b[0m\u001b[1;34m\"TipoCondicionPagoCoseguro\"\u001b[0m\u001b[1;33m)\u001b[0m\u001b[1;33m\u001b[0m\u001b[1;33m\u001b[0m\u001b[0m\n\u001b[0;32m     50\u001b[0m )\n",
      "\u001b[1;32m~\\anaconda3\\envs\\Tutoriales\\lib\\site-packages\\pyspark\\sql\\dataframe.py\u001b[0m in \u001b[0;36m__getitem__\u001b[1;34m(self, item)\u001b[0m\n\u001b[0;32m   1634\u001b[0m         \"\"\"\n\u001b[0;32m   1635\u001b[0m         \u001b[1;32mif\u001b[0m \u001b[0misinstance\u001b[0m\u001b[1;33m(\u001b[0m\u001b[0mitem\u001b[0m\u001b[1;33m,\u001b[0m \u001b[0mstr\u001b[0m\u001b[1;33m)\u001b[0m\u001b[1;33m:\u001b[0m\u001b[1;33m\u001b[0m\u001b[1;33m\u001b[0m\u001b[0m\n\u001b[1;32m-> 1636\u001b[1;33m             \u001b[0mjc\u001b[0m \u001b[1;33m=\u001b[0m \u001b[0mself\u001b[0m\u001b[1;33m.\u001b[0m\u001b[0m_jdf\u001b[0m\u001b[1;33m.\u001b[0m\u001b[0mapply\u001b[0m\u001b[1;33m(\u001b[0m\u001b[0mitem\u001b[0m\u001b[1;33m)\u001b[0m\u001b[1;33m\u001b[0m\u001b[1;33m\u001b[0m\u001b[0m\n\u001b[0m\u001b[0;32m   1637\u001b[0m             \u001b[1;32mreturn\u001b[0m \u001b[0mColumn\u001b[0m\u001b[1;33m(\u001b[0m\u001b[0mjc\u001b[0m\u001b[1;33m)\u001b[0m\u001b[1;33m\u001b[0m\u001b[1;33m\u001b[0m\u001b[0m\n\u001b[0;32m   1638\u001b[0m         \u001b[1;32melif\u001b[0m \u001b[0misinstance\u001b[0m\u001b[1;33m(\u001b[0m\u001b[0mitem\u001b[0m\u001b[1;33m,\u001b[0m \u001b[0mColumn\u001b[0m\u001b[1;33m)\u001b[0m\u001b[1;33m:\u001b[0m\u001b[1;33m\u001b[0m\u001b[1;33m\u001b[0m\u001b[0m\n",
      "\u001b[1;32m~\\anaconda3\\envs\\Tutoriales\\lib\\site-packages\\py4j\\java_gateway.py\u001b[0m in \u001b[0;36m__call__\u001b[1;34m(self, *args)\u001b[0m\n\u001b[0;32m   1320\u001b[0m         \u001b[0manswer\u001b[0m \u001b[1;33m=\u001b[0m \u001b[0mself\u001b[0m\u001b[1;33m.\u001b[0m\u001b[0mgateway_client\u001b[0m\u001b[1;33m.\u001b[0m\u001b[0msend_command\u001b[0m\u001b[1;33m(\u001b[0m\u001b[0mcommand\u001b[0m\u001b[1;33m)\u001b[0m\u001b[1;33m\u001b[0m\u001b[1;33m\u001b[0m\u001b[0m\n\u001b[0;32m   1321\u001b[0m         return_value = get_return_value(\n\u001b[1;32m-> 1322\u001b[1;33m             answer, self.gateway_client, self.target_id, self.name)\n\u001b[0m\u001b[0;32m   1323\u001b[0m \u001b[1;33m\u001b[0m\u001b[0m\n\u001b[0;32m   1324\u001b[0m         \u001b[1;32mfor\u001b[0m \u001b[0mtemp_arg\u001b[0m \u001b[1;32min\u001b[0m \u001b[0mtemp_args\u001b[0m\u001b[1;33m:\u001b[0m\u001b[1;33m\u001b[0m\u001b[1;33m\u001b[0m\u001b[0m\n",
      "\u001b[1;32m~\\anaconda3\\envs\\Tutoriales\\lib\\site-packages\\pyspark\\sql\\utils.py\u001b[0m in \u001b[0;36mdeco\u001b[1;34m(*a, **kw)\u001b[0m\n\u001b[0;32m    115\u001b[0m                 \u001b[1;31m# Hide where the exception came from that shows a non-Pythonic\u001b[0m\u001b[1;33m\u001b[0m\u001b[1;33m\u001b[0m\u001b[1;33m\u001b[0m\u001b[0m\n\u001b[0;32m    116\u001b[0m                 \u001b[1;31m# JVM exception message.\u001b[0m\u001b[1;33m\u001b[0m\u001b[1;33m\u001b[0m\u001b[1;33m\u001b[0m\u001b[0m\n\u001b[1;32m--> 117\u001b[1;33m                 \u001b[1;32mraise\u001b[0m \u001b[0mconverted\u001b[0m \u001b[1;32mfrom\u001b[0m \u001b[1;32mNone\u001b[0m\u001b[1;33m\u001b[0m\u001b[1;33m\u001b[0m\u001b[0m\n\u001b[0m\u001b[0;32m    118\u001b[0m             \u001b[1;32melse\u001b[0m\u001b[1;33m:\u001b[0m\u001b[1;33m\u001b[0m\u001b[1;33m\u001b[0m\u001b[0m\n\u001b[0;32m    119\u001b[0m                 \u001b[1;32mraise\u001b[0m\u001b[1;33m\u001b[0m\u001b[1;33m\u001b[0m\u001b[0m\n",
      "\u001b[1;31mAnalysisException\u001b[0m: Cannot resolve column name \"DescripcionCondicionPago\" among (IdCondicionesDePago_DWH, IdCondicionesDePago_T, Descripcion, Tipo)"
     ]
    }
   ],
   "source": [
    "\n",
    "# Join con la dimensión de Tipos de Beneficio y Proveedor\n",
    "fact_table = tb_alias.join(\n",
    "    prov_alias,\n",
    "    tb_alias[\"IdTipoBeneficio_DWH\"] == prov_alias[\"IdProveedor_DWH\"],\n",
    "    \"left\"\n",
    ").select(\n",
    "    tb_alias[\"IdTipoBeneficio_DWH\"].alias(\"IdTipoBeneficio_DWH\"),\n",
    "    tb_alias[\"IdTipoBeneficio_T\"].alias(\"IdTipoBeneficio_T\"),\n",
    "    tb_alias[\"Nombre\"].alias(\"NombreTipoBeneficio\"),\n",
    "    prov_alias[\"IdProveedor_T\"].alias(\"IdProveedor\")\n",
    ")\n",
    "\n",
    "# Mostrar el esquema y datos después del primer join\n",
    "fact_table.printSchema()\n",
    "fact_table.show()\n",
    "\n",
    "# Join con la dimensión de Niveles de Servicio\n",
    "fact_table = fact_table.join(\n",
    "    ns_alias,\n",
    "    fact_table[\"IdTipoBeneficio_DWH\"] == ns_alias[\"IdNivelDeServicio_DWH\"],\n",
    "    \"left\"\n",
    ").select(\n",
    "    fact_table[\"IdTipoBeneficio_DWH\"],\n",
    "    fact_table[\"IdTipoBeneficio_T\"],\n",
    "    fact_table[\"NombreTipoBeneficio\"],\n",
    "    fact_table[\"IdProveedor\"],\n",
    "    ns_alias[\"IdNivelDeServicio_T\"].alias(\"IdNivelDeServicio\"),\n",
    "    ns_alias[\"Descripcion\"].alias(\"DescripcionNivelServicio\")\n",
    ")\n",
    "\n",
    "# Mostrar el esquema y datos después del segundo join\n",
    "fact_table.printSchema()\n",
    "fact_table.show()\n",
    "\n",
    "# Join con la dimensión de Condiciones de Pago (Coseguro)\n",
    "fact_table = fact_table.join(\n",
    "    cp_coseguro_alias,\n",
    "    fact_table[\"IdTipoBeneficio_DWH\"] == cp_coseguro_alias[\"IdCondicionesDePago_DWH\"],\n",
    "    \"left\"\n",
    ").select(\n",
    "    fact_table[\"IdTipoBeneficio_DWH\"],\n",
    "    fact_table[\"IdTipoBeneficio_T\"],\n",
    "    fact_table[\"NombreTipoBeneficio\"],\n",
    "    fact_table[\"IdProveedor\"],\n",
    "    fact_table[\"IdNivelDeServicio\"],\n",
    "    fact_table[\"DescripcionNivelServicio\"],\n",
    "    cp_coseguro_alias[\"IdCondicionesDePago_T\"].alias(\"IdCondicionDePagoCoseguro\"),\n",
    "    cp_coseguro_alias[\"DescripcionCondicionPago\"].alias(\"DescripcionCondicionPagoCoseguro\"),\n",
    "    cp_coseguro_alias[\"Tipo\"].alias(\"TipoCondicionPagoCoseguro\")\n",
    ")\n",
    "\n",
    "# Renombrar las columnas después del join para evitar ambigüedades\n",
    "fact_table = fact_table.withColumnRenamed(\"DescripcionCondicionPagoCoseguro\", \"DescripcionCoseguro\").withColumnRenamed(\"IdCondicionDePagoCoseguro\", \"IdCoseguro\")\n",
    "\n",
    "# Mostrar el esquema y datos después del tercer join\n",
    "fact_table.printSchema()\n",
    "fact_table.show()\n",
    "\n",
    "# Join con la dimensión de Condiciones de Pago (Copago)\n",
    "fact_table = fact_table.join(\n",
    "    cp_copago_alias,\n",
    "    fact_table[\"IdTipoBeneficio_DWH\"] == cp_copago_alias[\"IdCondicionesDePago_DWH\"],\n",
    "    \"left\"\n",
    ").select(\n",
    "    fact_table[\"IdTipoBeneficio_DWH\"],\n",
    "    fact_table[\"IdTipoBeneficio_T\"],\n",
    "    fact_table[\"NombreTipoBeneficio\"],\n",
    "    fact_table[\"IdProveedor\"],\n",
    "    fact_table[\"IdNivelDeServicio\"],\n",
    "    fact_table[\"DescripcionNivelServicio\"],\n",
    "    fact_table[\"IdCoseguro\"],\n",
    "    fact_table[\"DescripcionCoseguro\"],\n",
    "    fact_table[\"TipoCondicionPagoCoseguro\"],\n",
    "    cp_copago_alias[\"IdCondicionesDePago_T\"].alias(\"IdCondicionDePagoCopago\"),\n",
    "    cp_copago_alias[\"DescripcionCondicionPago\"].alias(\"DescripcionCondicionPagoCopago\"),\n",
    "    cp_copago_alias[\"Tipo\"].alias(\"TipoCondicionPagoCopago\")\n",
    ")\n",
    "\n",
    "# Renombrar las columnas después del join para evitar ambigüedades\n",
    "fact_table = fact_table.withColumnRenamed(\"DescripcionCondicionPagoCopago\", \"DescripcionCopago\")\n",
    "\n",
    "# Mostrar el esquema y datos después del cuarto join\n",
    "fact_table.printSchema()\n",
    "fact_table.show()\n",
    "\n",
    "# Join con la dimensión de Geografía\n",
    "fact_table = fact_table.join(\n",
    "    geo_alias,\n",
    "    fact_table[\"IdTipoBeneficio_DWH\"] == geo_alias[\"IdGeografia_DWH\"],\n",
    "    \"left\"\n",
    ").select(\n",
    "    fact_table[\"IdTipoBeneficio_DWH\"],\n",
    "    fact_table[\"IdTipoBeneficio_T\"],\n",
    "    fact_table[\"NombreTipoBeneficio\"],\n",
    "    fact_table[\"IdProveedor\"],\n",
    "    fact_table[\"IdNivelDeServicio\"],\n",
    "    fact_table[\"DescripcionNivelServicio\"],\n",
    "    fact_table[\"IdCoseguro\"],\n",
    "    fact_table[\"DescripcionCoseguro\"],\n",
    "    fact_table[\"TipoCondicionPagoCoseguro\"],\n",
    "    fact_table[\"IdCondicionDePagoCopago\"],\n",
    "    fact_table[\"DescripcionCopago\"],\n",
    "    fact_table[\"TipoCondicionPagoCopago\"],\n",
    "    geo_alias[\"IdGeografia_T\"].alias(\"IdGeografia\"),\n",
    "    geo_alias[\"Estado\"],\n",
    "    geo_alias[\"Condado\"],\n",
    "    geo_alias[\"AreaAct\"],\n",
    "    geo_alias[\"DensidadAct\"],\n",
    "    geo_alias[\"PoblacionAct\"]\n",
    ")\n",
    "\n",
    "# Mostrar el esquema y datos después del quinto join\n",
    "fact_table.printSchema()\n",
    "fact_table.show()\n",
    "\n",
    "# Join con la dimensión de Fecha\n",
    "fact_table = fact_table.join(\n",
    "    fecha_alias,\n",
    "    fact_table[\"IdTipoBeneficio_DWH\"] == fecha_alias[\"IdFechaEmision\"],\n",
    "    \"left\"\n",
    ").select(\n",
    "    fact_table[\"IdTipoBeneficio_DWH\"],\n",
    "    fact_table[\"IdTipoBeneficio_T\"],\n",
    "    fact_table[\"NombreTipoBeneficio\"],\n",
    "    fact_table[\"IdProveedor\"],\n",
    "    fact_table[\"IdNivelDeServicio\"],\n",
    "    fact_table[\"DescripcionNivelServicio\"],\n",
    "    fact_table[\"IdCoseguro\"],\n",
    "    fact_table[\"DescripcionCoseguro\"],\n",
    "    fact_table[\"TipoCondicionPagoCoseguro\"],\n",
    "    fact_table[\"IdCondicionDePagoCopago\"],\n",
    "    fact_table[\"DescripcionCopago\"],\n",
    "    fact_table[\"TipoCondicionPagoCopago\"],\n",
    "    fact_table[\"IdGeografia\"],\n",
    "    fact_table[\"Estado\"],\n",
    "    fact_table[\"Condado\"],\n",
    "    fact_table[\"AreaAct\"],\n",
    "    fact_table[\"DensidadAct\"],\n",
    "    fact_table[\"PoblacionAct\"],\n",
    "    fecha_alias[\"Anno\"],\n",
    "    fecha_alias[\"Mes\"],\n",
    "    fecha_alias[\"Dia\"]\n",
    ")\n",
    "\n",
    "# Mostrar el esquema y datos después del sexto join\n",
    "fact_table.printSchema()\n",
    "fact_table.show()\n"
   ]
  },
  {
   "cell_type": "code",
   "execution_count": null,
   "metadata": {},
   "outputs": [],
   "source": []
  }
 ],
 "metadata": {
  "kernelspec": {
   "display_name": "Python 3 (ipykernel)",
   "language": "python",
   "name": "python3"
  },
  "language_info": {
   "codemirror_mode": {
    "name": "ipython",
    "version": 3
   },
   "file_extension": ".py",
   "mimetype": "text/x-python",
   "name": "python",
   "nbconvert_exporter": "python",
   "pygments_lexer": "ipython3",
   "version": "3.7.13"
  }
 },
 "nbformat": 4,
 "nbformat_minor": 4
}

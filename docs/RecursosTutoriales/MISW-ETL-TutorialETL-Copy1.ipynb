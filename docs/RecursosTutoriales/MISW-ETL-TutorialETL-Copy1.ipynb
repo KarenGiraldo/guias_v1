{
 "cells": [
  {
   "cell_type": "markdown",
   "metadata": {
    "id": "IcY9y56n86vn"
   },
   "source": [
    "# Tutorial: creación de ETLs con PySpark"
   ]
  },
  {
   "cell_type": "code",
   "execution_count": 1,
   "metadata": {
    "id": "os1iJYmu86vt"
   },
   "outputs": [],
   "source": [
    "# Configuración servidor base de datos transaccional\n",
    "# Recuerde usar Estudiante_i como usuario y la contraseña asigana en el excel de conexión a maquina virtual como contraseña\n",
    "db_user = 'Estudiante_19_202413'\n",
    "db_psswd = 'aabb1122'\n",
    "source_db_connection_string = 'jdbc:mysql://157.253.236.120:8080/WWImportersTransactional'\n",
    "\n",
    "dest_db_connection_string = 'jdbc:mysql://157.253.236.120:8080/Estudiante_19_202413'\n",
    "\n",
    "# Driver de conexion\n",
    "path_jar_driver = 'C:\\Program Files (x86)\\MySQL\\Connector J 8.0\\mysql-connector-java-8.0.28.jar'"
   ]
  },
  {
   "cell_type": "code",
   "execution_count": 42,
   "metadata": {
    "id": "HAGk_V1986vu"
   },
   "outputs": [],
   "source": [
    "import os \n",
    "from pyspark.sql import functions as f, SparkSession, types as t\n",
    "from pyspark.sql.functions import lit\n",
    "from pyspark import SparkContext, SparkConf, SQLContext\n",
    "from pyspark.sql.functions import udf, col, length, isnan, when, count, regexp_replace, to_date, date_format,trim\n",
    "import mysql.connector\n",
    "from pyspark.sql.window import Window\n",
    "from datetime import datetime\n",
    "from pyspark.sql.types import NumericType, DateType, StringType,IntegerType\n",
    "from pyspark.sql import functions as F\n",
    "from pyspark.sql.functions import col, max\n",
    "import pandas as pd\n",
    "import matplotlib.pyplot as plt\n",
    "import seaborn as sns\n",
    "import numpy as np\n"
   ]
  },
  {
   "cell_type": "code",
   "execution_count": 3,
   "metadata": {
    "id": "TQ3DM_Xf86vv",
    "outputId": "f2cdb157-a92d-4edc-a174-6f3bd09b9885"
   },
   "outputs": [
    {
     "name": "stderr",
     "output_type": "stream",
     "text": [
      "C:\\Users\\estudiante\\anaconda3\\envs\\Tutoriales\\lib\\site-packages\\pyspark\\sql\\context.py:79: FutureWarning: Deprecated in 3.0.0. Use SparkSession.builder.getOrCreate() instead.\n",
      "  FutureWarning\n"
     ]
    }
   ],
   "source": [
    "#Configuración de la sesión\n",
    "conf=SparkConf() \\\n",
    "    .set('spark.driver.extraClassPath', path_jar_driver)\n",
    "\n",
    "spark_context = SparkContext(conf=conf)\n",
    "sql_context = SQLContext(spark_context)\n",
    "spark = sql_context.sparkSession"
   ]
  },
  {
   "cell_type": "markdown",
   "metadata": {
    "id": "buA7s-vL86vw"
   },
   "source": [
    "### Conexión y carga de datos"
   ]
  },
  {
   "cell_type": "markdown",
   "metadata": {
    "id": "r_QZ-j9q86vw"
   },
   "source": [
    "Se define la función para conexión y cargue de dataframes desde la base de datos origen y luego la función para guardar un dataframe en una tabla de la base de datos destino."
   ]
  },
  {
   "cell_type": "code",
   "execution_count": 4,
   "metadata": {
    "id": "Mhy0jbh_86vw"
   },
   "outputs": [],
   "source": [
    "def obterner_dataframe_desde_csv(_PATH, _sep):\n",
    "    return spark.read.load(_PATH, format=\"csv\", sep=_sep, inferSchema=\"true\", header='true')\n",
    "\n",
    "def obtener_dataframe_de_bd(db_connection_string, sql, db_user, db_psswd):\n",
    "    df_bd = spark.read.format('jdbc')\\\n",
    "        .option('url', db_connection_string) \\\n",
    "        .option('dbtable', sql) \\\n",
    "        .option('user', db_user) \\\n",
    "        .option('password', db_psswd) \\\n",
    "        .option('driver', 'com.mysql.cj.jdbc.Driver') \\\n",
    "        .load()\n",
    "    return df_bd\n",
    "\n",
    "def guardar_db(db_connection_string, df, tabla, db_user, db_psswd):\n",
    "    df.select('*').write.format('jdbc') \\\n",
    "      .mode('append') \\\n",
    "      .option('url', db_connection_string) \\\n",
    "      .option('dbtable', tabla) \\\n",
    "      .option('user', db_user) \\\n",
    "      .option('password', db_psswd) \\\n",
    "      .option('driver', 'com.mysql.cj.jdbc.Driver') \\\n",
    "      .save()"
   ]
  },
  {
   "cell_type": "markdown",
   "metadata": {
    "id": "OGMlLaje86v9"
   },
   "source": [
    "# 3. Tarea ETL\n",
    "Espacio para desarrollar la tarea planteada"
   ]
  },
  {
   "cell_type": "code",
   "execution_count": 5,
   "metadata": {
    "id": "RwyeLpt386v9"
   },
   "outputs": [],
   "source": [
    "proveedores = obtener_dataframe_de_bd(source_db_connection_string, 'WWImportersTransactional.proveedores', db_user, db_psswd)\n",
    "tipos_transaccion = obtener_dataframe_de_bd(source_db_connection_string, 'WWImportersTransactional.TiposTransaccion', db_user, db_psswd)\n",
    "movimientos = obtener_dataframe_de_bd(source_db_connection_string, 'WWImportersTransactional.movimientos', db_user, db_psswd)"
   ]
  },
  {
   "cell_type": "code",
   "execution_count": 8,
   "metadata": {
    "scrolled": true
   },
   "outputs": [
    {
     "name": "stdout",
     "output_type": "stream",
     "text": [
      "root\n",
      " |-- ProveedorID: integer (nullable = true)\n",
      " |-- NombreProveedor: string (nullable = true)\n",
      " |-- CategoriaProveedorID: integer (nullable = true)\n",
      " |-- PersonaContactoPrincipalID: integer (nullable = true)\n",
      " |-- PersonaContactoAlternoID: integer (nullable = true)\n",
      " |-- MetodoEntregaID: double (nullable = true)\n",
      " |-- CiudadEntregaID: integer (nullable = true)\n",
      " |-- CiudadID: integer (nullable = true)\n",
      " |-- ReferenciaProveedor: string (nullable = true)\n",
      " |-- NombreCuentaBanco: string (nullable = true)\n",
      " |-- MarcaCuentaBanco: string (nullable = true)\n",
      " |-- CodigoCuentaBanco: integer (nullable = true)\n",
      " |-- NumeroCuentaBaco: long (nullable = true)\n",
      " |-- CodigoInternacionalBanco: integer (nullable = true)\n",
      " |-- DiasPago: integer (nullable = true)\n",
      " |-- ComentariosInternos: string (nullable = true)\n",
      " |-- NumeroTelefono: string (nullable = true)\n",
      " |-- NumeroFax: string (nullable = true)\n",
      " |-- URL: string (nullable = true)\n",
      " |-- Direccion1: string (nullable = true)\n",
      " |-- Direccion2: string (nullable = true)\n",
      " |-- CodigoPostal: integer (nullable = true)\n",
      " |-- UbicacionEntrega: string (nullable = true)\n",
      " |-- DireccionPostal1: string (nullable = true)\n",
      " |-- DireccionPostal2: string (nullable = true)\n",
      " |-- CodigoPostal2: integer (nullable = true)\n",
      " |-- UltimaEdicionPor: integer (nullable = true)\n",
      "\n"
     ]
    }
   ],
   "source": [
    "proveedores.printSchema()"
   ]
  },
  {
   "cell_type": "code",
   "execution_count": 10,
   "metadata": {},
   "outputs": [
    {
     "name": "stdout",
     "output_type": "stream",
     "text": [
      "+-----------+--------------------+--------------------+--------------------------+------------------------+---------------+---------------+--------+-------------------+--------------------+--------------------+-----------------+----------------+------------------------+--------+--------------------+--------------+--------------+--------------------+----------+--------------------+------------+--------------------+----------------+----------------+-------------+----------------+\n",
      "|ProveedorID|     NombreProveedor|CategoriaProveedorID|PersonaContactoPrincipalID|PersonaContactoAlternoID|MetodoEntregaID|CiudadEntregaID|CiudadID|ReferenciaProveedor|   NombreCuentaBanco|    MarcaCuentaBanco|CodigoCuentaBanco|NumeroCuentaBaco|CodigoInternacionalBanco|DiasPago| ComentariosInternos|NumeroTelefono|     NumeroFax|                 URL|Direccion1|          Direccion2|CodigoPostal|    UbicacionEntrega|DireccionPostal1|DireccionPostal2|CodigoPostal2|UltimaEdicionPor|\n",
      "+-----------+--------------------+--------------------+--------------------------+------------------------+---------------+---------------+--------+-------------------+--------------------+--------------------+-----------------+----------------+------------------------+--------+--------------------+--------------+--------------+--------------------+----------+--------------------+------------+--------------------+----------------+----------------+-------------+----------------+\n",
      "|          4|      Fabrikam, Inc.|                   4|                        27|                      28|            7.0|          18557|   18557|             293092|        Fabrikam Inc|Woodgrove Bank La...|           789568|      4125863879|                   12546|      30|                    |(203) 555-0104|(203) 555-0108|http://www.fabrik...|   Level 2|393999 Woodberg Road|       40351|0xE6100000010C86E...|      PO Box 301|       Eaglemont|        40351|               1|\n",
      "|          5|Graphic Design In...|                   2|                        29|                      30|           10.0|          18634|   18634|           08803922|Graphic Design In...|Woodgrove Bank La...|           563215|      1025869354|                   32587|      14|                    |(406) 555-0105|(406) 555-0106|http://www.graphi...|          |         45th Street|       64847|0xE6100000010C15E...|      PO Box 393|          Willow|        64847|               1|\n",
      "|          7|       Litware, Inc.|                   5|                        33|                      34|            2.0|          22602|   22602|          BC0280982|         Litware Inc|Woodgrove Bank Mo...|           358769|      3256896325|                   21445|      30|                    |(209) 555-0108|(209) 555-0104|http://www.litwar...|   Level 3| 19 Le Church Street|       95245|0xE6100000010C297...|    PO Box 20290|         Jackson|        95245|               1|\n",
      "|          9|      Nod Publishers|                   2|                        37|                      38|           10.0|          10346|   10346|         GL08029802|      Nod Publishers|Woodgrove Bank El...|           365985|      2021545878|                   48758|       7|Marcos is not in ...|(252) 555-0100|(252) 555-0101|http://www.nodpub...|   Level 1|     389 King Street|       27906|0xE6100000010C0EB...|     PO Box 3390|        Anderson|        27906|               1|\n",
      "|         10|Northwind Electri...|                   3|                        39|                      40|            8.0|           7899|    7899|          ML0300202|Northwind Electri...|Woodgrove Bank Cr...|           325447|      3258786987|                   36214|      30|                    |(201) 555-0105|(201) 555-0104|http://www.northw...|          |        440 New Road|        7860|0xE6100000010C6C4...|    PO Box 30920|       Arlington|         7860|               1|\n",
      "+-----------+--------------------+--------------------+--------------------------+------------------------+---------------+---------------+--------+-------------------+--------------------+--------------------+-----------------+----------------+------------------------+--------+--------------------+--------------+--------------+--------------------+----------+--------------------+------------+--------------------+----------------+----------------+-------------+----------------+\n",
      "only showing top 5 rows\n",
      "\n"
     ]
    }
   ],
   "source": [
    "proveedores.show(5)"
   ]
  },
  {
   "cell_type": "code",
   "execution_count": 46,
   "metadata": {},
   "outputs": [],
   "source": [
    "# Dimensión Proveedor\n",
    "proveedores_clean = proveedores.dropDuplicates() \\\n",
    "     .withColumn(\"DiasPago\", when(col(\"DiasPago\") < 0, col(\"DiasPago\") * -1).otherwise(col(\"DiasPago\"))) \\\n",
    "    .withColumn(\"NombreProveedor\", regexp_replace(col(\"NombreProveedor\"), r\"\\s+Inc\\.?\", \"\")) \\\n",
    "    .withColumn(\"NombreProveedor\", regexp_replace(col(\"NombreProveedor\"), r\"\\s+Ltd\\.?\", \"\")) \\\n",
    "    .withColumn(\"CodigoPostal\", when(col(\"CodigoPostal\") == \"DEFAULT_CODE\", lit(None)).otherwise(col(\"CodigoPostal\")))\n"
   ]
  },
  {
   "cell_type": "code",
   "execution_count": 47,
   "metadata": {
    "scrolled": true
   },
   "outputs": [
    {
     "name": "stdout",
     "output_type": "stream",
     "text": [
      "+-----------+--------------------+--------------------+--------------------------+------------------------+---------------+---------------+--------+-------------------+--------------------+--------------------+-----------------+----------------+------------------------+--------+--------------------+--------------+--------------+--------------------+----------+--------------------+------------+--------------------+----------------+----------------+-------------+----------------+\n",
      "|ProveedorID|     NombreProveedor|CategoriaProveedorID|PersonaContactoPrincipalID|PersonaContactoAlternoID|MetodoEntregaID|CiudadEntregaID|CiudadID|ReferenciaProveedor|   NombreCuentaBanco|    MarcaCuentaBanco|CodigoCuentaBanco|NumeroCuentaBaco|CodigoInternacionalBanco|DiasPago| ComentariosInternos|NumeroTelefono|     NumeroFax|                 URL|Direccion1|          Direccion2|CodigoPostal|    UbicacionEntrega|DireccionPostal1|DireccionPostal2|CodigoPostal2|UltimaEdicionPor|\n",
      "+-----------+--------------------+--------------------+--------------------------+------------------------+---------------+---------------+--------+-------------------+--------------------+--------------------+-----------------+----------------+------------------------+--------+--------------------+--------------+--------------+--------------------+----------+--------------------+------------+--------------------+----------------+----------------+-------------+----------------+\n",
      "|          6| Humongous Insurance|                   9|                        31|                      32|            0.0|          18656|   18656|          082420938| Humongous Insurance|Woodgrove Bank La...|           325001|      2569874521|                   32569|      14|                    |(423) 555-0105|(423) 555-0100|http://www.humong...|          |9893 Mount Norris...|       37770|0xE6100000010CCCF...|    PO Box 94829|        Boxville|        37770|               1|\n",
      "|          1| A Datum Corporation|                   2|                        21|                      22|            7.0|          38171|   38171|            AA20384| A Datum Corporation|Woodgrove Bank Zi...|           356981|      8575824136|                   25986|      14|                    |(847) 555-0100|(847) 555-0101|http://www.adatum...|  Suite 10|183838 Southwest ...|       46077|0xE6100000010CDE1...|     PO Box 1039|          Surrey|        46077|               1|\n",
      "|          9|      Nod Publishers|                   2|                        37|                      38|           10.0|          10346|   10346|         GL08029802|      Nod Publishers|Woodgrove Bank El...|           365985|      2021545878|                   48758|       7|Marcos is not in ...|(252) 555-0100|(252) 555-0101|http://www.nodpub...|   Level 1|     389 King Street|       27906|0xE6100000010C0EB...|     PO Box 3390|        Anderson|        27906|               1|\n",
      "|          3|Consolidated Mess...|                   6|                        25|                      26|            0.0|          30378|   30378|          209340283|Consolidated Mess...|Woodgrove Bank Sa...|           354269|      3254872158|                   45698|      30|                    |(415) 555-0100|(415) 555-0101|http://www.consol...|          |894 Market Day St...|       94101|0xE6100000010C529...|     PO Box 1014|       West Mont|        94101|               1|\n",
      "|         11|       Trey Research|                   8|                        41|                      42|            0.0|          17277|   17277|          082304822|       Trey Research|Woodgrove Bank Ka...|           658968|      1254785321|                   56958|       7|                    |(605) 555-0103|(605) 555-0101|http://www.treyre...|  Level 43|   9401 Polar Avenue|       57543|0xE6100000010C8E5...|     PO  Box 595|      Port Fairy|        57543|               1|\n",
      "+-----------+--------------------+--------------------+--------------------------+------------------------+---------------+---------------+--------+-------------------+--------------------+--------------------+-----------------+----------------+------------------------+--------+--------------------+--------------+--------------+--------------------+----------+--------------------+------------+--------------------+----------------+----------------+-------------+----------------+\n",
      "only showing top 5 rows\n",
      "\n"
     ]
    }
   ],
   "source": [
    "proveedores_clean.show(5)"
   ]
  },
  {
   "cell_type": "code",
   "execution_count": 12,
   "metadata": {},
   "outputs": [
    {
     "name": "stdout",
     "output_type": "stream",
     "text": [
      "root\n",
      " |-- TipoTransaccionID: integer (nullable = true)\n",
      " |-- TipoTransaccionNombre: string (nullable = true)\n",
      "\n"
     ]
    }
   ],
   "source": [
    "tipos_transaccion.printSchema()"
   ]
  },
  {
   "cell_type": "code",
   "execution_count": 39,
   "metadata": {},
   "outputs": [],
   "source": [
    "tipos_transaccion_clean = tipos_transaccion.dropDuplicates()"
   ]
  },
  {
   "cell_type": "code",
   "execution_count": 40,
   "metadata": {
    "scrolled": false
   },
   "outputs": [
    {
     "name": "stdout",
     "output_type": "stream",
     "text": [
      "+-----------------+---------------------+\n",
      "|TipoTransaccionID|TipoTransaccionNombre|\n",
      "+-----------------+---------------------+\n",
      "|               10|          Stock Issue|\n",
      "|               12| Stock Adjustment ...|\n",
      "|               13|      Customer Contra|\n",
      "|                9|       Stock Transfer|\n",
      "|                4|      Customer Refund|\n",
      "+-----------------+---------------------+\n",
      "only showing top 5 rows\n",
      "\n"
     ]
    }
   ],
   "source": [
    "tipos_transaccion_clean.show(5)"
   ]
  },
  {
   "cell_type": "code",
   "execution_count": 17,
   "metadata": {
    "scrolled": true
   },
   "outputs": [
    {
     "name": "stdout",
     "output_type": "stream",
     "text": [
      "root\n",
      " |-- TransaccionProductoID: long (nullable = true)\n",
      " |-- ProductoID: long (nullable = true)\n",
      " |-- TipoTransaccionID: long (nullable = true)\n",
      " |-- ClienteID: double (nullable = true)\n",
      " |-- InvoiceID: double (nullable = true)\n",
      " |-- ProveedorID: double (nullable = true)\n",
      " |-- OrdenDeCompraID: double (nullable = true)\n",
      " |-- FechaTransaccion: string (nullable = true)\n",
      " |-- Cantidad: double (nullable = true)\n",
      "\n"
     ]
    }
   ],
   "source": [
    "movimientos.printSchema()"
   ]
  },
  {
   "cell_type": "code",
   "execution_count": 22,
   "metadata": {},
   "outputs": [
    {
     "name": "stdout",
     "output_type": "stream",
     "text": [
      "+---------------------+----------+-----------------+---------+---------+-----------+---------------+----------------+--------+\n",
      "|TransaccionProductoID|ProductoID|TipoTransaccionID|ClienteID|InvoiceID|ProveedorID|OrdenDeCompraID|FechaTransaccion|Cantidad|\n",
      "+---------------------+----------+-----------------+---------+---------+-----------+---------------+----------------+--------+\n",
      "|                94344|       108|               10|    185.0|  19763.0|       null|           null|     Jan 20,2014|   -10.0|\n",
      "|                96548|       162|               11|      0.0|      0.0|        4.0|          228.0|     Jan 28,2014|    10.0|\n",
      "|                96560|       216|               10|    474.0|  20224.0|       null|           null|     Jan 28,2014|   -10.0|\n",
      "|                96568|        22|               11|      0.0|      0.0|        7.0|          193.0|     Jan 28,2014|    10.0|\n",
      "|                96648|        25|               11|      0.0|      0.0|        7.0|          408.0|     Jan 28,2014|    10.0|\n",
      "+---------------------+----------+-----------------+---------+---------+-----------+---------------+----------------+--------+\n",
      "only showing top 5 rows\n",
      "\n"
     ]
    }
   ],
   "source": [
    "movimientos.show(5)"
   ]
  },
  {
   "cell_type": "code",
   "execution_count": 43,
   "metadata": {},
   "outputs": [],
   "source": [
    "movimientos_clean = movimientos.dropDuplicates() \\\n",
    "    .withColumn(\"Cantidad\", when(col(\"Cantidad\") < 0, col(\"Cantidad\") * -1).otherwise(col(\"Cantidad\"))) \\\n",
    "    .withColumn(\"FechaTransaccion\", to_date(trim(col(\"FechaTransaccion\")), \"MMM dd,yyyy\")) \\\n",
    "    .withColumn(\"ID_Fecha\", date_format(col(\"FechaTransaccion\"), \"yyyyMMdd\").cast(IntegerType())) \\\n",
    "    .filter(col(\"FechaTransaccion\") >= \"2014-01-01\")"
   ]
  },
  {
   "cell_type": "code",
   "execution_count": 44,
   "metadata": {},
   "outputs": [
    {
     "name": "stdout",
     "output_type": "stream",
     "text": [
      "+---------------------+----------+-----------------+---------+---------+-----------+---------------+----------------+--------+--------+\n",
      "|TransaccionProductoID|ProductoID|TipoTransaccionID|ClienteID|InvoiceID|ProveedorID|OrdenDeCompraID|FechaTransaccion|Cantidad|ID_Fecha|\n",
      "+---------------------+----------+-----------------+---------+---------+-----------+---------------+----------------+--------+--------+\n",
      "|               171773|        45|               11|      0.0|      0.0|        7.0|         1972.0|      2014-11-05|    10.0|20141105|\n",
      "|               187759|       153|               11|      0.0|      0.0|        7.0|         1572.0|      2015-01-05|    10.0|20150105|\n",
      "|               243977|       204|               10|     55.0|  51099.0|       null|           null|      2015-07-16|    10.0|20150716|\n",
      "|               301031|        14|               10|    905.0|  63084.0|       null|           null|      2016-01-29|    10.0|20160129|\n",
      "|               237602|       173|               10|    877.0|  49761.0|       null|           null|      2015-06-26|    10.0|20150626|\n",
      "+---------------------+----------+-----------------+---------+---------+-----------+---------------+----------------+--------+--------+\n",
      "only showing top 5 rows\n",
      "\n"
     ]
    }
   ],
   "source": [
    "movimientos_clean.show(5)"
   ]
  }
 ],
 "metadata": {
  "colab": {
   "collapsed_sections": [
    "vtE61qk986vx",
    "X9Oou0g986vy",
    "B5kFkHTD86vz",
    "ddFhEOmL86vz",
    "MuvVgJ4R86v0",
    "BZjDeVYd86v1",
    "_7xbgfCk86v1",
    "Rh_102Yy86v1",
    "HogvCqW_86v2",
    "9rKmT9jd86v2",
    "R9SnkMUH86v3",
    "k8O1GvOd86v3",
    "Mo633Vpg86v3",
    "i36NawhX86v4",
    "LvgnsPfK86v4",
    "dTv_CIOT86v5",
    "N9f10qpB86v9"
   ],
   "name": "MISW-ETL-TutorialETL.ipynb",
   "provenance": []
  },
  "kernelspec": {
   "display_name": "Python 3 (ipykernel)",
   "language": "python",
   "name": "python3"
  },
  "language_info": {
   "codemirror_mode": {
    "name": "ipython",
    "version": 3
   },
   "file_extension": ".py",
   "mimetype": "text/x-python",
   "name": "python",
   "nbconvert_exporter": "python",
   "pygments_lexer": "ipython3",
   "version": "3.7.13"
  }
 },
 "nbformat": 4,
 "nbformat_minor": 4
}

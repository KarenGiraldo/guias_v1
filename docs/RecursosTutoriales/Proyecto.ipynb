{
 "cells": [
  {
   "cell_type": "markdown",
   "id": "27130c92",
   "metadata": {},
   "source": [
    "#### Importar librerías "
   ]
  },
  {
   "cell_type": "code",
   "execution_count": 88,
   "id": "a188cd19",
   "metadata": {},
   "outputs": [],
   "source": [
    "import os \n",
    "from pyspark.sql import functions as f, SparkSession, types as t\n",
    "from pyspark.sql.functions import lit\n",
    "from pyspark import SparkContext, SparkConf, SQLContext\n",
    "from pyspark.sql.functions import udf, col, length, isnan, when, count, regexp_replace\n",
    "import mysql.connector\n",
    "from pyspark.sql.window import Window\n",
    "from datetime import datetime\n",
    "from pyspark.sql.types import NumericType, DateType, StringType\n",
    "from pyspark.sql import functions as F\n",
    "from pyspark.sql.functions import col, max\n",
    "import pandas as pd\n",
    "import matplotlib.pyplot as plt\n",
    "import seaborn as sns\n",
    "import numpy as np"
   ]
  },
  {
   "cell_type": "markdown",
   "id": "3b32f3ff",
   "metadata": {},
   "source": [
    "#### Conexión a fuente de datos\n"
   ]
  },
  {
   "cell_type": "code",
   "execution_count": 2,
   "id": "3781fc97",
   "metadata": {},
   "outputs": [],
   "source": [
    "source_db_connection_string = 'jdbc:mysql://157.253.236.120:8080/RaSaTransaccional'\n",
    "\n",
    "# Driver de conexion\n",
    "path_jar_driver = 'C:\\Program Files (x86)\\MySQL\\Connector J 8.0\\mysql-connector-java-8.0.28.jar'"
   ]
  },
  {
   "cell_type": "code",
   "execution_count": 3,
   "id": "eb4f346d",
   "metadata": {
    "scrolled": true
   },
   "outputs": [
    {
     "name": "stderr",
     "output_type": "stream",
     "text": [
      "C:\\Users\\estudiante\\anaconda3\\envs\\Tutoriales\\lib\\site-packages\\pyspark\\sql\\context.py:79: FutureWarning: Deprecated in 3.0.0. Use SparkSession.builder.getOrCreate() instead.\n",
      "  FutureWarning\n"
     ]
    }
   ],
   "source": [
    "#Configuración de la sesión\n",
    "conf=SparkConf() \\\n",
    "    .set('spark.driver.extraClassPath', path_jar_driver)\n",
    "\n",
    "spark_context = SparkContext(conf=conf)\n",
    "sql_context = SQLContext(spark_context)\n",
    "spark = sql_context.sparkSession"
   ]
  },
  {
   "cell_type": "code",
   "execution_count": 4,
   "id": "141345d1",
   "metadata": {},
   "outputs": [],
   "source": [
    "# Configuración servidor base de datos transaccional\n",
    "# Utilizar el usuario asignado en el curso\n",
    "db_user = 'Estudiante_19_202413'\n",
    "db_psswd = 'aabb1122'\n",
    "db_proyecto = 'RaSaTransaccional'"
   ]
  },
  {
   "cell_type": "code",
   "execution_count": 5,
   "id": "cec14e8a",
   "metadata": {},
   "outputs": [],
   "source": [
    "def obtener_dataframe_de_bd(db_connection_string, sql, db_user, db_psswd):\n",
    "    df_bd = spark.read.format('jdbc')\\\n",
    "        .option('url', db_connection_string) \\\n",
    "        .option('dbtable', sql) \\\n",
    "        .option('user', db_user) \\\n",
    "        .option('password', db_psswd) \\\n",
    "        .option('driver', 'com.mysql.cj.jdbc.Driver') \\\n",
    "        .load()\n",
    "    return df_bd\n",
    "\n",
    "def guardar_db(db_connection_string, df, tabla, db_user, db_psswd):\n",
    "    df.select('*').write.format('jdbc') \\\n",
    "      .mode('append') \\\n",
    "      .option('url', db_connection_string) \\\n",
    "      .option('dbtable', tabla) \\\n",
    "      .option('user', db_user) \\\n",
    "      .option('password', db_psswd) \\\n",
    "      .option('driver', 'com.mysql.cj.jdbc.Driver') \\\n",
    "      .save()"
   ]
  },
  {
   "cell_type": "markdown",
   "id": "5361b3ee",
   "metadata": {},
   "source": [
    "#### Cargue de las cuatro tablas que se tienen para el proyecto"
   ]
  },
  {
   "cell_type": "code",
   "execution_count": 6,
   "id": "da0cd44e",
   "metadata": {},
   "outputs": [],
   "source": [
    "areas_servicio = obtener_dataframe_de_bd(source_db_connection_string, 'RaSaTransaccional.FuenteAreasDeServicio_Copia_E', db_user, db_psswd)\n",
    "condiciones_pago = obtener_dataframe_de_bd(source_db_connection_string, 'RaSaTransaccional.FuenteCondicionesDePago_Copia_E', db_user, db_psswd)\n",
    "planes_beneficio = obtener_dataframe_de_bd(source_db_connection_string, 'RaSaTransaccional.FuentePlanesBeneficio_Copia_E', db_user, db_psswd)\n",
    "tipos_beneficio = obtener_dataframe_de_bd(source_db_connection_string, 'RaSaTransaccional.FuenteTiposBeneficio_Copia_E', db_user, db_psswd)"
   ]
  },
  {
   "cell_type": "markdown",
   "id": "6437c10f",
   "metadata": {},
   "source": [
    "## Perfilamiento de los datos"
   ]
  },
  {
   "cell_type": "markdown",
   "id": "01b9693f",
   "metadata": {},
   "source": [
    "#### Tabla Areas de servicio"
   ]
  },
  {
   "cell_type": "code",
   "execution_count": 18,
   "id": "99c1c2d7",
   "metadata": {},
   "outputs": [
    {
     "name": "stdout",
     "output_type": "stream",
     "text": [
      "+------------------+--------------------+-------------+-----------------+----------+------------+-----+--------+-----+\n",
      "|IdAreaDeServicio_T|NombreAreaDeServicio|IdGeografia_T|          Condado|    Estado|PoblacionAct| Area|Densidad|Fecha|\n",
      "+------------------+--------------------+-------------+-----------------+----------+------------+-----+--------+-----+\n",
      "|         100622017|New Jersey - Medi...|        34005|Burlington County|New Jersey|    464269.0|805.0|   577.0| 2017|\n",
      "|         101012018|New Jersey - Medi...|        34031|   Passaic County|New Jersey|    518117.0|185.0|  2801.0| 2018|\n",
      "|          10132017|BlueOptions16842F...|        12031|     Duval County|   Florida|    999935.0|774.0|  1292.0| 2017|\n",
      "|         101982018|New Jersey - Medi...|        34003|    Bergen County|New Jersey|    953819.0|234.0|  4076.0| 2018|\n",
      "|         102012017|New Jersey - Medi...|        34021|    Mercer County|New Jersey|    385898.0|226.0|  1708.0| 2017|\n",
      "+------------------+--------------------+-------------+-----------------+----------+------------+-----+--------+-----+\n",
      "only showing top 5 rows\n",
      "\n"
     ]
    }
   ],
   "source": [
    "areas_servicio.show(5)"
   ]
  },
  {
   "cell_type": "code",
   "execution_count": 17,
   "id": "8eb4ca89",
   "metadata": {},
   "outputs": [
    {
     "name": "stdout",
     "output_type": "stream",
     "text": [
      "root\n",
      " |-- IdAreaDeServicio_T: integer (nullable = true)\n",
      " |-- NombreAreaDeServicio: string (nullable = true)\n",
      " |-- IdGeografia_T: integer (nullable = true)\n",
      " |-- Condado: string (nullable = true)\n",
      " |-- Estado: string (nullable = true)\n",
      " |-- PoblacionAct: double (nullable = true)\n",
      " |-- Area: double (nullable = true)\n",
      " |-- Densidad: double (nullable = true)\n",
      " |-- Fecha: integer (nullable = true)\n",
      "\n"
     ]
    }
   ],
   "source": [
    "areas_servicio.printSchema()"
   ]
  },
  {
   "cell_type": "markdown",
   "id": "be4489db",
   "metadata": {},
   "source": [
    "La tabla fuente areas de servicio contiene información sobre diferentes áreas de servicio en varios condados y estados, junto con detalles demográficos y geográficos asociados.\n",
    "Para la variable fecha se encuentra solo el año almacenado, es de importancia saber si está bien estructurado este campo.\n",
    "\n",
    "Se tiene como identificador unico IdAreaDeServicio_T y IdGeografia_T\n"
   ]
  },
  {
   "cell_type": "markdown",
   "id": "b384a287",
   "metadata": {},
   "source": [
    "#### Tabla Condiciones de pago\n"
   ]
  },
  {
   "cell_type": "code",
   "execution_count": 8,
   "id": "78ceadb0",
   "metadata": {
    "scrolled": true
   },
   "outputs": [
    {
     "name": "stdout",
     "output_type": "stream",
     "text": [
      "+---------------------+--------------------+--------+\n",
      "|IdCondicionesDePago_T|         Descripcion|    Tipo|\n",
      "+---------------------+--------------------+--------+\n",
      "|                  187|Copay with deduct...|  Copago|\n",
      "|                  204|       Copay per Day|  Copago|\n",
      "|                   45|         Coinsurance|Coseguro|\n",
      "|                   85|Copay per Day bef...|  Copago|\n",
      "|                   18|No Charge after d...|Coseguro|\n",
      "+---------------------+--------------------+--------+\n",
      "only showing top 5 rows\n",
      "\n"
     ]
    }
   ],
   "source": [
    "condiciones_pago.show(5)\n"
   ]
  },
  {
   "cell_type": "code",
   "execution_count": 16,
   "id": "db01db7d",
   "metadata": {},
   "outputs": [
    {
     "name": "stdout",
     "output_type": "stream",
     "text": [
      "root\n",
      " |-- IdCondicionesDePago_T: integer (nullable = true)\n",
      " |-- Descripcion: string (nullable = true)\n",
      " |-- Tipo: string (nullable = true)\n",
      "\n"
     ]
    }
   ],
   "source": [
    "condiciones_pago.printSchema()"
   ]
  },
  {
   "cell_type": "markdown",
   "id": "7a7afbe3",
   "metadata": {},
   "source": [
    "Contiene información sobre diferentes condiciones de pago relacionadas con servicios médicos, se tiene como identificador unico idCondicionesDePago_T para cada condición de pago, representado como un entero."
   ]
  },
  {
   "cell_type": "markdown",
   "id": "ad36e244",
   "metadata": {},
   "source": [
    "#### Tabla Planes beneficio"
   ]
  },
  {
   "cell_type": "code",
   "execution_count": 50,
   "id": "ddb9b12d",
   "metadata": {},
   "outputs": [
    {
     "name": "stdout",
     "output_type": "stream",
     "text": [
      "+-----------------+------------------+-------------------------+---------------------------+-----------------+-----------------+----------+-------------+-----------+-------------+--------------+\n",
      "|IdTipoBeneficio_T|IdAreaDeServicio_T|IdCondicionDePagoCopago_T|IdCondicionDePagoCoseguro_T|IdNivelServicio_T|         IdPlan_T|     Fecha|IdProveedor_T|valorCopago|valorCoseguro|cantidadLimite|\n",
      "+-----------------+------------------+-------------------------+---------------------------+-----------------+-----------------+----------+-------------+-----------+-------------+--------------+\n",
      "|              640|          10382017|                       34|                         27|                3|16842FL0070128-03|2017-12-31|        16842|          0|           50|            35|\n",
      "|              225|          31512017|                      238|                         45|                2|29418TX0140002-04|2017-12-31|        29418|          0|            0|          null|\n",
      "|              190|          66252017|                      238|                         45|                1|52697WI0010002-00|2017-12-31|        52697|          0|            0|          null|\n",
      "|              620|          49492017|                       34|                         45|                3|38166WI0180012-06|2017-12-31|        38166|          0|          100|          null|\n",
      "|              795|          37872017|                       34|                         45|                3|33602TX0460322-03|2017-12-31|        33602|          0|          100|          null|\n",
      "+-----------------+------------------+-------------------------+---------------------------+-----------------+-----------------+----------+-------------+-----------+-------------+--------------+\n",
      "only showing top 5 rows\n",
      "\n"
     ]
    }
   ],
   "source": [
    "planes_beneficio.show(5)\n"
   ]
  },
  {
   "cell_type": "code",
   "execution_count": 15,
   "id": "a8eb3609",
   "metadata": {
    "scrolled": true
   },
   "outputs": [
    {
     "name": "stdout",
     "output_type": "stream",
     "text": [
      "root\n",
      " |-- IdTipoBeneficio_T: long (nullable = true)\n",
      " |-- IdAreaDeServicio_T: long (nullable = true)\n",
      " |-- IdCondicionDePagoCopago_T: integer (nullable = true)\n",
      " |-- IdCondicionDePagoCoseguro_T: integer (nullable = true)\n",
      " |-- IdNivelServicio_T: integer (nullable = true)\n",
      " |-- IdPlan_T: string (nullable = true)\n",
      " |-- Fecha: string (nullable = true)\n",
      " |-- IdProveedor_T: integer (nullable = true)\n",
      " |-- valorCopago: integer (nullable = true)\n",
      " |-- valorCoseguro: integer (nullable = true)\n",
      " |-- cantidadLimite: integer (nullable = true)\n",
      "\n"
     ]
    }
   ],
   "source": [
    "planes_beneficio.printSchema()"
   ]
  },
  {
   "cell_type": "markdown",
   "id": "c171896e",
   "metadata": {},
   "source": [
    "Se puede observar que para el campo Fecha, no se tiene estructurado el campo en formato de fecha"
   ]
  },
  {
   "cell_type": "code",
   "execution_count": 40,
   "id": "ff7087aa",
   "metadata": {},
   "outputs": [
    {
     "name": "stdout",
     "output_type": "stream",
     "text": [
      "+-----------------+--------------------+--------------------+-----+---------------------+-----------------------+----------------------------------------+---------------------------------------+-----+\n",
      "|IdTipoBeneficio_T|              Nombre|     UnidadDelLimite|EsEHB|EstaCubiertaPorSeguro|TieneLimiteCuantitativo|ExcluidoDelDesembolsoMaximoDentroDeLaRed|ExcluidoDelDesembolsoMaximoFueraDeLaRed|Fecha|\n",
      "+-----------------+--------------------+--------------------+-----+---------------------+-----------------------+----------------------------------------+---------------------------------------+-----+\n",
      "|              565|Nutritional Couns...|                    |   No|                  Yes|                     No|                                      No|                                    Yes| 2017|\n",
      "|              795|Rehabilitative Sp...|Days per Benefit ...|  Yes|                  Yes|                    Yes|                                      No|                                    Yes| 2017|\n",
      "|              200| Denture Adjustments|                    |   No|                  Yes|                     No|                                      No|                                    Yes| 2017|\n",
      "|              335|        Hearing Aids| Item(s) per 3 Years|  Yes|                  Yes|                    Yes|                                      No|                                    Yes| 2017|\n",
      "|              570|Occlusal Adjustments|Procedure(s) per ...|   No|                  Yes|                    Yes|                                      No|                                    Yes| 2017|\n",
      "+-----------------+--------------------+--------------------+-----+---------------------+-----------------------+----------------------------------------+---------------------------------------+-----+\n",
      "only showing top 5 rows\n",
      "\n"
     ]
    }
   ],
   "source": [
    "tipos_beneficio.show(5)"
   ]
  },
  {
   "cell_type": "code",
   "execution_count": 41,
   "id": "4ec19bc7",
   "metadata": {},
   "outputs": [
    {
     "name": "stdout",
     "output_type": "stream",
     "text": [
      "root\n",
      " |-- IdTipoBeneficio_T: integer (nullable = true)\n",
      " |-- Nombre: string (nullable = true)\n",
      " |-- UnidadDelLimite: string (nullable = true)\n",
      " |-- EsEHB: string (nullable = true)\n",
      " |-- EstaCubiertaPorSeguro: string (nullable = true)\n",
      " |-- TieneLimiteCuantitativo: string (nullable = true)\n",
      " |-- ExcluidoDelDesembolsoMaximoDentroDeLaRed: string (nullable = true)\n",
      " |-- ExcluidoDelDesembolsoMaximoFueraDeLaRed: string (nullable = true)\n",
      " |-- Fecha: integer (nullable = true)\n",
      "\n"
     ]
    }
   ],
   "source": [
    "tipos_beneficio.printSchema()"
   ]
  },
  {
   "cell_type": "markdown",
   "id": "1c09750e",
   "metadata": {},
   "source": [
    "**¿Cuantos datos nos compartieron para el proyecto?**"
   ]
  },
  {
   "cell_type": "code",
   "execution_count": 12,
   "id": "6ef00b8a",
   "metadata": {},
   "outputs": [
    {
     "name": "stdout",
     "output_type": "stream",
     "text": [
      "Tabla 'Areas de servicio': 188815 filas, 9 columnas - Numéricas: 6, Fechas: 0, Caracteres: 3\n",
      "Tabla 'Condiciones de pago': 31 filas, 3 columnas - Numéricas: 1, Fechas: 0, Caracteres: 2\n",
      "Tabla 'Planes beneficio': 36036 filas, 11 columnas - Numéricas: 9, Fechas: 0, Caracteres: 2\n",
      "Tabla 'Tipos de beneficio': 849 filas, 9 columnas - Numéricas: 2, Fechas: 0, Caracteres: 7\n"
     ]
    }
   ],
   "source": [
    "def contar_tipos_columnas(df):\n",
    "    numericas = len([c for c in df.schema if isinstance(c.dataType, NumericType)])\n",
    "    fechas = len([c for c in df.schema if isinstance(c.dataType, DateType)])\n",
    "    caracteres = len([c for c in df.schema if isinstance(c.dataType, StringType)])\n",
    "    return numericas, fechas, caracteres\n",
    "\n",
    "tablas = [\"Areas de servicio\", \"Condiciones de pago\", \"Planes beneficio\", \"Tipos de beneficio\"]\n",
    "objetos = [areas_servicio, condiciones_pago, planes_beneficio, tipos_beneficio]\n",
    "\n",
    "for tabla, obj in zip(tablas, objetos):\n",
    "    numericas, fechas, caracteres = contar_tipos_columnas(obj)\n",
    "    print(f\"Tabla '{tabla}': {obj.count()} filas, {len(obj.columns)} columnas - Numéricas: {numericas}, Fechas: {fechas}, Caracteres: {caracteres}\")\n"
   ]
  },
  {
   "cell_type": "markdown",
   "id": "0f229a73",
   "metadata": {},
   "source": [
    "* Para la tabla area de servicio se cuenta con 188.815 registros, con nueve columnas de las cuales seis son númericas y tres son de tipo caracter, teniendo encuenta el diccionario de datos falta estructurar el formato tipo fecha para el campo \"Fecha\".\n",
    "* Para la tabla de condiciones de pagoo se puede observar un total de 31 registros con tres columnas que son una númerica y dos de tipo caracter.\n",
    "* Para la tabla planes beneficio se tiene un total de 36.036 registros, que contiene 11 columnas de las cuales nueve son numericas y dos de tipo caracter, con esto se pudo encontrar que para el campo \"Fecha\" no se tiene estructurado en formato DateType.\n",
    "* Para la tabla tipos de beneficio se tiene un total de 849 registros, que contiene nueve collumnas de las cuales dos son numericas y siete son de tipo caracter, con esto se pudo encontrar que para el campo \"Fecha\" no se tiene estructurado en formato DateType."
   ]
  },
  {
   "cell_type": "code",
   "execution_count": 13,
   "id": "02d8a1a8",
   "metadata": {},
   "outputs": [
    {
     "name": "stdout",
     "output_type": "stream",
     "text": [
      "Tabla 'Areas de servicio': 188815 filas, 9 columnas\n",
      " 43573 registros duplicados, 145242 registros únicos\n",
      "\n",
      "Tabla 'Condiciones de pago': 31 filas, 3 columnas\n",
      " 7 registros duplicados, 24 registros únicos\n",
      "\n",
      "Tabla 'Planes beneficio': 36036 filas, 11 columnas\n",
      " 8493 registros duplicados, 27543 registros únicos\n",
      "\n",
      "Tabla 'Tipos de beneficio': 849 filas, 9 columnas\n",
      " 271 registros duplicados, 578 registros únicos\n",
      "\n"
     ]
    }
   ],
   "source": [
    "def contar_duplicados_unicos(df):\n",
    "    total_count = df.count()\n",
    "    distinct_count = df.distinct().count()\n",
    "    num_duplicados = total_count - distinct_count\n",
    "    num_unicos = distinct_count\n",
    "    return total_count, num_duplicados, num_unicos\n",
    "\n",
    "tablas = [\"Areas de servicio\", \"Condiciones de pago\", \"Planes beneficio\", \"Tipos de beneficio\"]\n",
    "objetos = [areas_servicio, condiciones_pago, planes_beneficio, tipos_beneficio]\n",
    "\n",
    "for tabla, obj in zip(tablas, objetos):\n",
    "    total_count, num_duplicados, num_unicos = contar_duplicados_unicos(obj)\n",
    "    print(f\"Tabla '{tabla}': {total_count} filas, {len(obj.columns)} columnas\")\n",
    "    print(f\" {num_duplicados} registros duplicados, {num_unicos} registros únicos\\n\")\n",
    "\n"
   ]
  },
  {
   "cell_type": "markdown",
   "id": "9b76aa5a",
   "metadata": {},
   "source": [
    "Debido al resultado anterior, se quitan los duplicados ya que esto a futuro puede generar inconsistencias y deficiencias en la calidad de datos"
   ]
  },
  {
   "cell_type": "code",
   "execution_count": 14,
   "id": "5d307e54",
   "metadata": {},
   "outputs": [],
   "source": [
    "areas_servicio_d = areas_servicio.distinct()\n",
    "condiciones_pago_d = condiciones_pago.distinct()\n",
    "planes_beneficio_d = planes_beneficio.distinct()\n",
    "tipos_beneficio_d = tipos_beneficio.distinct()"
   ]
  },
  {
   "cell_type": "markdown",
   "id": "d2a84e41",
   "metadata": {},
   "source": [
    "### Revisión de reglas de negocio \n"
   ]
  },
  {
   "cell_type": "markdown",
   "id": "71dbe1b5",
   "metadata": {},
   "source": [
    "##### 1.  Las áreas de servicios reportadas cubren todos los condados del país"
   ]
  },
  {
   "cell_type": "markdown",
   "id": "459e1136",
   "metadata": {},
   "source": [
    "Para hacer la correspondiente validación se corrobora el cumplimiento de la regla tomando de \"United States Census Bureau - Geography\" se tienen 3144 condados."
   ]
  },
  {
   "cell_type": "code",
   "execution_count": 46,
   "id": "d1ebfd5d",
   "metadata": {
    "scrolled": true
   },
   "outputs": [
    {
     "name": "stdout",
     "output_type": "stream",
     "text": [
      "Total de registros únicos por Condado: 1398\n"
     ]
    }
   ],
   "source": [
    "# se hace revisión de la cantidad de condados que se tienen en la base de datos\n",
    "print(f\"Total de registros únicos por Condado: {areas_servicio_d.select('Condado').distinct().count()}\")\n"
   ]
  },
  {
   "cell_type": "markdown",
   "id": "397aa954",
   "metadata": {},
   "source": [
    "Ahora, se debe validar por año, cuantos servicios se tuvieron para poder validar el cumplimiento de la regla:"
   ]
  },
  {
   "cell_type": "code",
   "execution_count": 47,
   "id": "4f6afa95",
   "metadata": {
    "scrolled": false
   },
   "outputs": [
    {
     "name": "stdout",
     "output_type": "stream",
     "text": [
      "+-----+-------------------+\n",
      "|Fecha|Distintos Condadosb|\n",
      "+-----+-------------------+\n",
      "| 2018|               1215|\n",
      "| 1800|                987|\n",
      "| 2017|               1020|\n",
      "+-----+-------------------+\n",
      "\n"
     ]
    }
   ],
   "source": [
    "agrupado_por_fecha_y_condado = areas_servicio_d.groupBy(\"Fecha\").agg(F.countDistinct(\"Condado\").alias(\"Distintos Condadosb\"))\n",
    "\n",
    "agrupado_por_fecha_y_condado.show()\n"
   ]
  },
  {
   "cell_type": "markdown",
   "id": "6141992e",
   "metadata": {},
   "source": [
    "Como se puede observar no existe un cumplimiento sobre esta regla de negocio debido a que en ningunos de los años se evidencia el total de cubrimiento de lo 3144 condados que tiene Estados Unidos. Adicionalmente ya se puede notar una inconsistencia con la fecha debido a que hay información de 1800."
   ]
  },
  {
   "cell_type": "markdown",
   "id": "4fd7c84a",
   "metadata": {},
   "source": [
    "##### 2. Los tipos de beneficios con límite cuantitativo deben tener una cantidad límite diferente de cero en los planes que los ofrecen."
   ]
  },
  {
   "cell_type": "code",
   "execution_count": 49,
   "id": "463b67cc",
   "metadata": {
    "scrolled": true
   },
   "outputs": [
    {
     "name": "stdout",
     "output_type": "stream",
     "text": [
      "+-----------------------+-----+\n",
      "|TieneLimiteCuantitativo|count|\n",
      "+-----------------------+-----+\n",
      "|                   Nein|   18|\n",
      "|                     No|  340|\n",
      "|                    Yes|  210|\n",
      "|                     Si|   10|\n",
      "+-----------------------+-----+\n",
      "\n"
     ]
    }
   ],
   "source": [
    "#Contar limite cuantitativo\n",
    "tipos_beneficio_d.groupBy(\"TieneLimiteCuantitativo\").count().show()\n"
   ]
  },
  {
   "cell_type": "code",
   "execution_count": 53,
   "id": "3492a60c",
   "metadata": {},
   "outputs": [
    {
     "name": "stdout",
     "output_type": "stream",
     "text": [
      "+-----------------+------------------+-------------------------+---------------------------+-----------------+-----------------+----------+-------------+-----------+-------------+--------------+--------------------+---------------+-----+---------------------+-----------------------+----------------------------------------+---------------------------------------+-----+\n",
      "|IdTipoBeneficio_T|IdAreaDeServicio_T|IdCondicionDePagoCopago_T|IdCondicionDePagoCoseguro_T|IdNivelServicio_T|         IdPlan_T|     Fecha|IdProveedor_T|valorCopago|valorCoseguro|cantidadLimite|              Nombre|UnidadDelLimite|EsEHB|EstaCubiertaPorSeguro|TieneLimiteCuantitativo|ExcluidoDelDesembolsoMaximoDentroDeLaRed|ExcluidoDelDesembolsoMaximoFueraDeLaRed|Fecha|\n",
      "+-----------------+------------------+-------------------------+---------------------------+-----------------+-----------------+----------+-------------+-----------+-------------+--------------+--------------------+---------------+-----+---------------------+-----------------------+----------------------------------------+---------------------------------------+-----+\n",
      "|              625|          82462018|                      238|                         45|                2|67243LA0090004-00|2018-12-31|        67243|          0|            0|          null|Outpatient Facili...|               |  Yes|                  Yes|                     No|                                      No|                                     No| 2017|\n",
      "|              625|          82462018|                      238|                         45|                2|67243LA0090004-00|2018-12-31|        67243|          0|            0|          null|Outpatient Facili...|               |  Yes|                  Yes|                     No|                                      No|                                    Yes| 2017|\n",
      "|              250|          38482017|                       34|                         36|                2|33602TX0770036-05|2017-12-31|        33602|          0|            0|          null|Emergency Room Se...|               |  Yes|                  Yes|                     No|                                      No|                                     No| 2017|\n",
      "|              250|          38482017|                       34|                         36|                2|33602TX0770036-05|2017-12-31|        33602|          0|            0|          null|Emergency Room Se...|               |  Yes|                  Yes|                     No|                                      No|                                    Yes| 2017|\n",
      "|              530|           3102017|                       34|                         27|                1|11512NC0100028-03|2017-12-31|        11512|          0|           20|          null|Non-Emergency Car...|               |   No|                  Yes|                     No|                                      No|                                     No| 2017|\n",
      "+-----------------+------------------+-------------------------+---------------------------+-----------------+-----------------+----------+-------------+-----------+-------------+--------------+--------------------+---------------+-----+---------------------+-----------------------+----------------------------------------+---------------------------------------+-----+\n",
      "only showing top 5 rows\n",
      "\n"
     ]
    }
   ],
   "source": [
    "# Unir las tablas planes_beneficio y tipos_beneficio en el campo IdTipoBeneficio_T\n",
    "planes_beneficio_con_limites = planes_beneficio_d.join(tipos_beneficio_d, on=\"IdTipoBeneficio_T\", how=\"inner\")\n",
    "planes_beneficio_con_limites.show(5)"
   ]
  },
  {
   "cell_type": "code",
   "execution_count": 54,
   "id": "0008c908",
   "metadata": {},
   "outputs": [],
   "source": [
    "# Filtrar  Yes si y cantidadLimite es 0 o NULL\n",
    "beneficios_con_errores = planes_beneficio_con_limites.filter(\n",
    "    ((col(\"TieneLimiteCuantitativo\") == \"Yes\")|(col(\"TieneLimiteCuantitativo\") == \"Si\")) & \n",
    "    ((col(\"cantidadLimite\") == 0) | (col(\"cantidadLimite\").isNull())))"
   ]
  },
  {
   "cell_type": "code",
   "execution_count": 56,
   "id": "adcf9361",
   "metadata": {},
   "outputs": [
    {
     "name": "stdout",
     "output_type": "stream",
     "text": [
      "Número de beneficios con errores: 42203\n"
     ]
    }
   ],
   "source": [
    "# Contar el numero de beneficios con errores\n",
    "print(f\"Número de beneficios con errores: {beneficios_con_errores.count()}\")"
   ]
  },
  {
   "cell_type": "markdown",
   "id": "6af80767",
   "metadata": {},
   "source": [
    "Se puede observar inicialemnte que el limite cuantitativo tiene 4 opciones, por lo que el primer ajuste y consejo es estandarizar estas opciones. Al relizar el correspondiente filtro con los planes que tuvierna limite cuantitativo se pudo encontrar que 42.203 registros no cumplen con esta condición"
   ]
  },
  {
   "cell_type": "markdown",
   "id": "d9730337",
   "metadata": {},
   "source": [
    "##### 3.\tLas fuentes FuenteAreasDeServicio_Copia_E y FuenteTiposBeneficio_Copia_E comparten información de los años 2017 al 2019"
   ]
  },
  {
   "cell_type": "code",
   "execution_count": 63,
   "id": "f3e2de0e",
   "metadata": {},
   "outputs": [
    {
     "name": "stdout",
     "output_type": "stream",
     "text": [
      "+-----+-----+\n",
      "|Fecha|count|\n",
      "+-----+-----+\n",
      "| 2018|64083|\n",
      "| 2017|76318|\n",
      "+-----+-----+\n",
      "\n"
     ]
    }
   ],
   "source": [
    "# Filtrar los datos \n",
    "areas_servicio_filtered = areas_servicio_d.filter(col(\"Fecha\").between(2017, 2019))\n",
    "\n",
    "areas_servicio_filtered.groupBy(\"Fecha\").count().show()\n"
   ]
  },
  {
   "cell_type": "code",
   "execution_count": 64,
   "id": "672b8bb6",
   "metadata": {},
   "outputs": [
    {
     "name": "stdout",
     "output_type": "stream",
     "text": [
      "+-----+-----+\n",
      "|Fecha|count|\n",
      "+-----+-----+\n",
      "| 2018|  124|\n",
      "| 2017|  454|\n",
      "+-----+-----+\n",
      "\n"
     ]
    }
   ],
   "source": [
    "tipos_beneficio_filtered = tipos_beneficio_d.filter(col(\"Fecha\").between(2017, 2019))\n",
    "tipos_beneficio_filtered.groupBy(\"Fecha\").count().show()\n"
   ]
  },
  {
   "cell_type": "code",
   "execution_count": 61,
   "id": "d551b771",
   "metadata": {
    "scrolled": true
   },
   "outputs": [
    {
     "name": "stdout",
     "output_type": "stream",
     "text": [
      "+-----+------------------+--------------------+-------------+-------------+-------+------------+------+--------+-----------------+--------------------+--------------------+-----+---------------------+-----------------------+----------------------------------------+---------------------------------------+\n",
      "|Fecha|IdAreaDeServicio_T|NombreAreaDeServicio|IdGeografia_T|      Condado| Estado|PoblacionAct|  Area|Densidad|IdTipoBeneficio_T|              Nombre|     UnidadDelLimite|EsEHB|EstaCubiertaPorSeguro|TieneLimiteCuantitativo|ExcluidoDelDesembolsoMaximoDentroDeLaRed|ExcluidoDelDesembolsoMaximoFueraDeLaRed|\n",
      "+-----+------------------+--------------------+-------------+-------------+-------+------------+------+--------+-----------------+--------------------+--------------------+-----+---------------------+-----------------------+----------------------------------------+---------------------------------------+\n",
      "| 2017|          10352017|BlueOptions16842F...|        12083|Marion County|Florida|    385915.0|1579.0|   244.0|               15|         Acupuncture|Visit(s) per Bene...|  Yes|                  Yes|                    Yes|                                      No|                                     No|\n",
      "| 2017|          10352017|BlueOptions16842F...|        12083|Marion County|Florida|    385915.0|1579.0|   244.0|              100|Bone Marrow Trans...|                    |   No|                  Yes|                     No|                                      No|                                     No|\n",
      "| 2017|          10352017|BlueOptions16842F...|        12083|Marion County|Florida|    385915.0|1579.0|   244.0|              190|Dental Check-Up f...|   Visit(s) per Year|   No|                  Yes|                    Yes|                                      No|                                    Yes|\n",
      "| 2017|          10352017|BlueOptions16842F...|        12083|Marion County|Florida|    385915.0|1579.0|   244.0|              305|       Generic Drugs|                    | True|                  Yes|                     No|                                      No|                                    Yes|\n",
      "| 2017|          10352017|BlueOptions16842F...|        12083|Marion County|Florida|    385915.0|1579.0|   244.0|               30|     Allergy Testing|                    |  Yes|                  Yes|                     No|                                      No|                                     No|\n",
      "+-----+------------------+--------------------+-------------+-------------+-------+------------+------+--------+-----------------+--------------------+--------------------+-----+---------------------+-----------------------+----------------------------------------+---------------------------------------+\n",
      "only showing top 5 rows\n",
      "\n"
     ]
    }
   ],
   "source": [
    "# Unir\n",
    "combined_df = areas_servicio_filtered.join(\n",
    "    tipos_beneficio_filtered,\n",
    "    on=\"Fecha\", \n",
    "    how=\"inner\" \n",
    ")\n",
    "\n",
    "combined_df.show(5)\n"
   ]
  },
  {
   "cell_type": "markdown",
   "id": "3d263252",
   "metadata": {},
   "source": [
    "Al revisar se puede encontar que no existe una columna con un formato de fecha exacto, se tiene un campo Fecha que sólo contien los años. Asumiendo que es el formato adecuado se revisan las dos bases de datos y sólo se encuentra información del 2017 y 2018. Por lo que se puede concluir que existe un cumplimiento parcial de la regla debido a la ausencia del año 2019\n"
   ]
  },
  {
   "cell_type": "markdown",
   "id": "0c19603a",
   "metadata": {},
   "source": [
    "##### 4.\tLa empresa comparte 5409 áreas de servicios y 170 tipos de beneficios."
   ]
  },
  {
   "cell_type": "code",
   "execution_count": 68,
   "id": "299dcb28",
   "metadata": {},
   "outputs": [
    {
     "name": "stdout",
     "output_type": "stream",
     "text": [
      "Número de áreas de servicios: 5410\n"
     ]
    }
   ],
   "source": [
    "# Contar  servicios\n",
    "print(f\"Número de áreas de servicios: {areas_servicio_d.select('IdAreaDeServicio_T').distinct().count()}\")"
   ]
  },
  {
   "cell_type": "code",
   "execution_count": 71,
   "id": "8fedea80",
   "metadata": {},
   "outputs": [
    {
     "name": "stdout",
     "output_type": "stream",
     "text": [
      "Número de tipos de beneficios: 178\n"
     ]
    }
   ],
   "source": [
    "# Contar beneficios\n",
    "print(f\"Número de tipos de beneficios: {tipos_beneficio_d.select('IdTipoBeneficio_T').distinct().count()}\")\n"
   ]
  },
  {
   "cell_type": "markdown",
   "id": "2614f30b",
   "metadata": {},
   "source": [
    "Según el negocio, no se está cumpliendo esta regla debido que se tienen un total de 5410 areas de servicios y no 5409 como se informa, por su parte para el tipo de beneficios se tiene un tota de 178 y el negocio informa 170."
   ]
  },
  {
   "cell_type": "markdown",
   "id": "dbf49ad3",
   "metadata": {},
   "source": [
    "##### 5.\tEl valor máximo Copago y Coseguro para el año 2018 es respectivamente 3300 y 100."
   ]
  },
  {
   "cell_type": "code",
   "execution_count": 72,
   "id": "8143db9a",
   "metadata": {},
   "outputs": [],
   "source": [
    "# Filtrar l\n",
    "planes_beneficio_2018 = planes_beneficio_d.filter(col(\"Fecha\").startswith(\"2018\"))\n"
   ]
  },
  {
   "cell_type": "code",
   "execution_count": 74,
   "id": "86c3cec4",
   "metadata": {},
   "outputs": [
    {
     "name": "stdout",
     "output_type": "stream",
     "text": [
      "Valor máximo de Copago para el año 2018: 3500\n",
      "Valor máximo de Coseguro para el año 2018: 100\n"
     ]
    }
   ],
   "source": [
    "# Encontrar el valor max\n",
    "max_values = planes_beneficio_2018.select(max(\"valorCopago\").alias(\"max_valorCopago\"),\n",
    "                                          max(\"valorCoseguro\").alias(\"max_valorCoseguro\")).collect()[0]\n",
    "\n",
    "print(f\"Valor máximo de Copago para el año 2018: {max_values['max_valorCopago']}\")\n",
    "print(f\"Valor máximo de Coseguro para el año 2018: {max_values['max_valorCoseguro']}\")\n"
   ]
  },
  {
   "cell_type": "markdown",
   "id": "47e8b2d1",
   "metadata": {},
   "source": [
    "Al realizar el filtro correspondiente para el año 2018, se puede observar que el valor maximo para copago es de 3500 pero segun el negocio es 3300 por lo que se puede observar un incumplimiento de la regla, por su parte para el coseguro se tiene un valor maximo de 100 por lo que para este escenario si existe cumplimiento de la regla."
   ]
  },
  {
   "cell_type": "markdown",
   "id": "51af3c04",
   "metadata": {},
   "source": [
    "##### 6.\tAdemás, les comparte información de 301 planes para 2017 y de 422 para el año 2018."
   ]
  },
  {
   "cell_type": "code",
   "execution_count": 75,
   "id": "fd506bb7",
   "metadata": {},
   "outputs": [],
   "source": [
    "# Filtrar 2017\n",
    "planes_beneficio_2017 = planes_beneficio_d.filter(col(\"Fecha\").startswith(\"2017\"))"
   ]
  },
  {
   "cell_type": "code",
   "execution_count": 76,
   "id": "fb3a2c69",
   "metadata": {},
   "outputs": [
    {
     "name": "stdout",
     "output_type": "stream",
     "text": [
      "Número de planes para el año 2017: 203\n",
      "Número de planes para el año 2018: 286\n"
     ]
    }
   ],
   "source": [
    "# Contar planes 2017\n",
    "print(f\"Número de planes para el año 2017: {planes_beneficio_2017.select('IdPlan_T').distinct().count()}\")\n",
    "\n",
    "# Contar planes 2018\n",
    "print(f\"Número de planes para el año 2018: {planes_beneficio_2018.select('IdPlan_T').distinct().count()}\")\n"
   ]
  },
  {
   "cell_type": "markdown",
   "id": "f22b780e",
   "metadata": {},
   "source": [
    "Para el 2017 se encontaron 203 planes, y para el año 2018, 286 planes. Por lo que se puede concluir un incumplimiento de la regla."
   ]
  },
  {
   "cell_type": "markdown",
   "id": "12e43839",
   "metadata": {},
   "source": [
    "##### 7.\tExisten 15 y 5 diferentes condiciones de copago y coseguro respectivamente."
   ]
  },
  {
   "cell_type": "code",
   "execution_count": 78,
   "id": "96b0411f",
   "metadata": {},
   "outputs": [
    {
     "name": "stdout",
     "output_type": "stream",
     "text": [
      "Número de diferentes condiciones de copago: 14\n"
     ]
    }
   ],
   "source": [
    "# Filtrar las condiciones de pago por Copago y contar las diferentes condiciones de copago\n",
    "print(f\"Número de diferentes condiciones de copago: {condiciones_pago_d.filter(col('Tipo') == 'Copago').select('IdCondicionesDePago_T').distinct().count()}\")\n"
   ]
  },
  {
   "cell_type": "code",
   "execution_count": 79,
   "id": "35727b10",
   "metadata": {},
   "outputs": [
    {
     "name": "stdout",
     "output_type": "stream",
     "text": [
      "Número de diferentes condiciones de coseguro: 5\n"
     ]
    }
   ],
   "source": [
    "# Filtrar las condiciones de pago por Coseguro y contar las diferentes condiciones de coseguro\n",
    "print(f\"Número de diferentes condiciones de coseguro: {condiciones_pago_d.filter(col('Tipo') == 'Coseguro').select('IdCondicionesDePago_T').distinct().count()}\")\n"
   ]
  },
  {
   "cell_type": "markdown",
   "id": "33c93853",
   "metadata": {},
   "source": [
    "Se puede observar que las condiciones copago son 14 y las condiciones coseguro son 5, por lo tanto el cumplimienoto de la regla sólo esta sucediendo para coseguro."
   ]
  },
  {
   "cell_type": "markdown",
   "id": "ca28fe17",
   "metadata": {},
   "source": [
    "### Análisis descriptivo\n"
   ]
  },
  {
   "cell_type": "code",
   "execution_count": 82,
   "id": "4d5ee6f2",
   "metadata": {},
   "outputs": [
    {
     "name": "stdout",
     "output_type": "stream",
     "text": [
      "Estadísticas descriptivas para 'Areas de servicio':\n",
      "+-------+--------------------+--------------------+------------------+----------------+-------+-------------------+------------------+------------------+------------------+\n",
      "|summary|  IdAreaDeServicio_T|NombreAreaDeServicio|     IdGeografia_T|         Condado| Estado|       PoblacionAct|              Area|          Densidad|             Fecha|\n",
      "+-------+--------------------+--------------------+------------------+----------------+-------+-------------------+------------------+------------------+------------------+\n",
      "|  count|              140401|              145242|            140401|          145242| 145242|             145242|            143407|            143407|            145242|\n",
      "|   mean|5.5698808504825465E7|                null| 42958.95580515808|            null|   null| 4.17130809318379E7| 770.8530197270705|276.27897522436143|2010.2084796408753|\n",
      "| stddev|3.0420605012903877E7|                null|32485.817917294342|            null|   null|5.899014307727656E8|1303.6563871086605| 857.4682275057237|39.036272969010696|\n",
      "|    min|               12018|AZ Statewide12303...|              1001|Abbeville County|Alabama|               82.0|          -24707.0|               0.0|              1800|\n",
      "|    max|           117872018|Wyoming11269WY008...|            168135|  Ziebach County|Wyoming|         4.72803E10|           88824.0|           14946.0|              2018|\n",
      "+-------+--------------------+--------------------+------------------+----------------+-------+-------------------+------------------+------------------+------------------+\n",
      "\n",
      "Estadísticas descriptivas para 'Condiciones de pago':\n",
      "+-------+---------------------+--------------+-------------+\n",
      "|summary|IdCondicionesDePago_T|   Descripcion|         Tipo|\n",
      "+-------+---------------------+--------------+-------------+\n",
      "|  count|                   24|            24|           24|\n",
      "|   mean|              160.125|          null|          NaN|\n",
      "| stddev|    178.7011867068453|          null|         null|\n",
      "|    min|                    9|   Coinsurance|     Copagado|\n",
      "|    max|                  714|Not Applicable|SinTipoCopago|\n",
      "+-------+---------------------+--------------+-------------+\n",
      "\n",
      "Estadísticas descriptivas para 'Planes beneficio':\n",
      "+-------+-----------------+--------------------+-------------------------+---------------------------+------------------+-----------------+-----------+------------------+------------------+-----------------+------------------+\n",
      "|summary|IdTipoBeneficio_T|  IdAreaDeServicio_T|IdCondicionDePagoCopago_T|IdCondicionDePagoCoseguro_T| IdNivelServicio_T|         IdPlan_T|      Fecha|     IdProveedor_T|       valorCopago|    valorCoseguro|    cantidadLimite|\n",
      "+-------+-----------------+--------------------+-------------------------+---------------------------+------------------+-----------------+-----------+------------------+------------------+-----------------+------------------+\n",
      "|  count|            26131|               25964|                    27543|                      27543|             27543|            27543|      27543|             27543|             27543|            27543|              4188|\n",
      "|   mean|585.1014121158777| 6.517904054968418E7|       140.65791671205025|          38.91732926696438|1.9995643176124605|             null|       null|49998.099190356894|10.017282068039066|24.21787750063537|137.18075453677173|\n",
      "| stddev|390.3542642733044|4.1809669532932155E7|        100.6181733422994|            8.7913896727134|0.8170447225882393|             null|       null|25555.082013697065|101.25582015091163|36.94724168474834|1027.6246511896752|\n",
      "|    min|                5|               12018|                       17|                          9|                 1|                 | 1920-12-31|             10207|                 0|                0|                 1|\n",
      "|    max|             2110|           235734036|                      238|                         45|                 3|99969OH0080069-00|Dec 31,2018|             99969|              3500|              100|             30000|\n",
      "+-------+-----------------+--------------------+-------------------------+---------------------------+------------------+-----------------+-----------+------------------+------------------+-----------------+------------------+\n",
      "\n",
      "Estadísticas descriptivas para 'Tipos de beneficio':\n",
      "+-------+------------------+--------------------+-----------------+-----+---------------------+-----------------------+----------------------------------------+---------------------------------------+------------------+\n",
      "|summary| IdTipoBeneficio_T|              Nombre|  UnidadDelLimite|EsEHB|EstaCubiertaPorSeguro|TieneLimiteCuantitativo|ExcluidoDelDesembolsoMaximoDentroDeLaRed|ExcluidoDelDesembolsoMaximoFueraDeLaRed|             Fecha|\n",
      "+-------+------------------+--------------------+-----------------+-----+---------------------+-----------------------+----------------------------------------+---------------------------------------+------------------+\n",
      "|  count|               578|                 578|              578|  578|                  578|                    578|                                     578|                                    578|               578|\n",
      "|   mean| 508.0536332179931|                null|             null| null|                 null|                   null|                                    null|                                   null|2017.2145328719723|\n",
      "| stddev|306.47542200564146|                null|             null| null|                 null|                   null|                                    null|                                   null|  0.41085345478558|\n",
      "|    min|                 5|Abortion for Whic...|                 |   No|                False|                   Nein|                           Algunas veces|                                     No|              2017|\n",
      "|    max|              1055|X-rays and Diagno...|Visit(s) per year|  Yes|                  Yes|                    Yes|                                     Yes|                                    Yes|              2018|\n",
      "+-------+------------------+--------------------+-----------------+-----+---------------------+-----------------------+----------------------------------------+---------------------------------------+------------------+\n",
      "\n"
     ]
    }
   ],
   "source": [
    "tablas = {\n",
    "    \"Areas de servicio\": areas_servicio_d,\n",
    "    \"Condiciones de pago\": condiciones_pago_d,\n",
    "    \"Planes beneficio\": planes_beneficio_d,\n",
    "    \"Tipos de beneficio\": tipos_beneficio_d\n",
    "}\n",
    "\n",
    "# descriptivo \n",
    "for nombre, df in tablas.items():\n",
    "    print(f\"Estadísticas descriptivas para '{nombre}':\")\n",
    "    df.describe().show()\n"
   ]
  },
  {
   "cell_type": "code",
   "execution_count": 86,
   "id": "07b04d30",
   "metadata": {},
   "outputs": [],
   "source": [
    "def plot_boxplot(df, title):\n",
    "    df_pd = df.toPandas()\n",
    "    numeric_columns = [col for col in df_pd.select_dtypes(include=[np.number]).columns if 'ID' not in col and 'Id' not in col]\n",
    "    if numeric_columns:\n",
    "        df_pd[numeric_columns].plot(kind='box', figsize=(10, 6))\n",
    "        plt.title(title)\n",
    "        plt.show()\n",
    "    else:\n",
    "        print(f\"No hay columnas numéricas para mostrar en '{title}'.\")\n",
    "\n",
    "def plot_histogram(df, title):\n",
    "    df_pd = df.toPandas()\n",
    "    numeric_columns = [col for col in df_pd.select_dtypes(include=[np.number]).columns if 'ID' not in col and 'Id' not in col]\n",
    "    if numeric_columns:\n",
    "        df_pd[numeric_columns].hist(figsize=(15, 10), bins=20)\n",
    "        plt.suptitle(title)\n",
    "        plt.show()\n",
    "    else:\n",
    "        print(f\"No hay columnas numéricas para mostrar en '{title}'.\")\n",
    "\n",
    "def plot_correlation_matrix(df, title):\n",
    "    df_pd = df.toPandas()\n",
    "    numeric_columns = [col for col in df_pd.select_dtypes(include=[np.number]).columns if 'ID' not in col and 'Id' not in col]\n",
    "    if numeric_columns:\n",
    "        corr = df_pd[numeric_columns].corr()\n",
    "        plt.figure(figsize=(12, 8))\n",
    "        sns.heatmap(corr, annot=True, cmap='coolwarm', fmt=\".2f\")\n",
    "        plt.title(f\"Matriz de correlación para {title}\")\n",
    "        plt.show()\n",
    "    else:\n",
    "        print(f\"No hay columnas numéricas para mostrar en '{title}'.\")\n"
   ]
  },
  {
   "cell_type": "code",
   "execution_count": 89,
   "id": "3178fe67",
   "metadata": {},
   "outputs": [
    {
     "name": "stdout",
     "output_type": "stream",
     "text": [
      "Diagrama de cajas y bigotes para 'Areas de servicio':\n"
     ]
    },
    {
     "data": {
      "image/png": "[encoded data removed]",
      "text/plain": [
       "<Figure size 720x432 with 1 Axes>"
      ]
     },
     "metadata": {
      "needs_background": "light"
     },
     "output_type": "display_data"
    },
    {
     "name": "stdout",
     "output_type": "stream",
     "text": [
      "Histogramas para 'Areas de servicio':\n"
     ]
    },
    {
     "data": {
      "image/png": "[encoded data removed]",
      "text/plain": [
       "<Figure size 1080x720 with 4 Axes>"
      ]
     },
     "metadata": {
      "needs_background": "light"
     },
     "output_type": "display_data"
    },
    {
     "name": "stdout",
     "output_type": "stream",
     "text": [
      "Matriz de correlación para 'Areas de servicio':\n"
     ]
    },
    {
     "data": {
      "image/png": "[encoded data removed]",
      "text/plain": [
       "<Figure size 864x576 with 2 Axes>"
      ]
     },
     "metadata": {
      "needs_background": "light"
     },
     "output_type": "display_data"
    },
    {
     "name": "stdout",
     "output_type": "stream",
     "text": [
      "Diagrama de cajas y bigotes para 'Condiciones de pago':\n",
      "No hay columnas numéricas para mostrar en 'Condiciones de pago'.\n",
      "Histogramas para 'Condiciones de pago':\n",
      "No hay columnas numéricas para mostrar en 'Condiciones de pago'.\n",
      "Matriz de correlación para 'Condiciones de pago':\n",
      "No hay columnas numéricas para mostrar en 'Condiciones de pago'.\n",
      "Diagrama de cajas y bigotes para 'Planes beneficio':\n"
     ]
    },
    {
     "data": {
      "image/png": "[encoded data removed]",
      "text/plain": [
       "<Figure size 720x432 with 1 Axes>"
      ]
     },
     "metadata": {
      "needs_background": "light"
     },
     "output_type": "display_data"
    },
    {
     "name": "stdout",
     "output_type": "stream",
     "text": [
      "Histogramas para 'Planes beneficio':\n"
     ]
    },
    {
     "data": {
      "image/png": "[encoded data removed]",
      "text/plain": [
       "<Figure size 1080x720 with 4 Axes>"
      ]
     },
     "metadata": {
      "needs_background": "light"
     },
     "output_type": "display_data"
    },
    {
     "name": "stdout",
     "output_type": "stream",
     "text": [
      "Matriz de correlación para 'Planes beneficio':\n"
     ]
    },
    {
     "data": {
      "image/png": "[encoded data removed]",
      "text/plain": [
       "<Figure size 864x576 with 2 Axes>"
      ]
     },
     "metadata": {
      "needs_background": "light"
     },
     "output_type": "display_data"
    },
    {
     "name": "stdout",
     "output_type": "stream",
     "text": [
      "Diagrama de cajas y bigotes para 'Tipos de beneficio':\n"
     ]
    },
    {
     "data": {
      "image/png": "[encoded data removed]",
      "text/plain": [
       "<Figure size 720x432 with 1 Axes>"
      ]
     },
     "metadata": {
      "needs_background": "light"
     },
     "output_type": "display_data"
    },
    {
     "name": "stdout",
     "output_type": "stream",
     "text": [
      "Histogramas para 'Tipos de beneficio':\n"
     ]
    },
    {
     "data": {
      "image/png": "[encoded data removed]",
      "text/plain": [
       "<Figure size 1080x720 with 1 Axes>"
      ]
     },
     "metadata": {
      "needs_background": "light"
     },
     "output_type": "display_data"
    },
    {
     "name": "stdout",
     "output_type": "stream",
     "text": [
      "Matriz de correlación para 'Tipos de beneficio':\n"
     ]
    },
    {
     "data": {
      "image/png": "[encoded data removed]",
      "text/plain": [
       "<Figure size 864x576 with 2 Axes>"
      ]
     },
     "metadata": {
      "needs_background": "light"
     },
     "output_type": "display_data"
    }
   ],
   "source": [
    "# Diagramas de Cajas y Bigotes, Histogramas y Matriz de Correlación\n",
    "for nombre, df in tablas.items():\n",
    "    print(f\"Diagrama de cajas y bigotes para '{nombre}':\")\n",
    "    plot_boxplot(df, nombre)\n",
    "    print(f\"Histogramas para '{nombre}':\")\n",
    "    plot_histogram(df, nombre)\n",
    "    print(f\"Matriz de correlación para '{nombre}':\")\n",
    "    plot_correlation_matrix(df, nombre)"
   ]
  },
  {
   "cell_type": "markdown",
   "id": "92cf541b",
   "metadata": {},
   "source": [
    "###### Tabla Areas de servicio: \n",
    "* Diagrama Cajas  y Bigotes: El diagrama de cajas y bigotes inicial indica una gran variabilidad y presencia de valores atípicos en los datos justamente por la variable \"PoblacionAct\"\n",
    " \n",
    "* Histogramas:\n",
    " * PoblacionAct: La mayoría de las áreas tienen poblaciones bajas, con muy pocos casos de áreas con poblaciones extremadamente altas. \n",
    " * Area: La mayoría de las áreas tienen tamaños pequeños, con muy pocos casos de áreas extremadamente grandes.\n",
    " * Densidad: La densidad de población en la mayoría de las áreas es baja, con algunos casos de densidades extremadamente altas.\n",
    " * Fecha: La mayoría de los registros están concentrados en los años recientes.\n",
    "\n",
    "* Matriz de correlación:\n",
    " * PoblacionAct: Correlación positiva débil con Area (0.09).\n",
    " * Area: Correlación negativa débil con Densidad.\n",
    " * Densidad: Correlación negativa débil.\n",
    " * Fecha: Correlación insignificante con todas las demás variables.\n",
    " "
   ]
  },
  {
   "cell_type": "markdown",
   "id": "0fbe1eed",
   "metadata": {},
   "source": [
    "###### Planes beneficio: \n",
    "\n",
    "* Diagrama Cajas  y Bigotes:\n",
    " * ValorCopago: La mayoría de los datos están concentrados en la parte baja, con varios outliers hacia la derecha.\n",
    " * ValorCoseguro: La caja es pequeña, indicando poca variabilidad en los datos de área.\n",
    " * Cantidadlimite: Existen valores atípicos que son significativamente mayores que la mayoría de los datos, indicando algunos planes con límites de cantidad excepcionalmente altos.\n",
    " \n",
    "* Histogramas: \n",
    " * valorCopago: La mayoría de los valores están cerca de cero, con una cola que se extiende hacia la derecha. Esto indica que la mayoría de los planes tienen un copago bajo, pero hay algunos planes con copagos significativamente más altos.\n",
    " * valorCoseguro: La distribución es muy similar a la de valorCopago, con la mayoría de los valores concentrados cerca de cero.\n",
    " * cantidadLimite: la mayoría de los valores están cerca de cero, con algunos valores excepcionalmente altos.\n",
    "\n",
    "* Matriz de correlación:\n",
    " * valorCopago: No muestra una correlación significativa con valorCoseguro (-0.01) ni con cantidadLimite (0.00).\n",
    " * valorCoseguro: Similar a valorCopago, valorCoseguro no muestra una correlación significativa con cantidadLimite (0.00)\n",
    " * cantidadLimite: No muestra correlaciones significativas con ninguna otra variable, indicando que los límites de cantidad no están relacionados con los valores de copago o coseguro.\n",
    " "
   ]
  },
  {
   "cell_type": "markdown",
   "id": "e218a3ba",
   "metadata": {},
   "source": [
    "Análisis 1.a: Dado un proveedor o grupo de proveedores, identificar si tiene o ha tenido un comportamiento desleal.\n",
    "\n",
    "Se puede tomar la tabla planes_beneficio, donde la columna IdProveedor_T en la tabla planes_beneficio permite identificar los planes ofrecidos por un proveedor específico y la columna IdTipoBeneficio_T permite comparar los valores de copago y coseguro para el mismo tipo de beneficio.\n",
    "\n",
    "Análisis 1.b: Dado un rango de fechas, identificar proveedores con comportamientos desleales.\n",
    "\n",
    "Se puede tomar la tabla planes_beneficio, donde la columna Fecha permite filtrar los datos por el rango de fechas especificado.\n",
    "La columna IdProveedor_T permite identificar los planes ofrecidos por un proveedor específico dentro del rango de fechas.\n",
    "La columna IdTipoBeneficio_T permite comparar los valores de copago y coseguro para el mismo tipo de beneficio.\n",
    "\n",
    "* Se asume que la columna Fecha está en el formato YYYY-MM-DD.\n",
    "* Se asume que todos los planes y beneficios están registrados en la base de datos.\n",
    "\n",
    "Preguntas al negocio:\n",
    "* Rango de Fechas: ¿Debe el rango de fechas incluir tanto el inicio como el fin de la fecha proporcionada?\n",
    "* ¿Cómo deben manejarse los valores nulos en las columnas valorCopago y valorCoseguro?\n",
    "* ¿Se deben considerar valores atípicos en los análisis de copago y coseguro?\n",
    "\n",
    "Ajustes convenientes a realizar: \n",
    "* Verificar y asegurar que la columna Fecha esté en el formato correcto en todas las tablas.\n",
    "* Decidir cómo manejar los valores nulos en las columnas valorCopago y valorCoseguro. Se puede optar por eliminar registros nulos o imputar valores según criterios específicos.\n",
    "\n",
    "\n",
    "Análisis 2.a: Nivel de Cobertura de los Planes con Respecto a las Áreas de Servicio\n",
    "Se puede utilizar las tablas areas_servicio y planes_beneficio con las columnas IdAreaDeServicio_T y Fecha en ambas tablas.\n",
    "\n",
    "Análisis 2.b: Cobertura Total de los Proveedores\n",
    "Se pueden utilizar las columnas IdProveedor_T, IdAreaDeServicio_T, y Fecha en la tabla planes_beneficio.\n",
    "\n",
    "Análisis 2.c: Áreas de Servicios Cubiertas por Menos de Dos Proveedores\n",
    "Se pueden utilizar las columnas IdAreaDeServicio_T, IdProveedor_T, y Fecha en la tabla planes_beneficio.\n",
    "\n",
    "Preguntas al negocio:\n",
    "\n",
    "* ¿La cobertura total se refiere a que cada área de servicio debe estar cubierta por al menos un plan en cada año, o solo una vez en el rango de años?\n",
    "* ¿La fecha en planes_beneficio se refiere al año en el que el plan está activo, y debe considerarse así para todos los análisis?\n",
    "\n",
    "\n",
    "Análisis 3.a:Dado un rango de años, identificar cuántos y cuáles planes hay por áreas de servicio \n",
    "Es posible con las columnas IdAreaDeServicio_T, NombreAreaDeServicio, Fecha, IdPlan_T de las tablas areas_servicio y planes_beneficio.\n",
    "\n",
    "Análisis 3.b:  Identificar áreas con concentraciones de planes que no correspondan con la cantidad de habitantes\n",
    "Es posible con las mismas columnas, añadiendo el cálculo de la relación planes/población y su comparación con la media y desviación estándar.\n",
    "\n",
    "Preguntas al negocio:\n",
    "* ¿Cómo manejar áreas de servicio con poblaciones extremadamente pequeñas o grandes?\n",
    "\n",
    "Análisis 4.a: Evolución de los Costos y Tipos de Beneficios a lo Largo del Tiempo\n",
    "Con las tablas planes_beneficio y tipos_beneficio y las columnas IdTipoBeneficio_T, Nombre, IdProveedor_T, Fecha, valorCopago, valorCoseguro\n",
    "\n",
    "Análisis 4.b: Identificar Tipos de Beneficios que Han Aumentado o Disminuido Costos\n",
    "Es posible con las mismas columnas, añadiendo el cálculo del cambio en los costos al inicio y al final del rango de fechas.\n",
    "\n",
    "Ajustes convenientes:\n",
    "Se deben especificar los tipos de beneficios para el análisis."
   ]
  },
  {
   "cell_type": "code",
   "execution_count": null,
   "id": "5e49aa8f",
   "metadata": {},
   "outputs": [],
   "source": []
  }
 ],
 "metadata": {
  "kernelspec": {
   "display_name": "Python 3 (ipykernel)",
   "language": "python",
   "name": "python3"
  },
  "language_info": {
   "codemirror_mode": {
    "name": "ipython",
    "version": 3
   },
   "file_extension": ".py",
   "mimetype": "text/x-python",
   "name": "python",
   "nbconvert_exporter": "python",
   "pygments_lexer": "ipython3",
   "version": "3.7.13"
  }
 },
 "nbformat": 4,
 "nbformat_minor": 5
}
